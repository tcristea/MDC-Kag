{
 "cells": [
  {
   "cell_type": "markdown",
   "metadata": {},
   "source": "# 📈 Inference Pipeline (No GROBID)\n\nThis notebook:\n- Loads your trained classifier (`saved_model`)\n- Reads PDFs directly via Marker-PDF\n- Predicts `type`\n- Extracts `dataset_id` using regex\n- Produces `submission.csv`\n\n**Note:** No GROBID needed."
  },
  {
   "cell_type": "code",
   "metadata": {},
   "source": [
    "# 📚 Imports\n",
    "import re\n",
    "import os\n",
    "from marker.converters.pdf import PdfConverter\n",
    "from marker.models import create_model_dict\n",
    "from marker.output import text_from_rendered\n",
    "import pandas as pd\n",
    "from glob import glob\n",
    "from tqdm import tqdm\n",
    "from transformers import AutoTokenizer, AutoModelForSequenceClassification\n",
    "import torch"
   ]
  },
  {
   "cell_type": "code",
   "metadata": {},
   "source": [
    "# 🧠 Load model and tokenizer\n",
    "model_path = \"/kaggle/input/makedatacount-mixed-train/saved_model_dual_text\"\n",
    "token_path = model_path\n",
    "\n",
    "tokenizer = AutoTokenizer.from_pretrained(token_path)\n",
    "model = AutoModelForSequenceClassification.from_pretrained(model_path)\n",
    "model.eval()\n",
    "device = torch.device(\"cuda\" if torch.cuda.is_available() else \"cpu\")\n",
    "model.to(device)"
   ]
  },
  {
   "cell_type": "code",
   "metadata": {},
   "source": [
    "# 🧩 Utility functions\n",
    "REPO_KEYWORDS = ['zenodo', 'dryad', 'figshare', 'pangaea', 'tcia']\n",
    "\n",
    "def standardize_doi(doi):\n",
    "    doi = str(doi).strip()\n",
    "    if doi.startswith(\"http\"):\n",
    "        return doi.lower()\n",
    "    if doi.startswith(\"doi:\"):\n",
    "        return \"https://doi.org/\" + doi[4:].lower()\n",
    "    if doi.startswith(\"10.\"):\n",
    "        return \"https://doi.org/\" + doi.lower()\n",
    "    return doi.lower()\n",
    "\n",
    "def extract_dataset_dois(text):\n",
    "    text = text.replace('](', '] (').replace(')](', ') (')\n",
    "    url_pattern = r'https?://[^\\s\\)<>\\]]+'\n",
    "    urls = re.findall(url_pattern, text)\n",
    "    doi_pattern = r'\\b10\\.\\d{4,9}/[^\\s\\)<>\\]]+'\n",
    "    bare_dois = re.findall(doi_pattern, text)\n",
    "\n",
    "    candidates = []\n",
    "    for u in urls:\n",
    "        if 'doi.org/10.' in u:\n",
    "            candidates.append(u.rstrip('.,;)]>'))\n",
    "    for d in bare_dois:\n",
    "        candidates.append(standardize_doi(d))\n",
    "\n",
    "    return sorted(set(candidates))\n",
    "\n",
    "def find_accession_ids_in_text(text):\n",
    "    patterns = [\n",
    "        r'\\b(GSE\\d+)\\b',\n",
    "        r'\\b(PRJ[ENAD]\\d+)\\b',\n",
    "        r'\\b(SRP\\d+)\\b',\n",
    "        r'\\b(E-[A-Z]+-\\d+)\\b',\n",
    "        r'\\b(pdb\\s[\\d\\w]+)\\b',\n",
    "        r'\\b(CHEMBL\\d+)\\b'\n",
    "    ]\n",
    "    matches = []\n",
    "    for pat in patterns:\n",
    "        matches.extend(re.findall(pat, text, re.IGNORECASE))\n",
    "    return [m.lower().replace(\" \", \"\") for m in matches]\n",
    "\n",
    "def extract_article_id(filename):\n",
    "    return filename[:-4].replace(\"_\", \"/\")"
   ]
  },
  {
   "cell_type": "code",
   "metadata": {},
   "source": [
    "# 📂 Process PDFs\n",
    "pdf_dir = \"/kaggle/input/make-data-count-finding-data-references/test/PDF\"\n",
    "pdf_files = sorted(glob(os.path.join(pdf_dir, \"*.pdf\")))\n",
    "converter = PdfConverter(artifact_dict=create_model_dict(device='cuda:0'))\n",
    "\n",
    "rows = []\n",
    "def extract_text_from_pdf(file_path):\n",
    "    rendered = converter(file_path)\n",
    "    text, _, _ = text_from_rendered(rendered)\n",
    "    return text"
   ]
  },
  {
   "cell_type": "code",
   "metadata": {},
   "source": [
    "for pdf_path in tqdm(pdf_files):\n",
    "    filename = os.path.basename(pdf_path)\n",
    "    article_id = extract_article_id(filename)\n",
    "    text = extract_text_from_pdf(pdf_path)\n",
    "    rows.append({\"article_id\": article_id, \"text\": text})"
   ]
  },
  {
   "cell_type": "code",
   "metadata": {},
   "source": [
    "# 🔮 Predict type\n",
    "label_map = {0: \"Primary\", 1: \"Secondary\", 2: \"Missing\"}\n",
    "batch_size = 8\n",
    "preds = []\n",
    "\n",
    "for i in tqdm(range(0, len(rows), batch_size)):\n",
    "    batch_texts = [r[\"text\"] for r in rows[i:i+batch_size]]\n",
    "    enc = tokenizer(batch_texts, truncation=True, padding=True, max_length=512, return_tensors=\"pt\").to(device)\n",
    "    with torch.no_grad():\n",
    "        logits = model(**enc).logits\n",
    "        p = torch.argmax(logits, dim=1).cpu().tolist()\n",
    "        preds.extend(p)"
   ]
  },
  {
   "cell_type": "code",
   "metadata": {},
   "source": [
    "# 🏷️ Extract dataset IDs and build results\n",
    "results = []\n",
    "for i, r in enumerate(rows):\n",
    "    t = r[\"text\"]\n",
    "    dois = extract_dataset_dois(t)\n",
    "    accs = find_accession_ids_in_text(t)\n",
    "    dataset_id = dois[0] if dois else (accs[0] if accs else \"\")\n",
    "    results.append({\n",
    "        \"article_id\": r[\"article_id\"],\n",
    "        \"dataset_id\": dataset_id,\n",
    "        \"type\": label_map[preds[i]]\n",
    "    })"
   ]
  },
  {
   "cell_type": "code",
   "metadata": {},
   "source": [
    "# 📝 Build submission DataFrame\n",
    "df = pd.DataFrame(results)\n",
    "df['article_id'] = df['article_id'].str.replace('/','_')\n",
    "df = df[df['type'] != 'Missing'].reset_index(drop=True)\n",
    "df = df.drop_duplicates(subset=['article_id', 'dataset_id'])\n",
    "df.insert(0, \"row_id\", range(len(df)))\n",
    "df.to_csv(\"submission.csv\", index=False)"
   ]
  }
 ],
 "metadata": {
  "kernelspec": {
   "display_name": "Python 3",
   "language": "python",
   "name": "python3"
  },
  "language_info": {
   "name": "python",
   "version": "3.11"
  }
 },
 "nbformat": 4,
 "nbformat_minor": 2
}
