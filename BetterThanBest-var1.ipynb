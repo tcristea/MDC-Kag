{
 "cells": [
  {
   "cell_type": "code",
   "execution_count": 1,
   "id": "db46e9a3",
   "metadata": {
    "_cell_guid": "eae4b221-a822-451f-8f4b-134c3f9bfe2c",
    "_uuid": "b1883565-f717-4130-a662-5bb541f45ea1",
    "collapsed": false,
    "execution": {
     "iopub.execute_input": "2025-07-31T20:28:26.997262Z",
     "iopub.status.busy": "2025-07-31T20:28:26.997059Z",
     "iopub.status.idle": "2025-07-31T20:28:27.929494Z",
     "shell.execute_reply": "2025-07-31T20:28:27.928804Z"
    },
    "jupyter": {
     "outputs_hidden": false
    },
    "papermill": {
     "duration": 0.942197,
     "end_time": "2025-07-31T20:28:27.930773",
     "exception": false,
     "start_time": "2025-07-31T20:28:26.988576",
     "status": "completed"
    },
    "tags": []
   },
   "outputs": [
    {
     "name": "stdout",
     "output_type": "stream",
     "text": [
      "\u001b[2mUsing Python 3.11.13 environment at: /usr\u001b[0m\r\n",
      "\u001b[2K\u001b[2mResolved \u001b[1m1 package\u001b[0m \u001b[2min 40ms\u001b[0m\u001b[0m\r\n",
      "\u001b[2K\u001b[2mPrepared \u001b[1m1 package\u001b[0m \u001b[2min 384ms\u001b[0m\u001b[0m\r\n",
      "\u001b[2K\u001b[2mInstalled \u001b[1m1 package\u001b[0m \u001b[2min 10ms\u001b[0m\u001b[0m\r\n",
      " \u001b[32m+\u001b[39m \u001b[1mpymupdf\u001b[0m\u001b[2m==1.26.1\u001b[0m\r\n"
     ]
    }
   ],
   "source": [
    "# ! uv pip uninstall --system 'tensorflow'\n",
    "! uv pip install --system --no-index --find-links='/kaggle/input/latest-mdc-whls/whls' 'pymupdf' # 'vllm' 'triton' 'logits-processor-zoo' 'numpy<2'"
   ]
  },
  {
   "cell_type": "code",
   "execution_count": 2,
   "id": "18a3bd0e",
   "metadata": {
    "execution": {
     "iopub.execute_input": "2025-07-31T20:28:27.945737Z",
     "iopub.status.busy": "2025-07-31T20:28:27.945498Z",
     "iopub.status.idle": "2025-07-31T20:29:14.070947Z",
     "shell.execute_reply": "2025-07-31T20:29:14.069997Z"
    },
    "papermill": {
     "duration": 46.134189,
     "end_time": "2025-07-31T20:29:14.072245",
     "exception": false,
     "start_time": "2025-07-31T20:28:27.938056",
     "status": "completed"
    },
    "tags": []
   },
   "outputs": [
    {
     "name": "stdout",
     "output_type": "stream",
     "text": [
      "\u001b[2mUsing Python 3.11.13 environment at: /usr\u001b[0m\r\n",
      "\u001b[2K\u001b[2mResolved \u001b[1m145 packages\u001b[0m \u001b[2min 338ms\u001b[0m\u001b[0m\r\n",
      "\u001b[2K\u001b[2mPrepared \u001b[1m54 packages\u001b[0m \u001b[2min 38.30s\u001b[0m\u001b[0m\r\n",
      "\u001b[2mUninstalled \u001b[1m23 packages\u001b[0m \u001b[2min 1.46s\u001b[0m\u001b[0m\r\n",
      "\u001b[2K\u001b[2mInstalled \u001b[1m54 packages\u001b[0m \u001b[2min 353ms\u001b[0m\u001b[0m\r\n",
      " \u001b[32m+\u001b[39m \u001b[1mairportsdata\u001b[0m\u001b[2m==20250706\u001b[0m\r\n",
      " \u001b[32m+\u001b[39m \u001b[1mastor\u001b[0m\u001b[2m==0.8.1\u001b[0m\r\n",
      " \u001b[32m+\u001b[39m \u001b[1mblake3\u001b[0m\u001b[2m==1.0.5\u001b[0m\r\n",
      " \u001b[32m+\u001b[39m \u001b[1mcompressed-tensors\u001b[0m\u001b[2m==0.10.2\u001b[0m\r\n",
      " \u001b[32m+\u001b[39m \u001b[1mdepyf\u001b[0m\u001b[2m==0.18.0\u001b[0m\r\n",
      " \u001b[32m+\u001b[39m \u001b[1mdiskcache\u001b[0m\u001b[2m==5.6.3\u001b[0m\r\n",
      " \u001b[32m+\u001b[39m \u001b[1mfastapi-cli\u001b[0m\u001b[2m==0.0.8\u001b[0m\r\n",
      " \u001b[32m+\u001b[39m \u001b[1mfastapi-cloud-cli\u001b[0m\u001b[2m==0.1.1\u001b[0m\r\n",
      " \u001b[32m+\u001b[39m \u001b[1mgguf\u001b[0m\u001b[2m==0.17.1\u001b[0m\r\n",
      " \u001b[32m+\u001b[39m \u001b[1mhttptools\u001b[0m\u001b[2m==0.6.4\u001b[0m\r\n",
      " \u001b[31m-\u001b[39m \u001b[1mhttpx\u001b[0m\u001b[2m==0.28.1\u001b[0m\r\n",
      " \u001b[32m+\u001b[39m \u001b[1mhttpx\u001b[0m\u001b[2m==0.27.2\u001b[0m\r\n",
      " \u001b[32m+\u001b[39m \u001b[1minteregular\u001b[0m\u001b[2m==0.3.3\u001b[0m\r\n",
      " \u001b[32m+\u001b[39m \u001b[1mlark\u001b[0m\u001b[2m==1.2.2\u001b[0m\r\n",
      " \u001b[32m+\u001b[39m \u001b[1mllguidance\u001b[0m\u001b[2m==0.7.30\u001b[0m\r\n",
      " \u001b[31m-\u001b[39m \u001b[1mllvmlite\u001b[0m\u001b[2m==0.43.0\u001b[0m\r\n",
      " \u001b[32m+\u001b[39m \u001b[1mllvmlite\u001b[0m\u001b[2m==0.44.0\u001b[0m\r\n",
      " \u001b[32m+\u001b[39m \u001b[1mlm-format-enforcer\u001b[0m\u001b[2m==0.10.11\u001b[0m\r\n",
      " \u001b[32m+\u001b[39m \u001b[1mmistral-common\u001b[0m\u001b[2m==1.6.3\u001b[0m\r\n",
      " \u001b[32m+\u001b[39m \u001b[1mmsgspec\u001b[0m\u001b[2m==0.19.0\u001b[0m\r\n",
      " \u001b[31m-\u001b[39m \u001b[1mnumba\u001b[0m\u001b[2m==0.60.0\u001b[0m\r\n",
      " \u001b[32m+\u001b[39m \u001b[1mnumba\u001b[0m\u001b[2m==0.61.2\u001b[0m\r\n",
      " \u001b[31m-\u001b[39m \u001b[1mnvidia-cublas-cu12\u001b[0m\u001b[2m==12.5.3.2\u001b[0m\r\n",
      " \u001b[32m+\u001b[39m \u001b[1mnvidia-cublas-cu12\u001b[0m\u001b[2m==12.6.4.1\u001b[0m\r\n",
      " \u001b[31m-\u001b[39m \u001b[1mnvidia-cuda-cupti-cu12\u001b[0m\u001b[2m==12.5.82\u001b[0m\r\n",
      " \u001b[32m+\u001b[39m \u001b[1mnvidia-cuda-cupti-cu12\u001b[0m\u001b[2m==12.6.80\u001b[0m\r\n",
      " \u001b[31m-\u001b[39m \u001b[1mnvidia-cuda-nvrtc-cu12\u001b[0m\u001b[2m==12.5.82\u001b[0m\r\n",
      " \u001b[32m+\u001b[39m \u001b[1mnvidia-cuda-nvrtc-cu12\u001b[0m\u001b[2m==12.6.77\u001b[0m\r\n",
      " \u001b[31m-\u001b[39m \u001b[1mnvidia-cuda-runtime-cu12\u001b[0m\u001b[2m==12.5.82\u001b[0m\r\n",
      " \u001b[32m+\u001b[39m \u001b[1mnvidia-cuda-runtime-cu12\u001b[0m\u001b[2m==12.6.77\u001b[0m\r\n",
      " \u001b[31m-\u001b[39m \u001b[1mnvidia-cudnn-cu12\u001b[0m\u001b[2m==9.3.0.75\u001b[0m\r\n",
      " \u001b[32m+\u001b[39m \u001b[1mnvidia-cudnn-cu12\u001b[0m\u001b[2m==9.5.1.17\u001b[0m\r\n",
      " \u001b[31m-\u001b[39m \u001b[1mnvidia-cufft-cu12\u001b[0m\u001b[2m==11.2.3.61\u001b[0m\r\n",
      " \u001b[32m+\u001b[39m \u001b[1mnvidia-cufft-cu12\u001b[0m\u001b[2m==11.3.0.4\u001b[0m\r\n",
      " \u001b[32m+\u001b[39m \u001b[1mnvidia-cufile-cu12\u001b[0m\u001b[2m==1.11.1.6\u001b[0m\r\n",
      " \u001b[31m-\u001b[39m \u001b[1mnvidia-curand-cu12\u001b[0m\u001b[2m==10.3.6.82\u001b[0m\r\n",
      " \u001b[32m+\u001b[39m \u001b[1mnvidia-curand-cu12\u001b[0m\u001b[2m==10.3.7.77\u001b[0m\r\n",
      " \u001b[31m-\u001b[39m \u001b[1mnvidia-cusolver-cu12\u001b[0m\u001b[2m==11.6.3.83\u001b[0m\r\n",
      " \u001b[32m+\u001b[39m \u001b[1mnvidia-cusolver-cu12\u001b[0m\u001b[2m==11.7.1.2\u001b[0m\r\n",
      " \u001b[31m-\u001b[39m \u001b[1mnvidia-cusparse-cu12\u001b[0m\u001b[2m==12.5.1.3\u001b[0m\r\n",
      " \u001b[32m+\u001b[39m \u001b[1mnvidia-cusparse-cu12\u001b[0m\u001b[2m==12.5.4.2\u001b[0m\r\n",
      " \u001b[31m-\u001b[39m \u001b[1mnvidia-cusparselt-cu12\u001b[0m\u001b[2m==0.6.2\u001b[0m\r\n",
      " \u001b[32m+\u001b[39m \u001b[1mnvidia-cusparselt-cu12\u001b[0m\u001b[2m==0.6.3\u001b[0m\r\n",
      " \u001b[31m-\u001b[39m \u001b[1mnvidia-nccl-cu12\u001b[0m\u001b[2m==2.21.5\u001b[0m\r\n",
      " \u001b[32m+\u001b[39m \u001b[1mnvidia-nccl-cu12\u001b[0m\u001b[2m==2.26.2\u001b[0m\r\n",
      " \u001b[31m-\u001b[39m \u001b[1mnvidia-nvjitlink-cu12\u001b[0m\u001b[2m==12.5.82\u001b[0m\r\n",
      " \u001b[32m+\u001b[39m \u001b[1mnvidia-nvjitlink-cu12\u001b[0m\u001b[2m==12.6.85\u001b[0m\r\n",
      " \u001b[31m-\u001b[39m \u001b[1mnvidia-nvtx-cu12\u001b[0m\u001b[2m==12.4.127\u001b[0m\r\n",
      " \u001b[32m+\u001b[39m \u001b[1mnvidia-nvtx-cu12\u001b[0m\u001b[2m==12.6.77\u001b[0m\r\n",
      " \u001b[31m-\u001b[39m \u001b[1mopenai\u001b[0m\u001b[2m==1.91.0\u001b[0m\r\n",
      " \u001b[32m+\u001b[39m \u001b[1mopenai\u001b[0m\u001b[2m==1.90.0\u001b[0m\r\n",
      " \u001b[32m+\u001b[39m \u001b[1moutlines\u001b[0m\u001b[2m==0.1.11\u001b[0m\r\n",
      " \u001b[32m+\u001b[39m \u001b[1moutlines-core\u001b[0m\u001b[2m==0.1.26\u001b[0m\r\n",
      " \u001b[32m+\u001b[39m \u001b[1mpartial-json-parser\u001b[0m\u001b[2m==0.2.1.1.post6\u001b[0m\r\n",
      " \u001b[32m+\u001b[39m \u001b[1mprometheus-fastapi-instrumentator\u001b[0m\u001b[2m==7.1.0\u001b[0m\r\n",
      " \u001b[32m+\u001b[39m \u001b[1mpybase64\u001b[0m\u001b[2m==1.4.1\u001b[0m\r\n",
      " \u001b[32m+\u001b[39m \u001b[1mpycountry\u001b[0m\u001b[2m==24.6.1\u001b[0m\r\n",
      " \u001b[32m+\u001b[39m \u001b[1mpython-dotenv\u001b[0m\u001b[2m==1.1.1\u001b[0m\r\n",
      " \u001b[31m-\u001b[39m \u001b[1mpyzmq\u001b[0m\u001b[2m==24.0.1\u001b[0m\r\n",
      " \u001b[32m+\u001b[39m \u001b[1mpyzmq\u001b[0m\u001b[2m==27.0.0\u001b[0m\r\n",
      " \u001b[32m+\u001b[39m \u001b[1mrich-toolkit\u001b[0m\u001b[2m==0.14.8\u001b[0m\r\n",
      " \u001b[32m+\u001b[39m \u001b[1mrignore\u001b[0m\u001b[2m==0.5.1\u001b[0m\r\n",
      " \u001b[31m-\u001b[39m \u001b[1msympy\u001b[0m\u001b[2m==1.13.1\u001b[0m\r\n",
      " \u001b[32m+\u001b[39m \u001b[1msympy\u001b[0m\u001b[2m==1.14.0\u001b[0m\r\n",
      " \u001b[31m-\u001b[39m \u001b[1mtorch\u001b[0m\u001b[2m==2.6.0+cu124 (from https://download.pytorch.org/whl/cu124/torch-2.6.0%2Bcu124-cp311-cp311-linux_x86_64.whl)\u001b[0m\r\n",
      " \u001b[32m+\u001b[39m \u001b[1mtorch\u001b[0m\u001b[2m==2.7.0\u001b[0m\r\n",
      " \u001b[31m-\u001b[39m \u001b[1mtorchaudio\u001b[0m\u001b[2m==2.6.0+cu124 (from https://download.pytorch.org/whl/cu124/torchaudio-2.6.0%2Bcu124-cp311-cp311-linux_x86_64.whl)\u001b[0m\r\n",
      " \u001b[32m+\u001b[39m \u001b[1mtorchaudio\u001b[0m\u001b[2m==2.7.0\u001b[0m\r\n",
      " \u001b[31m-\u001b[39m \u001b[1mtorchvision\u001b[0m\u001b[2m==0.21.0+cu124 (from https://download.pytorch.org/whl/cu124/torchvision-0.21.0%2Bcu124-cp311-cp311-linux_x86_64.whl)\u001b[0m\r\n",
      " \u001b[32m+\u001b[39m \u001b[1mtorchvision\u001b[0m\u001b[2m==0.22.0\u001b[0m\r\n",
      " \u001b[31m-\u001b[39m \u001b[1mtriton\u001b[0m\u001b[2m==3.2.0\u001b[0m\r\n",
      " \u001b[32m+\u001b[39m \u001b[1mtriton\u001b[0m\u001b[2m==3.3.0\u001b[0m\r\n",
      " \u001b[32m+\u001b[39m \u001b[1muvloop\u001b[0m\u001b[2m==0.21.0\u001b[0m\r\n",
      " \u001b[32m+\u001b[39m \u001b[1mvllm\u001b[0m\u001b[2m==0.9.2\u001b[0m\r\n",
      " \u001b[32m+\u001b[39m \u001b[1mwatchfiles\u001b[0m\u001b[2m==1.1.0\u001b[0m\r\n",
      " \u001b[32m+\u001b[39m \u001b[1mxformers\u001b[0m\u001b[2m==0.0.30\u001b[0m\r\n",
      " \u001b[32m+\u001b[39m \u001b[1mxgrammar\u001b[0m\u001b[2m==0.1.19\u001b[0m\r\n",
      "\u001b[2mUsing Python 3.11.13 environment at: /usr\u001b[0m\r\n",
      "\u001b[2K\u001b[2mResolved \u001b[1m54 packages\u001b[0m \u001b[2min 17ms\u001b[0m\u001b[0m\r\n",
      "\u001b[2K\u001b[2mPrepared \u001b[1m1 package\u001b[0m \u001b[2min 7ms\u001b[0m\u001b[0m\r\n",
      "\u001b[2K\u001b[2mInstalled \u001b[1m1 package\u001b[0m \u001b[2min 1ms\u001b[0m\u001b[0m\r\n",
      " \u001b[32m+\u001b[39m \u001b[1mlogits-processor-zoo\u001b[0m\u001b[2m==0.1.10\u001b[0m\r\n",
      "\u001b[2mUsing Python 3.11.13 environment at: /usr\u001b[0m\r\n",
      "\u001b[2K\u001b[2mResolved \u001b[1m1 package\u001b[0m \u001b[2min 12ms\u001b[0m\u001b[0m\r\n",
      "\u001b[2K\u001b[2mPrepared \u001b[1m1 package\u001b[0m \u001b[2min 4.73s\u001b[0m\u001b[0m\r\n",
      "\u001b[2mUninstalled \u001b[1m1 package\u001b[0m \u001b[2min 7ms\u001b[0m\u001b[0m\r\n",
      "\u001b[2K\u001b[2mInstalled \u001b[1m1 package\u001b[0m \u001b[2min 11ms\u001b[0m\u001b[0m\r\n",
      " \u001b[31m-\u001b[39m \u001b[1mtriton\u001b[0m\u001b[2m==3.3.0\u001b[0m\r\n",
      " \u001b[32m+\u001b[39m \u001b[1mtriton\u001b[0m\u001b[2m==3.2.0\u001b[0m\r\n"
     ]
    }
   ],
   "source": [
    "# ! uv pip install /kaggle/input/mdcfitz/pymupdf-1.26.3-cp39-abi3-manylinux_2_28_x86_64.whl\n",
    "! uv pip install vllm --no-index --find-links file:///kaggle/input/mdcllm\n",
    "! uv pip install logits-processor-zoo==0.1.10 --no-index --find-links file:///kaggle/input/mdcllm\n",
    "! uv pip install triton==3.2.0 --no-index --find-links file:///kaggle/input/mdcllm"
   ]
  },
  {
   "cell_type": "code",
   "execution_count": 3,
   "id": "d2070ec3",
   "metadata": {
    "execution": {
     "iopub.execute_input": "2025-07-31T20:29:14.106600Z",
     "iopub.status.busy": "2025-07-31T20:29:14.106356Z",
     "iopub.status.idle": "2025-07-31T20:29:14.225295Z",
     "shell.execute_reply": "2025-07-31T20:29:14.224315Z"
    },
    "papermill": {
     "duration": 0.136916,
     "end_time": "2025-07-31T20:29:14.226431",
     "exception": false,
     "start_time": "2025-07-31T20:29:14.089515",
     "status": "completed"
    },
    "tags": []
   },
   "outputs": [],
   "source": [
    "! mkdir -p /tmp/src"
   ]
  },
  {
   "cell_type": "code",
   "execution_count": 4,
   "id": "9195ea93",
   "metadata": {
    "_cell_guid": "34135540-31fa-4d24-8934-acb1e0711a4f",
    "_uuid": "92f33014-02d3-41cb-b906-ffeb89a3f353",
    "collapsed": false,
    "execution": {
     "iopub.execute_input": "2025-07-31T20:29:14.258996Z",
     "iopub.status.busy": "2025-07-31T20:29:14.258737Z",
     "iopub.status.idle": "2025-07-31T20:29:14.265503Z",
     "shell.execute_reply": "2025-07-31T20:29:14.264929Z"
    },
    "jupyter": {
     "outputs_hidden": false
    },
    "papermill": {
     "duration": 0.024392,
     "end_time": "2025-07-31T20:29:14.266524",
     "exception": false,
     "start_time": "2025-07-31T20:29:14.242132",
     "status": "completed"
    },
    "tags": []
   },
   "outputs": [
    {
     "name": "stdout",
     "output_type": "stream",
     "text": [
      "Writing /tmp/src/helpers.py\n"
     ]
    }
   ],
   "source": [
    "%%writefile /tmp/src/helpers.py\n",
    "import logging, os, kagglehub, inspect\n",
    "from pathlib import Path\n",
    "import polars as pl\n",
    "\n",
    "os.environ[\"TOKENIZERS_PARALLELISM\"]=\"False\"\n",
    "IS_KAGGLE_ENV = sum(['KAGGLE' in k for k in os.environ]) > 0\n",
    "# os.environ[\"KAGGLE_IS_COMPETITION_RERUN\"] = \"1\"\n",
    "\n",
    "IS_KAGGLE_SUBMISSION = bool(os.getenv(\"KAGGLE_IS_COMPETITION_RERUN\"))\n",
    "\n",
    "COMP_DIR = Path(('/kaggle/input/make-data-count-finding-data-references' if IS_KAGGLE_SUBMISSION else kagglehub.competition_download('make-data-count-finding-data-references')))\n",
    "PDF_DIR = COMP_DIR / ('test' if IS_KAGGLE_SUBMISSION else 'train') / 'PDF'\n",
    "WORKING_DIR = Path(('/kaggle/working/' if IS_KAGGLE_ENV else '.working/'))\n",
    "\n",
    "DOI_LINK = 'https://doi.org/'\n",
    "\n",
    "DEFAULT_LOG_LEVEL = os.getenv(\"LOG_LEVEL\", \"DEBUG\").upper() if not IS_KAGGLE_SUBMISSION else \"WARNING\"\n",
    "LOG_FILE_PATH = os.getenv(\"LOG_FILE\", \"logs/project.log\")\n",
    "LOG_DIR = Path(LOG_FILE_PATH).parent\n",
    "\n",
    "LOG_DIR.mkdir(parents=True, exist_ok=True)\n",
    "\n",
    "LOG_FORMAT = \"%(levelname)s %(asctime)s  [%(filename)s:%(lineno)d - %(funcName)s()] %(message)s\"\n",
    "LOG_DATEFMT = \"%Y-%m-%d %H:%M:%S\"\n",
    "\n",
    "def get_logger(name=None):\n",
    "    if name is None:\n",
    "        frame = inspect.currentframe()\n",
    "        if frame is None or frame.f_back is None:\n",
    "            name = \"__main__\"\n",
    "        else:\n",
    "            name = frame.f_back.f_globals.get(\"__name__\", \"__main__\")\n",
    "\n",
    "    logger = logging.getLogger(name)\n",
    "\n",
    "    if not logger.handlers:\n",
    "        logger.setLevel(DEFAULT_LOG_LEVEL)\n",
    "        formatter = logging.Formatter(fmt=LOG_FORMAT, datefmt=LOG_DATEFMT)\n",
    "        ch = logging.StreamHandler()\n",
    "        ch.setLevel(DEFAULT_LOG_LEVEL)\n",
    "        ch.setFormatter(formatter)\n",
    "        fh = logging.FileHandler(LOG_FILE_PATH)\n",
    "        fh.setLevel(DEFAULT_LOG_LEVEL)\n",
    "        fh.setFormatter(formatter)\n",
    "        logger.addHandler(ch)\n",
    "        logger.addHandler(fh)\n",
    "        logger.propagate = False\n",
    "    return logger\n",
    "\n",
    "def is_doi_link(name: str) -> pl.Expr:\n",
    "    return pl.col(name).str.starts_with(DOI_LINK)\n",
    "\n",
    "def string_normalization(name: str) -> pl.Expr:\n",
    "    return pl.col(name).str.normalize(\"NFKC\").str.replace_all(r\"[^\\p{Ascii}]\", '').str.replace_all(r\"https?://zenodo\\.org/record/(\\d+)\", r\" 10.5281/zenodo.$1 \")\n",
    "\n",
    "def get_df(parse_dir: str):\n",
    "    records = []\n",
    "    txt_files = list(Path(parse_dir).glob('*.txt'))\n",
    "    for txt_file in txt_files:\n",
    "        id_ = txt_file.stem\n",
    "        with open(txt_file, 'r') as f:\n",
    "            text = f.read()\n",
    "        records.append({'article_id': id_, 'text': text})\n",
    "    return pl.DataFrame(records).with_columns(string_normalization('text').alias('text'))\n",
    "\n",
    "def assume_type(df: pl.DataFrame) -> pl.DataFrame:\n",
    "    return (\n",
    "        df.with_columns(pl.when(is_doi_link('dataset_id').or_(pl.col('dataset_id').str.starts_with('SAMN'))).then(pl.lit('Primary')).otherwise(pl.lit('Secondary')).alias('type'))\n",
    "    )\n",
    "\n",
    "def score(df, gt, on, tag='all'):\n",
    "    hits = gt.join(df, on=on)\n",
    "    tp = hits.height\n",
    "    fp = df.height - tp\n",
    "    fn = gt.height - tp\n",
    "    f1 = 2 * tp / (2 * tp + fp + fn) if (2 * tp + fp + fn) != 0 else 0.0\n",
    "    return f\"{tag} - f1: {f1:.4f} [{tp}/{fp}/{fn}]\"\n",
    "\n",
    "def evaluate(df, on=['article_id', 'dataset_id']):\n",
    "    gt = pl.read_csv(COMP_DIR/'train_labels.csv').filter(pl.col('type')!='Missing')\n",
    "    return (\n",
    "        score(df, gt, on),\n",
    "        score(df.filter(is_doi_link('dataset_id')), gt.filter(is_doi_link('dataset_id')), on, 'doi'),\n",
    "        score(df.filter(~is_doi_link('dataset_id')), gt.filter(~is_doi_link('dataset_id')), on, 'acc'),\n",
    "    )"
   ]
  },
  {
   "cell_type": "code",
   "execution_count": 5,
   "id": "de94ab27",
   "metadata": {
    "_cell_guid": "98be0899-3cad-423b-a3db-313209068df0",
    "_uuid": "84859532-6acd-4011-b783-d0d24257a19b",
    "collapsed": false,
    "execution": {
     "iopub.execute_input": "2025-07-31T20:29:14.298547Z",
     "iopub.status.busy": "2025-07-31T20:29:14.298375Z",
     "iopub.status.idle": "2025-07-31T20:29:14.302883Z",
     "shell.execute_reply": "2025-07-31T20:29:14.302096Z"
    },
    "jupyter": {
     "outputs_hidden": false
    },
    "papermill": {
     "duration": 0.021776,
     "end_time": "2025-07-31T20:29:14.303947",
     "exception": false,
     "start_time": "2025-07-31T20:29:14.282171",
     "status": "completed"
    },
    "tags": []
   },
   "outputs": [
    {
     "name": "stdout",
     "output_type": "stream",
     "text": [
      "Writing /tmp/src/parse.py\n"
     ]
    }
   ],
   "source": [
    "%%writefile /tmp/src/parse.py\n",
    "import argparse\n",
    "from pathlib import Path\n",
    "import pymupdf\n",
    "from helpers import get_logger, PDF_DIR\n",
    "\n",
    "l = get_logger()\n",
    "\n",
    "def pdf_to_txt(output_dir: Path):\n",
    "    output_dir.mkdir(parents=True, exist_ok=True)\n",
    "    pdf_files = list(PDF_DIR.glob(\"*.pdf\")) + list(PDF_DIR.glob(\"*.PDF\"))\n",
    "    existing_txt_files = {f.stem for f in output_dir.glob(\"*.txt\")}\n",
    "    for pdf_file in pdf_files:\n",
    "        txt_file = output_dir / f\"{pdf_file.stem}.txt\"\n",
    "        if pdf_file.stem in existing_txt_files:\n",
    "            continue\n",
    "        try:\n",
    "            text = \"\"\n",
    "            with pymupdf.open(pdf_file) as doc:\n",
    "                for page in doc:\n",
    "                    text += page.get_text()\n",
    "            txt_file.write_text(text, encoding='utf-8')\n",
    "        except Exception:\n",
    "            pass\n",
    "\n",
    "def main():\n",
    "    parser = argparse.ArgumentParser()\n",
    "    parser.add_argument('output_dir', type=Path, help='Directory to save text files')\n",
    "    args = parser.parse_args()\n",
    "    pdf_to_txt(args.output_dir)\n",
    "\n",
    "if __name__ == \"__main__\":\n",
    "    main()"
   ]
  },
  {
   "cell_type": "code",
   "execution_count": 6,
   "id": "0cba4ccd",
   "metadata": {
    "_cell_guid": "01632e8b-2a68-4dec-9606-f91214a8c020",
    "_uuid": "5210e49f-e5ab-45c6-b673-f0bd08dc1877",
    "collapsed": false,
    "execution": {
     "iopub.execute_input": "2025-07-31T20:29:14.336260Z",
     "iopub.status.busy": "2025-07-31T20:29:14.336068Z",
     "iopub.status.idle": "2025-07-31T20:29:14.340584Z",
     "shell.execute_reply": "2025-07-31T20:29:14.340012Z"
    },
    "jupyter": {
     "outputs_hidden": false
    },
    "papermill": {
     "duration": 0.022003,
     "end_time": "2025-07-31T20:29:14.341537",
     "exception": false,
     "start_time": "2025-07-31T20:29:14.319534",
     "status": "completed"
    },
    "tags": []
   },
   "outputs": [
    {
     "name": "stdout",
     "output_type": "stream",
     "text": [
      "Writing /tmp/src/check_parse.py\n"
     ]
    }
   ],
   "source": [
    "%%writefile /tmp/src/check_parse.py\n",
    "import polars as pl\n",
    "from pathlib import Path\n",
    "from helpers import *\n",
    "\n",
    "l=get_logger()\n",
    "\n",
    "def gt_dataset_id_normalization(name:str) -> pl.Expr:\n",
    "    return (\n",
    "        pl.when(is_doi_link(name))\n",
    "        .then(pl.col(name).str.split(DOI_LINK).list.last())\n",
    "        .otherwise(name)\n",
    "        .str.to_lowercase()\n",
    "    )\n",
    "\n",
    "def main():\n",
    "    if IS_KAGGLE_SUBMISSION:\n",
    "        l.debug('skipping check_parse for submission')\n",
    "        return\n",
    "    df = (\n",
    "        get_df('/tmp/train_parse')\n",
    "        .with_columns(pl.col('text').str.replace_all('\\s+', '').str.to_lowercase().alias('text'))\n",
    "    )\n",
    "\n",
    "    gt = (\n",
    "        pl.read_csv(COMP_DIR/'train_labels.csv')\n",
    "        .filter(pl.col('article_id').is_in(df['article_id']))\n",
    "        .filter(pl.col('type')!='Missing')\n",
    "        .with_columns(gt_dataset_id_normalization('dataset_id').alias('norm_id'))\n",
    "    )\n",
    "\n",
    "    l.info(f\"pymupdf misses: {gt.join(df, on='article_id').with_columns(hit=pl.col('text').str.contains(pl.col('norm_id'), literal=True)).filter(~pl.col('hit')).height} dataset_ids\")\n",
    "\n",
    "if __name__=='__main__': main()"
   ]
  },
  {
   "cell_type": "code",
   "execution_count": 7,
   "id": "f4cdd6c9",
   "metadata": {
    "_cell_guid": "83084a3e-ab3e-4c24-9045-7bc81df72e34",
    "_uuid": "5a79e391-1a5c-4264-9aa5-747cb657a266",
    "collapsed": false,
    "execution": {
     "iopub.execute_input": "2025-07-31T20:29:14.373995Z",
     "iopub.status.busy": "2025-07-31T20:29:14.373820Z",
     "iopub.status.idle": "2025-07-31T20:29:14.384181Z",
     "shell.execute_reply": "2025-07-31T20:29:14.383428Z"
    },
    "jupyter": {
     "outputs_hidden": false
    },
    "papermill": {
     "duration": 0.027851,
     "end_time": "2025-07-31T20:29:14.385255",
     "exception": false,
     "start_time": "2025-07-31T20:29:14.357404",
     "status": "completed"
    },
    "tags": []
   },
   "outputs": [
    {
     "name": "stdout",
     "output_type": "stream",
     "text": [
      "Writing /tmp/src/getid.py\n"
     ]
    }
   ],
   "source": [
    "%%writefile /tmp/src/getid.py\n",
    "import re\n",
    "import polars as pl\n",
    "from typing import Optional, Tuple\n",
    "\n",
    "from helpers import *\n",
    "\n",
    "COMPILED_PATTERNS = {\n",
    "    'ref_header_patterns': [re.compile(r'\\b(R\\s*E\\s*F\\s*E\\s*R\\s*E\\s*N\\s*C\\s*E\\s*S|BIBLIOGRAPHY|LITERATURE CITED|WORKS CITED|CITED WORKS|ACKNOWLEDGEMENTS)\\b[:\\s]*', re.IGNORECASE)],\n",
    "    'citation_pattern': re.compile(r'^\\s*(\\[\\d+\\]|\\(\\d+\\)|\\d+\\.|\\d+\\)|\\d+(?=\\s|$))\\s*'),\n",
    "    'first_citation_patterns': [\n",
    "        re.compile(r'^\\s*\\[1\\]\\s*'),\n",
    "        re.compile(r'^\\s*\\(1\\)\\s*'),\n",
    "        re.compile(r'^\\s*1\\.\\s*'),\n",
    "        re.compile(r'^\\s*1\\)\\s*'),\n",
    "        re.compile(r'^\\s*1(?=\\s|$)'),\n",
    "    ],\n",
    "}\n",
    "\n",
    "l = get_logger()\n",
    "\n",
    "def find_last_reference_header(text: str, header_patterns: list[re.Pattern]) -> Optional[int]:\n",
    "    last_match_idx = None\n",
    "    for pattern in header_patterns:\n",
    "        matches = list(pattern.finditer(text))\n",
    "        if matches:\n",
    "            last_match_idx = matches[-1].start()\n",
    "    return last_match_idx\n",
    "\n",
    "def find_last_first_citation(text: str) -> Optional[int]:\n",
    "    lines = text.splitlines()\n",
    "    last_match_line = None\n",
    "    for line_num, line in enumerate(lines):\n",
    "        line = line.strip()\n",
    "        for pattern in COMPILED_PATTERNS['first_citation_patterns']:\n",
    "            if pattern.match(line):\n",
    "                next_lines = lines[line_num:line_num+3]\n",
    "                if any(COMPILED_PATTERNS['citation_pattern'].match(l.strip()) for l in next_lines[1:]):\n",
    "                    last_match_line = line_num\n",
    "                break\n",
    "    return last_match_line\n",
    "\n",
    "def find_reference_start(text: str) -> Optional[int]:\n",
    "    lines = text.splitlines()\n",
    "    last_first_citation = find_last_first_citation(text)\n",
    "    if last_first_citation is not None:\n",
    "        return last_first_citation\n",
    "    start_search_idx = int(len(lines) * 0.5)\n",
    "    for i in range(start_search_idx, len(lines)):\n",
    "        line = lines[i].strip()\n",
    "        if COMPILED_PATTERNS['citation_pattern'].match(line):\n",
    "            next_lines = lines[i:i+3]\n",
    "            if sum(1 for l in next_lines if COMPILED_PATTERNS['citation_pattern'].match(l.strip())) >= 2:\n",
    "                for j in range(i, max(-1, i-10), -1):\n",
    "                    if not COMPILED_PATTERNS['citation_pattern'].match(lines[j].strip()):\n",
    "                        return j + 1\n",
    "                return max(0, i-10)\n",
    "    return None\n",
    "\n",
    "def split_text_and_references(text: str) -> Tuple[str, str]:\n",
    "    header_idx = find_last_reference_header(text, COMPILED_PATTERNS['ref_header_patterns'])\n",
    "    if header_idx is not None:\n",
    "        header_idx2 = find_last_reference_header(text[:header_idx].strip(), COMPILED_PATTERNS['ref_header_patterns'])\n",
    "        if header_idx2 is not None:\n",
    "            header_idx3 = find_last_reference_header(text[:header_idx2].strip(), COMPILED_PATTERNS['ref_header_patterns'])\n",
    "            if header_idx3 is not None:\n",
    "                return text[:header_idx3].strip(), text[header_idx3:].strip()\n",
    "            return text[:header_idx2].strip(), text[header_idx2:].strip()\n",
    "        return text[:header_idx].strip(), text[header_idx:].strip()\n",
    "    ref_start_line = find_reference_start(text)\n",
    "    if ref_start_line is not None:\n",
    "        lines = text.splitlines()\n",
    "        body = '\\n'.join(lines[:ref_start_line])\n",
    "        refs = '\\n'.join(lines[ref_start_line:])\n",
    "        return body.strip(), refs.strip()\n",
    "    return text.strip(), ''\n",
    "\n",
    "def get_splits(df: pl.DataFrame) -> pl.DataFrame:\n",
    "    bodies, refs = [], []\n",
    "    for raw_text in df['text']:\n",
    "        main, ref = split_text_and_references(raw_text)\n",
    "        bodies.append(main)\n",
    "        refs.append(ref)\n",
    "    return df.with_columns(pl.Series('body', bodies), pl.Series('ref', refs))\n",
    "\n",
    "def tidy_extraction(df) -> pl.DataFrame:\n",
    "    bad_ids = [f'{DOI_LINK}{e}' for e in ['10.5061/dryad', '10.5281/zenodo', '10.6073/pasta']]\n",
    "\n",
    "    doi_df = (\n",
    "        df.with_columns(pl.col('body').str.extract_all(r'10\\s*\\.\\s*\\d{4,9}\\s*/\\s*\\S+').alias('match'))\n",
    "          .explode('match')\n",
    "          .drop_nulls('match')\n",
    "          .with_columns(\n",
    "              pl.col('match').str.replace_all(r'\\s+', '')\n",
    "                             .str.replace(r'[^A-Za-z0-9]+$', '')\n",
    "                             .str.to_lowercase()\n",
    "                             .alias('dataset_id')\n",
    "          )\n",
    "          .group_by('article_id', 'dataset_id')\n",
    "          .agg('match')\n",
    "          .with_columns((DOI_LINK + pl.col('dataset_id')).alias('dataset_id'))\n",
    "    )\n",
    "\n",
    "    REGEX_IDS = (\n",
    "        r\"(?i)\\b(?:\"\n",
    "        r\"CHEMBL\\d+|\"\n",
    "        r\"E-GEOD-\\d+|E-PROT-\\d+|EMPIAR-\\d+|\"\n",
    "        r\"ENSBTAG\\d+|ENSOARG\\d+|\"\n",
    "        r\"EPI_ISL_\\d{5,}|EPI\\d{6,7}|\"\n",
    "        r\"HPA\\d+|CP\\d{6}|IPR\\d{6}|PF\\d{5}|KX\\d{6}|K0\\d{4}|\"\n",
    "        r\"PRJNA\\d+|PRJEB\\d+|PXD\\d+|SAMN\\d+|\"\n",
    "        r\"GSE\\d+|GSM\\d+|GPL\\d+|\"\n",
    "        r\"E-MTAB-\\d+|E-MEXP-\\d+|\"\n",
    "        r\"PDB\\s?\\w{4}|HMDB\\d+|\"\n",
    "        r\"dryad\\.[^\\s\\\"<>]+|pasta\\/[^\\s\\\"<>]+|\"\n",
    "        r\"(?:SRR|SRX|SRP|ERR|DRR|DRX|DRP|ERP|ERX)\\d+\"\n",
    "        r\")\"\n",
    "    )\n",
    "\n",
    "\n",
    "    acc_df = (\n",
    "        df.with_columns(\n",
    "            pl.col('text').str.extract_all(REGEX_IDS).alias('match')\n",
    "        )\n",
    "        .explode('match')\n",
    "        .drop_nulls('match')\n",
    "        .with_columns(\n",
    "            pl.col('match').str.replace_all(r'\\s+', '')\n",
    "                           .str.replace(r'[^A-Za-z0-9]+$', '')\n",
    "                           .alias('dataset_id')\n",
    "        )\n",
    "        .group_by('article_id', 'dataset_id')\n",
    "        .agg('match')\n",
    "        .with_columns(\n",
    "            pl.when(pl.col('dataset_id').str.starts_with('dryad.'))\n",
    "              .then(f'{DOI_LINK}10.5061/' + pl.col('dataset_id'))\n",
    "              .otherwise('dataset_id')\n",
    "              .alias('dataset_id')\n",
    "        )\n",
    "        .with_columns(\n",
    "            pl.when(pl.col('dataset_id').str.starts_with('pasta/'))\n",
    "              .then(f'{DOI_LINK}10.6073/' + pl.col('dataset_id'))\n",
    "              .otherwise('dataset_id')\n",
    "              .alias('dataset_id')\n",
    "        )\n",
    "    )\n",
    "\n",
    "    df = pl.concat([doi_df, acc_df])\n",
    "\n",
    "    df = (\n",
    "        df.unique(['article_id', 'dataset_id'])  # CHANGED\n",
    "          .filter(~pl.col('article_id').str.replace('_','/').str.contains(pl.col('dataset_id').str.split(DOI_LINK).list.last().str.escape_regex()))\n",
    "          .filter(~pl.col('dataset_id').str.contains(pl.col('article_id').str.replace('_','/').str.escape_regex()))\n",
    "          .filter(~pl.col('dataset_id').str.contains('figshare', literal=True))\n",
    "          .filter(~pl.col('dataset_id').is_in(bad_ids))\n",
    "          .filter(\n",
    "              pl.when(is_doi_link('dataset_id') &\n",
    "                      (pl.col('dataset_id').str.split('/').list.last().str.len_chars() < 5))\n",
    "               .then(False)\n",
    "               .otherwise(True)\n",
    "          )\n",
    "          .with_columns(pl.col('match').list.unique())\n",
    "    )\n",
    "    return df\n",
    "\n",
    "def get_context_window(text: str, substring: str, window: int = 100) -> str:\n",
    "    idx = text.find(substring)\n",
    "    if idx == -1:\n",
    "        raise ValueError\n",
    "    start = max(idx - window, 0)\n",
    "    end = min(idx + len(substring) + window, len(text))\n",
    "    return text[start:end]\n",
    "\n",
    "def get_window_df(text_df, ids_df):\n",
    "    df = ids_df.join(text_df, on='article_id')\n",
    "    windows = []\n",
    "    for text, match_ids in df.select('text', 'match').rows():\n",
    "        windows.append(get_context_window(text, match_ids[0]))\n",
    "    return df.with_columns(pl.Series('window', windows)).select('article_id', 'dataset_id', 'window')\n",
    "\n",
    "def main():\n",
    "    text_df = get_df('/tmp/train_parse')\n",
    "    df = get_splits(text_df)\n",
    "    df = get_splits(text_df)\n",
    "    df.write_parquet(\"/tmp/train_parse_split.parquet\")  # <-- Add this line\n",
    "    df = tidy_extraction(df)\n",
    "    df = get_window_df(text_df, df)\n",
    "    df.write_parquet('/tmp/extracted.parquet')\n",
    "    df = assume_type(df)\n",
    "    df.select(['article_id', 'dataset_id', 'type']).with_row_index(name='row_id').write_csv('/kaggle/working/submission.csv')\n",
    "    if not IS_KAGGLE_SUBMISSION:\n",
    "        results = evaluate(df)\n",
    "        for r in results: l.info(r)\n",
    "        results = evaluate(df, on=['article_id', 'dataset_id', 'type'])\n",
    "        for r in results: l.info(r)\n",
    "\n",
    "if __name__=='__main__': main()"
   ]
  },
  {
   "cell_type": "code",
   "execution_count": 8,
   "id": "de5f990f",
   "metadata": {
    "execution": {
     "iopub.execute_input": "2025-07-31T20:29:14.417727Z",
     "iopub.status.busy": "2025-07-31T20:29:14.417505Z",
     "iopub.status.idle": "2025-07-31T20:29:14.421993Z",
     "shell.execute_reply": "2025-07-31T20:29:14.421435Z"
    },
    "papermill": {
     "duration": 0.021894,
     "end_time": "2025-07-31T20:29:14.423050",
     "exception": false,
     "start_time": "2025-07-31T20:29:14.401156",
     "status": "completed"
    },
    "tags": []
   },
   "outputs": [
    {
     "name": "stdout",
     "output_type": "stream",
     "text": [
      "Writing /tmp/src/addon_fix_broken_dois.py\n"
     ]
    }
   ],
   "source": [
    "%%writefile /tmp/src/addon_fix_broken_dois.py\n",
    "import re\n",
    "import polars as pl\n",
    "from helpers import *\n",
    "\n",
    "l = get_logger()\n",
    "\n",
    "BROKEN_DOI_REGEX = re.compile(r'10\\s*\\.\\s*\\d{4,9}\\s*/\\s*[A-Za-z0-9._;()/:\\-]+', re.IGNORECASE)\n",
    "\n",
    "def normalize_doi(s: str) -> str:\n",
    "    return re.sub(r'[^A-Za-z0-9./-]+', '', s).lower().rstrip('.;:,')\n",
    "\n",
    "def extract_broken_dois(df: pl.DataFrame) -> pl.DataFrame:\n",
    "    l.info(\"Extracting broken DOIs from ref section\")\n",
    "    return (\n",
    "        df.select(['article_id', 'ref'])\n",
    "          .with_columns(\n",
    "              pl.col(\"ref\").map_elements(lambda x: BROKEN_DOI_REGEX.findall(x or ''), return_dtype=pl.List(pl.String)).alias(\"match\")\n",
    "          )\n",
    "          .explode(\"match\")\n",
    "          .drop_nulls(\"match\")\n",
    "          .with_columns(\n",
    "              pl.col(\"match\").map_elements(normalize_doi, return_dtype=pl.String).alias(\"dataset_id\")\n",
    "          )\n",
    "          .filter(pl.col(\"dataset_id\").str.starts_with(\"10.\"))\n",
    "          .group_by(\"article_id\", \"dataset_id\")\n",
    "          .agg(pl.col(\"match\"))\n",
    "          .with_columns((DOI_LINK + pl.col(\"dataset_id\")).alias(\"dataset_id\"))\n",
    "    )\n",
    "\n",
    "def main():\n",
    "    df = pl.read_parquet('/tmp/train_parse_split.parquet')\n",
    "    broken_dois = extract_broken_dois(df)\n",
    "    broken_dois.write_parquet('/tmp/addon_broken_dois.parquet')\n",
    "    l.info(f\"Extracted {broken_dois.shape[0]} broken DOIs\")\n",
    "\n",
    "if __name__ == \"__main__\":\n",
    "    main()"
   ]
  },
  {
   "cell_type": "code",
   "execution_count": 9,
   "id": "51c6ebe3",
   "metadata": {
    "execution": {
     "iopub.execute_input": "2025-07-31T20:29:14.499091Z",
     "iopub.status.busy": "2025-07-31T20:29:14.498833Z",
     "iopub.status.idle": "2025-07-31T20:29:14.503787Z",
     "shell.execute_reply": "2025-07-31T20:29:14.503075Z"
    },
    "papermill": {
     "duration": 0.066051,
     "end_time": "2025-07-31T20:29:14.504991",
     "exception": false,
     "start_time": "2025-07-31T20:29:14.438940",
     "status": "completed"
    },
    "tags": []
   },
   "outputs": [
    {
     "name": "stdout",
     "output_type": "stream",
     "text": [
      "Writing /tmp/src/addon_reference_priority.py\n"
     ]
    }
   ],
   "source": [
    "%%writefile /tmp/src/addon_reference_priority.py\n",
    "import polars as pl\n",
    "from helpers import *\n",
    "\n",
    "l = get_logger()\n",
    "\n",
    "def extract_reference_dois(df: pl.DataFrame) -> pl.DataFrame:\n",
    "    l.info(\"Tagging DOIs from reference section only\")\n",
    "    return (\n",
    "        df.select(['article_id', 'ref'])\n",
    "          .with_columns(\n",
    "              pl.col(\"ref\")\n",
    "              .str.extract_all(r'10\\.\\d{4,9}/\\S+')\n",
    "              .alias(\"match\")\n",
    "          )\n",
    "          .explode(\"match\")\n",
    "          .drop_nulls(\"match\")\n",
    "          .with_columns(\n",
    "              pl.col(\"match\")\n",
    "              .str.replace_all(r'[\\s]+', '')\n",
    "              .str.replace(r'[^A-Za-z0-9./-]+$', '')\n",
    "              .str.to_lowercase()\n",
    "              .alias(\"dataset_id\")\n",
    "          )\n",
    "          .filter(pl.col(\"dataset_id\").str.starts_with(\"10.\"))\n",
    "          .group_by(\"article_id\", \"dataset_id\")\n",
    "          .agg(pl.col(\"match\"))\n",
    "          .with_columns((DOI_LINK + pl.col(\"dataset_id\")).alias(\"dataset_id\"))\n",
    "    )\n",
    "\n",
    "def main():\n",
    "    df = pl.read_parquet('/tmp/train_parse_split.parquet')\n",
    "    ref_dois = extract_reference_dois(df)\n",
    "    ref_dois.write_parquet('/tmp/addon_ref_priority.parquet')\n",
    "    l.info(f\"Extracted {ref_dois.shape[0]} reference-priority DOIs\")\n",
    "\n",
    "if __name__ == \"__main__\":\n",
    "    main()"
   ]
  },
  {
   "cell_type": "code",
   "execution_count": 10,
   "id": "514575d0",
   "metadata": {
    "execution": {
     "iopub.execute_input": "2025-07-31T20:29:14.539009Z",
     "iopub.status.busy": "2025-07-31T20:29:14.538828Z",
     "iopub.status.idle": "2025-07-31T20:29:14.543424Z",
     "shell.execute_reply": "2025-07-31T20:29:14.542727Z"
    },
    "papermill": {
     "duration": 0.023353,
     "end_time": "2025-07-31T20:29:14.544337",
     "exception": false,
     "start_time": "2025-07-31T20:29:14.520984",
     "status": "completed"
    },
    "tags": []
   },
   "outputs": [
    {
     "name": "stdout",
     "output_type": "stream",
     "text": [
      "Writing /tmp/src/merge_augmented_ids.py\n"
     ]
    }
   ],
   "source": [
    "%%writefile /tmp/src/merge_augmented_ids.py\n",
    "import polars as pl\n",
    "\n",
    "def drop_if_exists(df: pl.DataFrame, col: str) -> pl.DataFrame:\n",
    "    return df.drop(col) if col in df.columns else df\n",
    "\n",
    "def align_columns(df: pl.DataFrame, target_columns: list[str]) -> pl.DataFrame:\n",
    "    for col in target_columns:\n",
    "        if col not in df.columns:\n",
    "            df = df.with_columns(pl.lit(None).alias(col))\n",
    "    return df.select(target_columns)\n",
    "\n",
    "# Standard column order\n",
    "target_columns = [\"article_id\", \"dataset_id\", \"window\"]\n",
    "\n",
    "# Load base\n",
    "a = pl.read_parquet(\"/tmp/scibert_predictions.parquet\")\n",
    "a = align_columns(a, target_columns)\n",
    "\n",
    "# Load and align broken DOIs\n",
    "b = pl.read_parquet(\"/tmp/addon_broken_dois.parquet\")\n",
    "b = drop_if_exists(b, \"match\")\n",
    "b = align_columns(b, target_columns)\n",
    "\n",
    "# Merge a + b\n",
    "merged_ab = pl.concat([a, b]).unique(subset=[\"article_id\", \"dataset_id\"])\n",
    "merged_ab.write_parquet(\"/tmp/scibert_predictions.parquet\")\n",
    "\n",
    "# Load and align ref-section DOIs\n",
    "c = pl.read_parquet(\"/tmp/addon_ref_priority.parquet\")\n",
    "c = drop_if_exists(c, \"match\")\n",
    "c = align_columns(c, target_columns)\n",
    "\n",
    "# Final merge\n",
    "final = pl.concat([merged_ab, c]).unique(subset=[\"article_id\", \"dataset_id\"])\n",
    "final = final.filter(pl.col(\"window\").is_not_null())\n",
    "final.write_parquet(\"/tmp/scibert_predictions.parquet\")"
   ]
  },
  {
   "cell_type": "code",
   "execution_count": 11,
   "id": "83b7788c",
   "metadata": {
    "_cell_guid": "af30506a-e45e-4a3b-ba81-23dd154bde8d",
    "_uuid": "94fc4779-0b43-4058-ac64-f54a7ebd8a76",
    "collapsed": false,
    "execution": {
     "iopub.execute_input": "2025-07-31T20:29:14.578520Z",
     "iopub.status.busy": "2025-07-31T20:29:14.578345Z",
     "iopub.status.idle": "2025-07-31T20:29:14.584216Z",
     "shell.execute_reply": "2025-07-31T20:29:14.583447Z"
    },
    "jupyter": {
     "outputs_hidden": false
    },
    "papermill": {
     "duration": 0.024485,
     "end_time": "2025-07-31T20:29:14.585270",
     "exception": false,
     "start_time": "2025-07-31T20:29:14.560785",
     "status": "completed"
    },
    "tags": []
   },
   "outputs": [
    {
     "name": "stdout",
     "output_type": "stream",
     "text": [
      "Writing /tmp/src/llm_validate.py\n"
     ]
    }
   ],
   "source": [
    "%%writefile /tmp/src/llm_validate.py\n",
    "import polars as pl\n",
    "import os\n",
    "\n",
    "from helpers import *\n",
    "\n",
    "l = get_logger()\n",
    "\n",
    "SYS_PROMPT_CLASSIFY_DOI = \"\"\"\n",
    "You are a highly accurate DOI/type classifier. Given a snippet of academic text containing a DOI or accession, choose:\n",
    "\n",
    "  A) Data — the identifier points directly to research data in a repository  \n",
    "  B) Literature — the identifier points to a journal article, book chapter, protocol paper, or other non-data resource  \n",
    "\n",
    "=== Repository Prefixes ===\n",
    "Treat as DATA if the DOI starts with any of:\n",
    "  • 10.5061 (Dryad)  \n",
    "  • 10.5281 (Zenodo)  \n",
    "  • 10.6084 (Figshare)  \n",
    "  • 10.24433/ (Mendeley Data)  \n",
    "  • 10.17632 (Mendeley Data)  \n",
    "  • SRA/E- (e.g. SRP, SRA)  \n",
    "  • PRJNA, PRJEB, PRJDB (NCBI BioProject)  \n",
    "  • PRIDE:PXD (Proteomics)  \n",
    "  • EMBL:E-MTAB, E- (ArrayExpress)  \n",
    "\n",
    "Everything else is LITERATURE unless you see explicit data-repository context (e.g. “deposited in Dryad under DOI…”).\n",
    "\n",
    "=== Few-Shot Examples ===\n",
    "1) “Raw images are stored on Figshare (DOI 10.6084/m9.figshare.1234567).” → A  \n",
    "2) “Sequence reads available under BioProject accession PRJNA765432.” → A  \n",
    "3) “As described in Nature Methods (DOI 10.1038/s41592-020-0793-2).” → B  \n",
    "4) “See Supplementary Data at Zenodo (10.5281/zenodo.987654).” → A  \n",
    "5) “Method details published in J. Proteome Res. DOI: 10.1021/acs.jproteome.0c00845.” → B  \n",
    "6) “Data has been uploaded to Dryad (10.5061/dryad.x1y2z3).” → A  \n",
    "7) “Referenced paper: DOI 10.1101/2020.01.01.123456 (bioRxiv preprint).” → B  \n",
    "8) “Metabolomics data in MetaboLights MTBLS1234.” → A  \n",
    "\n",
    "=== Instructions ===\n",
    "- Use only the identifier itself and its context.  \n",
    "- If the DOI prefix is in the list above, always choose A.  \n",
    "- If it belongs to a known publisher prefix (e.g. 10.1007, 10.1038, 10.1126, 10.1016…), choose B.  \n",
    "- Otherwise, rely on context words (“deposited”, “uploaded”, “archived”) to decide.  \n",
    "- Output exactly one letter: A or B, and nothing else.\n",
    "\"\"\".strip()\n",
    "\n",
    "def build_df():\n",
    "    df = pl.read_parquet('/tmp/extracted.parquet')\n",
    "    df.filter(~is_doi_link('dataset_id')).select('article_id', 'dataset_id').write_csv('/tmp/accid_sub.csv')\n",
    "    return df.filter(is_doi_link('dataset_id'))\n",
    "\n",
    "def build_prompt(tokenizer, df):\n",
    "    prompts = []\n",
    "    for doi, text in df.select('dataset_id', 'window').rows():\n",
    "        messages = [{'role':'system','content': SYS_PROMPT_CLASSIFY_DOI}, {'role':'user', 'content': text}]\n",
    "        prompts.append(tokenizer.apply_chat_template(messages, add_generation_prompt=True, tokenize=False, enable_thinking=False))\n",
    "    return df.with_columns(pl.Series('prompt', prompts))\n",
    "\n",
    "if __name__=='__main__':\n",
    "    os.environ[\"VLLM_USE_V1\"] = \"0\"\n",
    "    import vllm\n",
    "    from logits_processor_zoo.vllm import MultipleChoiceLogitsProcessor\n",
    "    model_path = \"/kaggle/input/qwen-3/transformers/32b-awq/1\"\n",
    "    llm = vllm.LLM(model_path, quantization='awq', tensor_parallel_size=2, gpu_memory_utilization=0.9, trust_remote_code=True, dtype=\"half\", enforce_eager=True, max_model_len=2048, disable_log_stats=True, disable_custom_all_reduce=True, enable_prefix_caching=True, task='generate')\n",
    "    tokenizer = llm.get_tokenizer()\n",
    "    df = build_df()\n",
    "    df = build_prompt(tokenizer, df)\n",
    "    prompts = df['prompt'].to_list()\n",
    "    mclp = MultipleChoiceLogitsProcessor(tokenizer, choices=[\"A\", \"B\"])\n",
    "    outputs = llm.generate(prompts, vllm.SamplingParams(seed=777, temperature=0.1, skip_special_tokens=True, max_tokens=1, logits_processors=[mclp], logprobs=len(mclp.choices)), use_tqdm=True)\n",
    "    logprobs = [{lp.decoded_token: lp.logprob for lp in list(lps)} for lps in [output.outputs[0].logprobs[0].values() for output in outputs]]\n",
    "    pred_letters = [max(lpdict, key=lpdict.get) for lpdict in logprobs]  # \"A\" or \"B\"\n",
    "    type_llm = [True if p == \"A\" else False for p in pred_letters]\n",
    "    \n",
    "    # Add all columns to your dataframe\n",
    "    df = df.with_columns([\n",
    "        pl.Series('type_llm', type_llm),\n",
    "        pl.Series('logprob_A', [d.get(\"A\", float('-inf')) for d in logprobs]),\n",
    "        pl.Series('logprob_B', [d.get(\"B\", float('-inf')) for d in logprobs]),\n",
    "        pl.Series('pred_letter', pred_letters)\n",
    "    ])\n",
    "    \n",
    "    # Save full result for hybrid work\n",
    "    df.select(['article_id', 'dataset_id', 'type_llm', 'logprob_A', 'logprob_B']).write_csv('/kaggle/working/submission_llm_logprobs.csv')\n",
    "\n",
    "    choices = [max(d, key=d.get) for d in logprobs]\n",
    "    types = {'A': True, 'B': False}\n",
    "    choices = [types[c] for c in choices]\n",
    "    df = df.with_columns(pl.Series('type', choices))\n",
    "    df.filter(pl.col('type')).select('article_id', 'dataset_id').write_csv('/tmp/doi_sub.csv')\n",
    "    df = pl.concat([pl.read_csv('/tmp/doi_sub.csv'), pl.read_csv('/tmp/accid_sub.csv')])\n",
    "    df = assume_type(df)\n",
    "    df.select(['article_id', 'dataset_id', 'type']).with_row_index(name='row_id').write_csv('/kaggle/working/submission.csv')\n",
    "    if not IS_KAGGLE_SUBMISSION:\n",
    "        results = evaluate(df)\n",
    "        for r in results: l.info(r) \n",
    "        results = evaluate(df, on=['article_id', 'dataset_id', 'type'])\n",
    "        for r in results: l.info(r)"
   ]
  },
  {
   "cell_type": "code",
   "execution_count": 12,
   "id": "522fed59",
   "metadata": {
    "execution": {
     "iopub.execute_input": "2025-07-31T20:29:14.621217Z",
     "iopub.status.busy": "2025-07-31T20:29:14.620702Z",
     "iopub.status.idle": "2025-07-31T20:29:14.625661Z",
     "shell.execute_reply": "2025-07-31T20:29:14.624987Z"
    },
    "papermill": {
     "duration": 0.02345,
     "end_time": "2025-07-31T20:29:14.626657",
     "exception": false,
     "start_time": "2025-07-31T20:29:14.603207",
     "status": "completed"
    },
    "tags": []
   },
   "outputs": [
    {
     "name": "stdout",
     "output_type": "stream",
     "text": [
      "Writing /tmp/src/post_filter.py\n"
     ]
    }
   ],
   "source": [
    "%%writefile /tmp/src/post_filter.py\n",
    "import polars as pl\n",
    "from helpers import *\n",
    "\n",
    "\"\"\"\n",
    "Fourth essence: Post-filter to cut FP DOIs that look like literature.\n",
    "- Read /kaggle/working/submission.csv (output of llm_validate.py)\n",
    "- Join with /tmp/extracted.parquet to get context window\n",
    "- Drop DOI rows that (1) start with typical publisher prefixes AND (2) have no data-ish words nearby\n",
    "- Keep accessions untouched\n",
    "\"\"\"\n",
    "\n",
    "l = get_logger()\n",
    "\n",
    "PAPER_PREFIXES = [\n",
    "    \"10.1007\", \"10.1002\", \"10.1016\", \"10.1021\", \"10.1038\", \"10.1056\",\n",
    "    \"10.1073\", \"10.1080\", \"10.1093\", \"10.1101\", \"10.1186\", \"10.1371\",\n",
    "    \"10.1111\", \"10.5194\", \"10.3390\", \"10.1126\"\n",
    "]\n",
    "\n",
    "CONTEXT_RE = r\"(?i)\\b(data(?:set)?|repository|archive|deposited|available|supplementary|raw(?:\\s+data)?|uploaded|hosted|stored|accession)\\b\"\n",
    "\n",
    "def is_paper_prefix(col: str = \"dataset_id\") -> pl.Expr:\n",
    "    expr = pl.lit(False)\n",
    "    for p in PAPER_PREFIXES:\n",
    "        expr = expr | pl.col(col).str.starts_with(f\"{DOI_LINK}{p}\")\n",
    "    return expr\n",
    "\n",
    "def main():\n",
    "    sub = pl.read_csv(\"/kaggle/working/submission.csv\")\n",
    "\n",
    "    # Normalize columns: drop row_id if present so concat widths match\n",
    "    if \"row_id\" in sub.columns:\n",
    "        sub = sub.drop(\"row_id\")\n",
    "\n",
    "    # Context windows\n",
    "    win = pl.read_parquet(\"/tmp/extracted.parquet\").select(\"article_id\", \"dataset_id\", \"window\")\n",
    "\n",
    "    # DOI & ACC split\n",
    "    doi_rows = sub.filter(is_doi_link(\"dataset_id\")).join(win, on=[\"article_id\", \"dataset_id\"], how=\"left\")\n",
    "    acc_rows = sub.filter(~is_doi_link(\"dataset_id\"))\n",
    "\n",
    "    keep_mask = (\n",
    "        (~is_paper_prefix(\"dataset_id\"))  # not a known paper prefix\n",
    "        | doi_rows[\"window\"].fill_null(\"\").str.contains(CONTEXT_RE)\n",
    "    )\n",
    "\n",
    "    kept_doi = doi_rows.filter(keep_mask).select(\"article_id\", \"dataset_id\", \"type\")\n",
    "    final = pl.concat([kept_doi, acc_rows.select(\"article_id\", \"dataset_id\", \"type\")])\n",
    "\n",
    "    # Re-eval & save\n",
    "    if not IS_KAGGLE_SUBMISSION:\n",
    "        for r in evaluate(final): l.info(r)\n",
    "        for r in evaluate(final, on=[\"article_id\", \"dataset_id\", \"type\"]): l.info(r)\n",
    "\n",
    "    final.with_row_index(\"row_id\").write_csv(\"/kaggle/working/submission.csv\")\n",
    "\n",
    "if __name__ == \"__main__\":\n",
    "    main()"
   ]
  },
  {
   "cell_type": "code",
   "execution_count": 13,
   "id": "e08a84a6",
   "metadata": {
    "execution": {
     "iopub.execute_input": "2025-07-31T20:29:14.660091Z",
     "iopub.status.busy": "2025-07-31T20:29:14.659889Z",
     "iopub.status.idle": "2025-07-31T20:29:14.664517Z",
     "shell.execute_reply": "2025-07-31T20:29:14.663872Z"
    },
    "papermill": {
     "duration": 0.022517,
     "end_time": "2025-07-31T20:29:14.665611",
     "exception": false,
     "start_time": "2025-07-31T20:29:14.643094",
     "status": "completed"
    },
    "tags": []
   },
   "outputs": [
    {
     "name": "stdout",
     "output_type": "stream",
     "text": [
      "Writing /tmp/src/post_filter_scibert.py\n"
     ]
    }
   ],
   "source": [
    "%%writefile /tmp/src/post_filter_scibert.py\n",
    "import polars as pl\n",
    "from helpers import *\n",
    "\n",
    "\"\"\"\n",
    "Fourth essence: Post-filter to cut FP DOIs that look like literature.\n",
    "- Read /kaggle/working/submission.csv (output of llm_validate.py)\n",
    "- Join with /tmp/extracted.parquet to get context window\n",
    "- Drop DOI rows that (1) start with typical publisher prefixes AND (2) have no data-ish words nearby\n",
    "- Keep accessions untouched\n",
    "\"\"\"\n",
    "\n",
    "l = get_logger()\n",
    "\n",
    "PAPER_PREFIXES = [\n",
    "    \"10.1007\", \"10.1002\", \"10.1016\", \"10.1021\", \"10.1038\", \"10.1056\",\n",
    "    \"10.1073\", \"10.1080\", \"10.1093\", \"10.1101\", \"10.1186\", \"10.1371\",\n",
    "    \"10.1111\", \"10.5194\", \"10.3390\", \"10.1126\"\n",
    "]\n",
    "\n",
    "CONTEXT_RE = r\"(?i)\\b(data(?:set)?|repository|archive|deposited|available|supplementary|raw(?:\\s+data)?|uploaded|hosted|stored|accession)\\b\"\n",
    "\n",
    "def is_paper_prefix(col: str = \"dataset_id\") -> pl.Expr:\n",
    "    expr = pl.lit(False)\n",
    "    for p in PAPER_PREFIXES:\n",
    "        expr = expr | pl.col(col).str.starts_with(f\"{DOI_LINK}{p}\")\n",
    "    return expr\n",
    "\n",
    "def main():\n",
    "    sub = pl.read_csv(\"/kaggle/working/submission.csv\")\n",
    "\n",
    "    # Normalize columns: drop row_id if present so concat widths match\n",
    "    if \"row_id\" in sub.columns:\n",
    "        sub = sub.drop(\"row_id\")\n",
    "\n",
    "    # Context windows\n",
    "    win = pl.read_parquet(\"/tmp/scibert_predictions.parquet\").select(\"article_id\", \"dataset_id\", \"window\",'r_type')\n",
    "\n",
    "    # DOI & ACC split\n",
    "    doi_rows = sub.filter(is_doi_link(\"dataset_id\")).join(win, on=[\"article_id\", \"dataset_id\"], how=\"left\")\n",
    "    acc_rows = sub.filter(~is_doi_link(\"dataset_id\"))\n",
    "\n",
    "    keep_mask = (\n",
    "        (~is_paper_prefix(\"dataset_id\"))  # not a known paper prefix\n",
    "        | doi_rows[\"window\"].fill_null(\"\").str.contains(CONTEXT_RE)\n",
    "    )\n",
    "\n",
    "    kept_doi = doi_rows.filter(keep_mask).select(\"article_id\", \"dataset_id\", \"r_type\", 'type')\n",
    "    acc_rows = acc_rows.join(win, on=[\"article_id\", \"dataset_id\"], how=\"left\")\n",
    "    final = pl.concat([kept_doi, acc_rows.select(\"article_id\", \"dataset_id\", \"r_type\", 'type')])\n",
    "    \n",
    "    # Replace 'type' with 'r_type' for submission\n",
    "    final = final.drop(\"type\").rename({\"r_type\": \"type\"})\n",
    "    \n",
    "    # Re-eval & save\n",
    "    if not IS_KAGGLE_SUBMISSION:\n",
    "        for r in evaluate(final): l.info(r)\n",
    "        for r in evaluate(final, on=[\"article_id\", \"dataset_id\", \"type\"]): l.info(r)\n",
    "    \n",
    "    final.with_row_index(\"row_id\").write_csv(\"/kaggle/working/submission_scibert.csv\")\n",
    "\n",
    "\n",
    "if __name__ == \"__main__\":\n",
    "    main()"
   ]
  },
  {
   "cell_type": "code",
   "execution_count": 14,
   "id": "61c8e6c4",
   "metadata": {
    "_cell_guid": "c6a12705-737a-4b21-9bf2-125b3d1ab724",
    "_kg_hide-output": true,
    "_uuid": "bc8e0d68-3097-4ce9-99a1-536921913550",
    "execution": {
     "iopub.execute_input": "2025-07-31T20:29:14.700122Z",
     "iopub.status.busy": "2025-07-31T20:29:14.699926Z",
     "iopub.status.idle": "2025-07-31T20:30:43.976713Z",
     "shell.execute_reply": "2025-07-31T20:30:43.976036Z"
    },
    "papermill": {
     "duration": 89.29537,
     "end_time": "2025-07-31T20:30:43.978042",
     "exception": false,
     "start_time": "2025-07-31T20:29:14.682672",
     "status": "completed"
    },
    "scrolled": true,
    "tags": []
   },
   "outputs": [
    {
     "name": "stdout",
     "output_type": "stream",
     "text": [
      "/tmp\n",
      "MuPDF error: unsupported error: cannot create appearance stream for  annotations\r\n",
      "\r\n",
      "MuPDF error: unsupported error: cannot create appearance stream for  annotations\r\n",
      "\r\n",
      "MuPDF error: unsupported error: cannot create appearance stream for  annotations\r\n",
      "\r\n",
      "MuPDF error: unsupported error: cannot create appearance stream for  annotations\r\n",
      "\r\n",
      "MuPDF error: unsupported error: cannot create appearance stream for  annotations\r\n",
      "\r\n",
      "MuPDF error: unsupported error: cannot create appearance stream for  annotations\r\n",
      "\r\n",
      "MuPDF error: unsupported error: cannot create appearance stream for  annotations\r\n",
      "\r\n",
      "MuPDF error: unsupported error: cannot create appearance stream for  annotations\r\n",
      "\r\n",
      "MuPDF error: unsupported error: cannot create appearance stream for  annotations\r\n",
      "\r\n",
      "MuPDF error: unsupported error: cannot create appearance stream for  annotations\r\n",
      "\r\n",
      "MuPDF error: unsupported error: cannot create appearance stream for  annotations\r\n",
      "\r\n",
      "MuPDF error: unsupported error: cannot create appearance stream for  annotations\r\n",
      "\r\n",
      "MuPDF error: unsupported error: cannot create appearance stream for  annotations\r\n",
      "\r\n",
      "MuPDF error: unsupported error: cannot create appearance stream for  annotations\r\n",
      "\r\n",
      "MuPDF error: unsupported error: cannot create appearance stream for  annotations\r\n",
      "\r\n",
      "MuPDF error: unsupported error: cannot create appearance stream for  annotations\r\n",
      "\r\n",
      "MuPDF error: unsupported error: cannot create appearance stream for  annotations\r\n",
      "\r\n",
      "MuPDF error: unsupported error: cannot create appearance stream for  annotations\r\n",
      "\r\n",
      "INFO 2025-07-31 20:30:43  [check_parse.py:31 - main()] pymupdf misses: 42 dataset_ids\r\n"
     ]
    }
   ],
   "source": [
    "%cd /tmp\n",
    "! LOG_LEVEL=INFO python src/parse.py /tmp/train_parse\n",
    "! python src/check_parse.py"
   ]
  },
  {
   "cell_type": "code",
   "execution_count": 15,
   "id": "87f97f06",
   "metadata": {
    "_cell_guid": "c6a12705-737a-4b21-9bf2-125b3d1ab724",
    "_kg_hide-output": true,
    "_uuid": "bc8e0d68-3097-4ce9-99a1-536921913550",
    "collapsed": false,
    "execution": {
     "iopub.execute_input": "2025-07-31T20:30:44.012327Z",
     "iopub.status.busy": "2025-07-31T20:30:44.012087Z",
     "iopub.status.idle": "2025-07-31T20:30:51.556685Z",
     "shell.execute_reply": "2025-07-31T20:30:51.555984Z"
    },
    "jupyter": {
     "outputs_hidden": false
    },
    "papermill": {
     "duration": 7.563255,
     "end_time": "2025-07-31T20:30:51.558247",
     "exception": false,
     "start_time": "2025-07-31T20:30:43.994992",
     "status": "completed"
    },
    "scrolled": true,
    "tags": []
   },
   "outputs": [
    {
     "name": "stdout",
     "output_type": "stream",
     "text": [
      "INFO 2025-07-31 20:30:51  [getid.py:192 - main()] all - f1: 0.5341 [486/615/233]\r\n",
      "INFO 2025-07-31 20:30:51  [getid.py:192 - main()] doi - f1: 0.4344 [164/266/161]\r\n",
      "INFO 2025-07-31 20:30:51  [getid.py:192 - main()] acc - f1: 0.6047 [322/349/72]\r\n",
      "INFO 2025-07-31 20:30:51  [getid.py:194 - main()] all - f1: 0.4429 [403/698/316]\r\n",
      "INFO 2025-07-31 20:30:51  [getid.py:194 - main()] doi - f1: 0.3338 [126/304/199]\r\n",
      "INFO 2025-07-31 20:30:51  [getid.py:194 - main()] acc - f1: 0.5202 [277/394/117]\r\n"
     ]
    }
   ],
   "source": [
    "! python src/getid.py"
   ]
  },
  {
   "cell_type": "code",
   "execution_count": 16,
   "id": "140f146c",
   "metadata": {
    "execution": {
     "iopub.execute_input": "2025-07-31T20:30:51.592897Z",
     "iopub.status.busy": "2025-07-31T20:30:51.592645Z",
     "iopub.status.idle": "2025-07-31T20:30:51.599480Z",
     "shell.execute_reply": "2025-07-31T20:30:51.598826Z"
    },
    "papermill": {
     "duration": 0.025217,
     "end_time": "2025-07-31T20:30:51.600509",
     "exception": false,
     "start_time": "2025-07-31T20:30:51.575292",
     "status": "completed"
    },
    "tags": []
   },
   "outputs": [
    {
     "name": "stdout",
     "output_type": "stream",
     "text": [
      "Writing /tmp/src/SciBert_train.py\n"
     ]
    }
   ],
   "source": [
    "%%writefile /tmp/src/SciBert_train.py\n",
    "import pandas as pd\n",
    "import torch\n",
    "import os\n",
    "from sklearn.model_selection import train_test_split\n",
    "from sklearn.metrics import f1_score, classification_report\n",
    "from transformers import (\n",
    "    AutoTokenizer,\n",
    "    AutoModelForSequenceClassification,\n",
    "    Trainer,\n",
    "    TrainingArguments,\n",
    "    TrainerCallback,\n",
    "    EarlyStoppingCallback\n",
    ")\n",
    "os.environ[\"CUDA_VISIBLE_DEVICES\"] = \"0,1\"\n",
    "os.environ[\"WANDB_DISABLED\"] = \"true\"\n",
    "# Load data from parquet and CSV\n",
    "extracted_df = pd.read_parquet(\"/tmp/extracted.parquet\")\n",
    "labels_df = pd.read_csv(\"/kaggle/input/make-data-count-finding-data-references/train_labels.csv\")\n",
    "\n",
    "# Normalize keys for join\n",
    "labels_df[\"article_id\"] = labels_df[\"article_id\"].str.replace(\"/\", \"_\")\n",
    "labels_df[\"dataset_id\"] = labels_df[\"dataset_id\"].str.lower()\n",
    "\n",
    "extracted_df[\"dataset_id\"] = extracted_df[\"dataset_id\"].str.lower()\n",
    "\n",
    "# Merge and drop rows without labels\n",
    "df = extracted_df.merge(labels_df, on=[\"article_id\", \"dataset_id\"], how=\"inner\")\n",
    "df = df.dropna(subset=[\"window\", \"type\"])\n",
    "\n",
    "# Label encoding\n",
    "type_to_label = {\"Primary\": 0, \"Secondary\": 1} #, \"Missing\": 2}\n",
    "df[\"label\"] = df[\"type\"].map(type_to_label)\n",
    "\n",
    "# Train/val split\n",
    "train_texts, val_texts, train_labels, val_labels = train_test_split(\n",
    "    df[\"window\"].tolist(),\n",
    "    df[\"label\"].tolist(),\n",
    "    test_size=0.2,\n",
    "    stratify=df[\"label\"],\n",
    "    random_state=42\n",
    ")\n",
    "\n",
    "# Tokenization\n",
    "model_name = \"allenai/scibert_scivocab_uncased\"\n",
    "tokenizer = AutoTokenizer.from_pretrained(model_name)\n",
    "\n",
    "train_encodings = tokenizer(train_texts, truncation=True, padding=True, max_length=512)\n",
    "val_encodings = tokenizer(val_texts, truncation=True, padding=True, max_length=512)\n",
    "\n",
    "# Dataset wrapper\n",
    "class DataRelationDataset(torch.utils.data.Dataset):\n",
    "    def __init__(self, encodings, labels):\n",
    "        self.encodings = encodings\n",
    "        self.labels = labels\n",
    "\n",
    "    def __getitem__(self, idx):\n",
    "        item = {k: torch.tensor(v[idx]) for k, v in self.encodings.items()}\n",
    "        item[\"labels\"] = torch.tensor(self.labels[idx])\n",
    "        return item\n",
    "\n",
    "    def __len__(self):\n",
    "        return len(self.labels)\n",
    "\n",
    "train_dataset = DataRelationDataset(train_encodings, train_labels)\n",
    "val_dataset = DataRelationDataset(val_encodings, val_labels)\n",
    "\n",
    "# Model\n",
    "model = AutoModelForSequenceClassification.from_pretrained(model_name, num_labels=2, \n",
    "                                                           hidden_dropout_prob=0.3,      # Default is usually 0.1\n",
    "                                                           attention_probs_dropout_prob=0.3,  # Default is usually 0.1\n",
    ")\n",
    "\n",
    "# Metrics\n",
    "def compute_metrics(p):    \n",
    "    preds = p.predictions.argmax(-1)\n",
    "    f1_micro = f1_score(p.label_ids, preds, average='micro')\n",
    "    f1_macro = f1_score(p.label_ids, preds, average='macro')\n",
    "    report = classification_report(p.label_ids, preds, output_dict=True, zero_division=0)\n",
    "\n",
    "    def safe_f1(class_label):\n",
    "        return report[str(class_label)][\"f1-score\"] if str(class_label) in report else 0.0\n",
    "\n",
    "    return {\n",
    "        \"f1_micro\": f1_micro,\n",
    "        \"f1_macro\": f1_macro,\n",
    "        \"f1_primary\": safe_f1(0),\n",
    "        \"f1_secondary\": safe_f1(1),\n",
    "        \"f1_missing\": safe_f1(2)\n",
    "    }\n",
    "\n",
    "# Training setup\n",
    "training_args = TrainingArguments(\n",
    "    output_dir=\"/kaggle/working/results\",\n",
    "    eval_strategy=\"epoch\",\n",
    "    save_strategy=\"epoch\",\n",
    "    logging_strategy=\"epoch\",\n",
    "    per_device_train_batch_size=8,\n",
    "    per_device_eval_batch_size=8,\n",
    "    num_train_epochs=101,\n",
    "    learning_rate=.5e-5,\n",
    "    weight_decay=0.15, # Increase from 0.01 to 0.1 or even 0.2\n",
    "    load_best_model_at_end=True,\n",
    "    metric_for_best_model=\"eval_f1_macro\",\n",
    "    greater_is_better=True,\n",
    "    save_total_limit = 4,\n",
    "    fp16=True\n",
    ")\n",
    "\n",
    "class PrintDevicesCallback(TrainerCallback):\n",
    "    def on_train_begin(self, args, state, control, **kwargs):\n",
    "        print(f\"Training on {torch.cuda.device_count()} GPUs:\", [torch.cuda.get_device_name(i) for i in range(torch.cuda.device_count())])\n",
    "\n",
    "trainer = Trainer(\n",
    "    model=model,\n",
    "    args=training_args,\n",
    "    train_dataset=train_dataset,\n",
    "    eval_dataset=val_dataset,\n",
    "    compute_metrics=compute_metrics,\n",
    "    callbacks=[EarlyStoppingCallback(early_stopping_patience=3)]\n",
    ")\n",
    "\n",
    "# Train\n",
    "trainer.train()\n",
    "model.save_pretrained(\"/kaggle/working/best_model\")\n",
    "tokenizer.save_pretrained(\"/kaggle/working/best_model\")\n",
    "! zip -r /kaggle/working/output-tbt-2L.zip /kaggle/working/best_model\n",
    "! cd /kaggle/working\n",
    "from IPython.display import FileLink\n",
    "FileLink(r'output-tbt-2L.zip')"
   ]
  },
  {
   "cell_type": "code",
   "execution_count": 17,
   "id": "162c93f7",
   "metadata": {
    "execution": {
     "iopub.execute_input": "2025-07-31T20:30:51.633842Z",
     "iopub.status.busy": "2025-07-31T20:30:51.633630Z",
     "iopub.status.idle": "2025-07-31T20:31:30.473143Z",
     "shell.execute_reply": "2025-07-31T20:31:30.472314Z"
    },
    "papermill": {
     "duration": 38.857505,
     "end_time": "2025-07-31T20:31:30.474353",
     "exception": false,
     "start_time": "2025-07-31T20:30:51.616848",
     "status": "completed"
    },
    "tags": []
   },
   "outputs": [
    {
     "name": "stderr",
     "output_type": "stream",
     "text": [
      "2025-07-31 20:31:08.277766: E external/local_xla/xla/stream_executor/cuda/cuda_fft.cc:477] Unable to register cuFFT factory: Attempting to register factory for plugin cuFFT when one has already been registered\n",
      "WARNING: All log messages before absl::InitializeLog() is called are written to STDERR\n",
      "E0000 00:00:1753993868.476475      19 cuda_dnn.cc:8310] Unable to register cuDNN factory: Attempting to register factory for plugin cuDNN when one has already been registered\n",
      "E0000 00:00:1753993868.534489      19 cuda_blas.cc:1418] Unable to register cuBLAS factory: Attempting to register factory for plugin cuBLAS when one has already been registered\n",
      "100%|██████████| 138/138 [00:06<00:00, 20.69it/s]\n"
     ]
    }
   ],
   "source": [
    "from tqdm import tqdm\n",
    "import pandas as pd\n",
    "import torch\n",
    "from transformers import AutoTokenizer, AutoModelForSequenceClassification\n",
    "# 🧠 Load model and tokenizer\n",
    "model_path = \"/kaggle/input/btb-2l-scibert/kaggle/working/best_model\"\n",
    "token_path = model_path\n",
    "\n",
    "tokenizer = AutoTokenizer.from_pretrained(token_path)\n",
    "model = AutoModelForSequenceClassification.from_pretrained(model_path)\n",
    "model.eval()\n",
    "device = torch.device(\"cuda\" if torch.cuda.is_available() else \"cpu\")\n",
    "model.to(device)\n",
    "\n",
    "# 🔮 Predict type\n",
    "label_map = {0: \"Primary\", 1: \"Secondary\",} # 2: 'Missing'}\n",
    "batch_size = 8\n",
    "preds = []\n",
    "rows = pd.read_parquet(\"/tmp/extracted.parquet\")\n",
    "\n",
    "# Drop NA windows\n",
    "rows = rows.dropna(subset=[\"window\"]).reset_index(drop=True)\n",
    "\n",
    "logits_list = []\n",
    "\n",
    "for i in tqdm(range(0, len(rows), batch_size)):\n",
    "    batch_texts = rows[\"window\"].iloc[i:i+batch_size].tolist()\n",
    "    enc = tokenizer(batch_texts, truncation=True, padding=True, max_length=512, return_tensors=\"pt\").to(device)\n",
    "    with torch.no_grad():\n",
    "        logits = model(**enc).logits\n",
    "        p = torch.argmax(logits, dim=1).cpu().tolist()\n",
    "        preds.extend(p)\n",
    "        logits_list.extend(logits.cpu().tolist())\n",
    "\n",
    "\n",
    "logits_df = pd.DataFrame(logits_list, columns=[\"logit_primary\", \"logit_secondary\"])\n",
    "rows = pd.concat([rows.reset_index(drop=True), logits_df], axis=1)\n",
    "label_map = {0: \"Primary\", 1: \"Secondary\"}\n",
    "\n",
    "# preds is a list of ints from argmax\n",
    "rows[\"pred_label\"] = [label_map[p] for p in preds]\n",
    "\n",
    "# Then export\n",
    "rows[[\"article_id\", \"dataset_id\", \"pred_label\", \"logit_primary\", \"logit_secondary\"]].to_csv(\n",
    "    \"/kaggle/working/submission_scibert_logits.csv\", index=False\n",
    ")\n",
    "rows[[\"article_id\", \"dataset_id\", \"pred_label\", \"logit_primary\", \"logit_secondary\"]].to_csv(\"/kaggle/working/submission_scibert_logits.csv\", index=False)"
   ]
  },
  {
   "cell_type": "code",
   "execution_count": 18,
   "id": "c7c7b0ca",
   "metadata": {
    "execution": {
     "iopub.execute_input": "2025-07-31T20:31:30.513456Z",
     "iopub.status.busy": "2025-07-31T20:31:30.513226Z",
     "iopub.status.idle": "2025-07-31T20:31:30.527021Z",
     "shell.execute_reply": "2025-07-31T20:31:30.526309Z"
    },
    "papermill": {
     "duration": 0.03408,
     "end_time": "2025-07-31T20:31:30.528101",
     "exception": false,
     "start_time": "2025-07-31T20:31:30.494021",
     "status": "completed"
    },
    "tags": []
   },
   "outputs": [],
   "source": [
    "rows[\"r_type\"] = [label_map.get(p, \"Missing\") for p in preds]\n",
    "rows[[\"article_id\", \"dataset_id\", 'window',\"r_type\"]].to_parquet(\"/tmp/scibert_predictions.parquet\")"
   ]
  },
  {
   "cell_type": "code",
   "execution_count": 19,
   "id": "d0e94fcd",
   "metadata": {
    "execution": {
     "iopub.execute_input": "2025-07-31T20:31:30.565323Z",
     "iopub.status.busy": "2025-07-31T20:31:30.565113Z",
     "iopub.status.idle": "2025-07-31T20:31:31.520678Z",
     "shell.execute_reply": "2025-07-31T20:31:31.519969Z"
    },
    "papermill": {
     "duration": 0.975708,
     "end_time": "2025-07-31T20:31:31.522175",
     "exception": false,
     "start_time": "2025-07-31T20:31:30.546467",
     "status": "completed"
    },
    "tags": []
   },
   "outputs": [
    {
     "name": "stderr",
     "output_type": "stream",
     "text": [
      "huggingface/tokenizers: The current process just got forked, after parallelism has already been used. Disabling parallelism to avoid deadlocks...\n",
      "To disable this warning, you can either:\n",
      "\t- Avoid using `tokenizers` before the fork if possible\n",
      "\t- Explicitly set the environment variable TOKENIZERS_PARALLELISM=(true | false)\n"
     ]
    },
    {
     "name": "stdout",
     "output_type": "stream",
     "text": [
      "INFO 2025-07-31 20:31:31  [post_filter_scibert.py:56 - main()] all - f1: 0.5668 [486/510/233]\r\n",
      "INFO 2025-07-31 20:31:31  [post_filter_scibert.py:56 - main()] doi - f1: 0.5046 [164/161/161]\r\n",
      "INFO 2025-07-31 20:31:31  [post_filter_scibert.py:56 - main()] acc - f1: 0.6047 [322/349/72]\r\n",
      "INFO 2025-07-31 20:31:31  [post_filter_scibert.py:57 - main()] all - f1: 0.5411 [464/532/255]\r\n",
      "INFO 2025-07-31 20:31:31  [post_filter_scibert.py:57 - main()] doi - f1: 0.4769 [155/170/170]\r\n",
      "INFO 2025-07-31 20:31:31  [post_filter_scibert.py:57 - main()] acc - f1: 0.5803 [309/362/85]\r\n"
     ]
    }
   ],
   "source": [
    "! python src/post_filter_scibert.py\n",
    "#! rm /kaggle/working/submission.csv\n",
    "#! mv /kaggle/working/submission_scibert.csv /kaggle/working/submission.csv"
   ]
  },
  {
   "cell_type": "code",
   "execution_count": 20,
   "id": "524aa399",
   "metadata": {
    "execution": {
     "iopub.execute_input": "2025-07-31T20:31:31.563396Z",
     "iopub.status.busy": "2025-07-31T20:31:31.563150Z",
     "iopub.status.idle": "2025-07-31T20:31:31.566868Z",
     "shell.execute_reply": "2025-07-31T20:31:31.566073Z"
    },
    "papermill": {
     "duration": 0.025169,
     "end_time": "2025-07-31T20:31:31.568393",
     "exception": false,
     "start_time": "2025-07-31T20:31:31.543224",
     "status": "completed"
    },
    "tags": []
   },
   "outputs": [],
   "source": [
    "#! python src/addon_fix_broken_dois.py\n",
    "#! python src/addon_reference_priority.py\n",
    "#! python src/merge_augmented_ids.py  # or insert the merging logic inline"
   ]
  },
  {
   "cell_type": "code",
   "execution_count": 21,
   "id": "3d0c7b4f",
   "metadata": {
    "_cell_guid": "c6a12705-737a-4b21-9bf2-125b3d1ab724",
    "_kg_hide-output": true,
    "_uuid": "bc8e0d68-3097-4ce9-99a1-536921913550",
    "collapsed": false,
    "execution": {
     "iopub.execute_input": "2025-07-31T20:31:31.609095Z",
     "iopub.status.busy": "2025-07-31T20:31:31.608829Z",
     "iopub.status.idle": "2025-07-31T20:38:40.292715Z",
     "shell.execute_reply": "2025-07-31T20:38:40.291699Z"
    },
    "jupyter": {
     "outputs_hidden": false
    },
    "papermill": {
     "duration": 428.706972,
     "end_time": "2025-07-31T20:38:40.294252",
     "exception": false,
     "start_time": "2025-07-31T20:31:31.587280",
     "status": "completed"
    },
    "scrolled": true,
    "tags": []
   },
   "outputs": [
    {
     "name": "stderr",
     "output_type": "stream",
     "text": [
      "huggingface/tokenizers: The current process just got forked, after parallelism has already been used. Disabling parallelism to avoid deadlocks...\n",
      "To disable this warning, you can either:\n",
      "\t- Avoid using `tokenizers` before the fork if possible\n",
      "\t- Explicitly set the environment variable TOKENIZERS_PARALLELISM=(true | false)\n"
     ]
    },
    {
     "name": "stdout",
     "output_type": "stream",
     "text": [
      "2025-07-31 20:31:37.186644: E external/local_xla/xla/stream_executor/cuda/cuda_fft.cc:477] Unable to register cuFFT factory: Attempting to register factory for plugin cuFFT when one has already been registered\r\n",
      "WARNING: All log messages before absl::InitializeLog() is called are written to STDERR\r\n",
      "E0000 00:00:1753993897.208682     201 cuda_dnn.cc:8310] Unable to register cuDNN factory: Attempting to register factory for plugin cuDNN when one has already been registered\r\n",
      "E0000 00:00:1753993897.215358     201 cuda_blas.cc:1418] Unable to register cuBLAS factory: Attempting to register factory for plugin cuBLAS when one has already been registered\r\n",
      "INFO 07-31 20:31:40 [__init__.py:244] Automatically detected platform cuda.\r\n",
      "INFO 07-31 20:31:57 [config.py:1472] Using max model len 2048\r\n",
      "WARNING 07-31 20:31:57 [config.py:960] awq quantization is not fully optimized yet. The speed can be slower than non-quantized models.\r\n",
      "WARNING 07-31 20:31:58 [cuda.py:102] To see benefits of async output processing, enable CUDA graph. Since, enforce-eager is enabled, async output processor cannot be used\r\n",
      "INFO 07-31 20:31:58 [llm_engine.py:230] Initializing a V0 LLM engine (v0.9.2) with config: model='/kaggle/input/qwen-3/transformers/32b-awq/1', speculative_config=None, tokenizer='/kaggle/input/qwen-3/transformers/32b-awq/1', skip_tokenizer_init=False, tokenizer_mode=auto, revision=None, override_neuron_config={}, tokenizer_revision=None, trust_remote_code=True, dtype=torch.float16, max_seq_len=2048, download_dir=None, load_format=LoadFormat.AUTO, tensor_parallel_size=2, pipeline_parallel_size=1, disable_custom_all_reduce=True, quantization=awq, enforce_eager=True, kv_cache_dtype=auto,  device_config=cuda, decoding_config=DecodingConfig(backend='xgrammar', disable_fallback=False, disable_any_whitespace=False, disable_additional_properties=False, reasoning_backend=''), observability_config=ObservabilityConfig(show_hidden_metrics_for_version=None, otlp_traces_endpoint=None, collect_detailed_traces=None), seed=None, served_model_name=/kaggle/input/qwen-3/transformers/32b-awq/1, num_scheduler_steps=1, multi_step_stream_outputs=True, enable_prefix_caching=True, chunked_prefill_enabled=False, use_async_output_proc=False, pooler_config=None, compilation_config={\"level\":0,\"debug_dump_path\":\"\",\"cache_dir\":\"\",\"backend\":\"\",\"custom_ops\":[],\"splitting_ops\":[],\"use_inductor\":true,\"compile_sizes\":[],\"inductor_compile_config\":{\"enable_auto_functionalized_v2\":false},\"inductor_passes\":{},\"use_cudagraph\":false,\"cudagraph_num_of_warmups\":0,\"cudagraph_capture_sizes\":[],\"cudagraph_copy_inputs\":false,\"full_cuda_graph\":false,\"max_capture_size\":0,\"local_cache_dir\":null}, use_cached_outputs=False, \r\n",
      "WARNING 07-31 20:31:58 [multiproc_worker_utils.py:307] Reducing Torch parallelism from 2 threads to 1 to avoid unnecessary CPU contention. Set OMP_NUM_THREADS in the external environment to tune this value as needed.\r\n",
      "\u001b[1;36m(VllmWorkerProcess pid=229)\u001b[0;0m INFO 07-31 20:31:58 [multiproc_worker_utils.py:226] Worker ready; awaiting tasks\r\n",
      "INFO 07-31 20:31:59 [cuda.py:311] Cannot use FlashAttention-2 backend for Volta and Turing GPUs.\r\n",
      "INFO 07-31 20:31:59 [cuda.py:360] Using XFormers backend.\r\n",
      "\u001b[1;36m(VllmWorkerProcess pid=229)\u001b[0;0m INFO 07-31 20:31:59 [cuda.py:311] Cannot use FlashAttention-2 backend for Volta and Turing GPUs.\r\n",
      "\u001b[1;36m(VllmWorkerProcess pid=229)\u001b[0;0m INFO 07-31 20:31:59 [cuda.py:360] Using XFormers backend.\r\n",
      "[W731 20:32:10.195056313 socket.cpp:200] [c10d] The hostname of the client socket cannot be retrieved. err=-3\r\n",
      "[W731 20:32:10.702987597 socket.cpp:200] [c10d] The hostname of the client socket cannot be retrieved. err=-3\r\n",
      "[W731 20:32:20.205657807 socket.cpp:200] [c10d] The hostname of the client socket cannot be retrieved. err=-3\r\n",
      "[W731 20:32:30.216127707 socket.cpp:200] [c10d] The hostname of the client socket cannot be retrieved. err=-3\r\n",
      "INFO 07-31 20:32:30 [__init__.py:1152] Found nccl from library libnccl.so.2\r\n",
      "INFO 07-31 20:32:30 [pynccl.py:70] vLLM is using nccl==2.26.2\r\n",
      "\u001b[1;36m(VllmWorkerProcess pid=229)\u001b[0;0m INFO 07-31 20:32:30 [__init__.py:1152] Found nccl from library libnccl.so.2\r\n",
      "\u001b[1;36m(VllmWorkerProcess pid=229)\u001b[0;0m INFO 07-31 20:32:30 [pynccl.py:70] vLLM is using nccl==2.26.2\r\n",
      "INFO 07-31 20:32:31 [shm_broadcast.py:289] vLLM message queue communication handle: Handle(local_reader_ranks=[1], buffer_handle=(1, 4194304, 6, 'psm_cca1e62d'), local_subscribe_addr='ipc:///tmp/a7b5acc3-ff36-49c6-90ca-f26c6494525c', remote_subscribe_addr=None, remote_addr_ipv6=False)\r\n",
      "INFO 07-31 20:32:31 [parallel_state.py:1076] rank 0 in world size 2 is assigned as DP rank 0, PP rank 0, TP rank 0, EP rank 0\r\n",
      "\u001b[1;36m(VllmWorkerProcess pid=229)\u001b[0;0m INFO 07-31 20:32:31 [parallel_state.py:1076] rank 1 in world size 2 is assigned as DP rank 0, PP rank 0, TP rank 1, EP rank 1\r\n",
      "INFO 07-31 20:32:31 [model_runner.py:1171] Starting to load model /kaggle/input/qwen-3/transformers/32b-awq/1...\r\n",
      "\u001b[1;36m(VllmWorkerProcess pid=229)\u001b[0;0m INFO 07-31 20:32:31 [model_runner.py:1171] Starting to load model /kaggle/input/qwen-3/transformers/32b-awq/1...\r\n",
      "Loading safetensors checkpoint shards:   0% Completed | 0/4 [00:00<?, ?it/s]\r\n",
      "Loading safetensors checkpoint shards:  25% Completed | 1/4 [01:02<03:07, 62.63s/it]\r\n",
      "Loading safetensors checkpoint shards:  50% Completed | 2/4 [01:56<01:54, 57.45s/it]\r\n",
      "Loading safetensors checkpoint shards:  75% Completed | 3/4 [02:41<00:51, 51.96s/it]\r\n",
      "Loading safetensors checkpoint shards: 100% Completed | 4/4 [03:45<00:00, 56.47s/it]\r\n",
      "Loading safetensors checkpoint shards: 100% Completed | 4/4 [03:45<00:00, 56.32s/it]\r\n",
      "\r\n",
      "\u001b[1;36m(VllmWorkerProcess pid=229)\u001b[0;0m INFO 07-31 20:36:17 [default_loader.py:272] Loading weights took 224.97 seconds\r\n",
      "INFO 07-31 20:36:17 [default_loader.py:272] Loading weights took 225.68 seconds\r\n",
      "\u001b[1;36m(VllmWorkerProcess pid=229)\u001b[0;0m INFO 07-31 20:36:17 [model_runner.py:1203] Model loading took 9.0570 GiB and 225.302661 seconds\r\n",
      "INFO 07-31 20:36:18 [model_runner.py:1203] Model loading took 9.0570 GiB and 226.023558 seconds\r\n",
      "\r\n",
      "\r\n",
      "\u001b[1;36m(VllmWorkerProcess pid=229)\u001b[0;0m INFO 07-31 20:36:29 [worker.py:294] model weights take 9.06GiB; non_torch_memory takes 0.11GiB; PyTorch activation peak memory takes 0.41GiB; the rest of the memory reserved for KV Cache is 3.70GiB.\r\n",
      "\r\n",
      "\r\n",
      "INFO 07-31 20:36:29 [worker.py:294] model weights take 9.06GiB; non_torch_memory takes 0.11GiB; PyTorch activation peak memory takes 1.40GiB; the rest of the memory reserved for KV Cache is 2.70GiB.\r\n",
      "INFO 07-31 20:36:30 [executor_base.py:113] # cuda blocks: 1381, # CPU blocks: 2048\r\n",
      "INFO 07-31 20:36:30 [executor_base.py:118] Maximum concurrency for 2048 tokens per request: 10.79x\r\n",
      "INFO 07-31 20:36:34 [llm_engine.py:428] init engine (profile, create kv cache, warmup model) took 16.00 seconds\r\n",
      "Adding requests: 100%|███████████████████████| 430/430 [00:00<00:00, 444.59it/s]\r\n",
      "Processed prompts: 100%|█| 430/430 [01:55<00:00,  3.72it/s, est. speed input: 28\r\n",
      "INFO 2025-07-31 20:38:31  [llm_validate.py:95 - <module>()] all - f1: 0.5960 [486/426/233]\r\n",
      "INFO 2025-07-31 20:38:31  [llm_validate.py:95 - <module>()] doi - f1: 0.5795 [164/77/161]\r\n",
      "INFO 2025-07-31 20:38:31  [llm_validate.py:95 - <module>()] acc - f1: 0.6047 [322/349/72]\r\n",
      "INFO 2025-07-31 20:38:31  [llm_validate.py:97 - <module>()] all - f1: 0.4942 [403/509/316]\r\n",
      "INFO 2025-07-31 20:38:31  [llm_validate.py:97 - <module>()] doi - f1: 0.4452 [126/115/199]\r\n",
      "INFO 2025-07-31 20:38:31  [llm_validate.py:97 - <module>()] acc - f1: 0.5202 [277/394/117]\r\n",
      "INFO 07-31 20:38:33 [multiproc_worker_utils.py:125] Killing local vLLM worker processes\r\n",
      "[rank0]:[W731 20:38:34.142667689 ProcessGroupNCCL.cpp:1476] Warning: WARNING: destroy_process_group() was not called before program exit, which can leak resources. For more info, please see https://pytorch.org/docs/stable/distributed.html#shutdown (function operator())\r\n"
     ]
    },
    {
     "name": "stderr",
     "output_type": "stream",
     "text": [
      "huggingface/tokenizers: The current process just got forked, after parallelism has already been used. Disabling parallelism to avoid deadlocks...\n",
      "To disable this warning, you can either:\n",
      "\t- Avoid using `tokenizers` before the fork if possible\n",
      "\t- Explicitly set the environment variable TOKENIZERS_PARALLELISM=(true | false)\n"
     ]
    },
    {
     "name": "stdout",
     "output_type": "stream",
     "text": [
      "INFO 2025-07-31 20:38:40  [post_filter.py:52 - main()] all - f1: 0.5960 [486/426/233]\r\n",
      "INFO 2025-07-31 20:38:40  [post_filter.py:52 - main()] doi - f1: 0.5795 [164/77/161]\r\n",
      "INFO 2025-07-31 20:38:40  [post_filter.py:52 - main()] acc - f1: 0.6047 [322/349/72]\r\n",
      "INFO 2025-07-31 20:38:40  [post_filter.py:53 - main()] all - f1: 0.4942 [403/509/316]\r\n",
      "INFO 2025-07-31 20:38:40  [post_filter.py:53 - main()] doi - f1: 0.4452 [126/115/199]\r\n",
      "INFO 2025-07-31 20:38:40  [post_filter.py:53 - main()] acc - f1: 0.5202 [277/394/117]\r\n"
     ]
    }
   ],
   "source": [
    "! python src/llm_validate.py\n",
    "! python src/post_filter.py"
   ]
  },
  {
   "cell_type": "code",
   "execution_count": 22,
   "id": "7447ed9b",
   "metadata": {
    "_cell_guid": "c6a12705-737a-4b21-9bf2-125b3d1ab724",
    "_kg_hide-output": true,
    "_uuid": "bc8e0d68-3097-4ce9-99a1-536921913550",
    "execution": {
     "iopub.execute_input": "2025-07-31T20:38:40.338449Z",
     "iopub.status.busy": "2025-07-31T20:38:40.338179Z",
     "iopub.status.idle": "2025-07-31T20:38:40.344280Z",
     "shell.execute_reply": "2025-07-31T20:38:40.343539Z"
    },
    "papermill": {
     "duration": 0.0291,
     "end_time": "2025-07-31T20:38:40.345416",
     "exception": false,
     "start_time": "2025-07-31T20:38:40.316316",
     "status": "completed"
    },
    "scrolled": true,
    "tags": []
   },
   "outputs": [
    {
     "name": "stdout",
     "output_type": "stream",
     "text": [
      "Writing /tmp/src/FailuresWllm.py\n"
     ]
    }
   ],
   "source": [
    "%%writefile /tmp/src/FailuresWllm.py\n",
    "import polars as pl\n",
    "\n",
    "# Load your predictions\n",
    "pred_df = pl.read_csv(\"/kaggle/working/submission.csv\")\n",
    "\n",
    "# Load official labels\n",
    "truth_df = pl.read_csv(\"/kaggle/input/make-data-count-finding-data-references/train_labels.csv\")\n",
    "\n",
    "# Rename truth type for disambiguation\n",
    "truth_df = truth_df.rename({\"type\": \"type_truth\"})\n",
    "\n",
    "# Outer join to align all combinations\n",
    "joined = pred_df.join(truth_df, on=[\"article_id\", \"dataset_id\"], how=\"full\")\n",
    "print(len(joined))\n",
    "# Add error type column\n",
    "error_expr = (\n",
    "    pl.when(pl.col(\"type\").is_null() & pl.col(\"type_truth\").is_not_null()).then(pl.lit(\"false_negative\"))\n",
    "    .when(pl.col(\"type\").is_not_null() & pl.col(\"type_truth\").is_null()).then(pl.lit(\"false_positive\"))\n",
    "    .when(\n",
    "        pl.col(\"type\").is_not_null()\n",
    "        & pl.col(\"type_truth\").is_not_null()\n",
    "        & (pl.col(\"type\") != pl.col(\"type_truth\"))\n",
    "    ).then(pl.lit(\"type_mismatch\"))\n",
    "    .otherwise(pl.lit(\"correct\"))\n",
    ")\n",
    "\n",
    "joined = joined.with_columns([error_expr.alias(\"error_type\")])\n",
    "\n",
    "\n",
    "# Extract each error type\n",
    "false_negatives = joined.filter(pl.col(\"error_type\") == \"false_negative\")\n",
    "false_positives = joined.filter(pl.col(\"error_type\") == \"false_positive\")\n",
    "type_mismatches = joined.filter(pl.col(\"error_type\") == \"type_mismatch\")\n",
    "\n",
    "# Print counts\n",
    "print(f\"False negatives: {false_negatives.shape[0]}\")\n",
    "print(f\"False positives: {false_positives.shape[0]}\")\n",
    "print(f\"Type mismatches: {type_mismatches.shape[0]}\")\n",
    "\n",
    "# Save for inspection\n",
    "false_negatives.write_csv(\"/kaggle/working/false_negatives.csv\")\n",
    "false_positives.write_csv(\"/kaggle/working/false_positives.csv\")\n",
    "type_mismatches.write_csv(\"/kaggle/working/type_mismatches.csv\")"
   ]
  },
  {
   "cell_type": "code",
   "execution_count": 23,
   "id": "246f31a3",
   "metadata": {
    "execution": {
     "iopub.execute_input": "2025-07-31T20:38:40.389037Z",
     "iopub.status.busy": "2025-07-31T20:38:40.388466Z",
     "iopub.status.idle": "2025-07-31T20:38:40.393373Z",
     "shell.execute_reply": "2025-07-31T20:38:40.392792Z"
    },
    "papermill": {
     "duration": 0.027636,
     "end_time": "2025-07-31T20:38:40.394378",
     "exception": false,
     "start_time": "2025-07-31T20:38:40.366742",
     "status": "completed"
    },
    "tags": []
   },
   "outputs": [
    {
     "name": "stdout",
     "output_type": "stream",
     "text": [
      "Writing /tmp/src/FailuresWsbert.py\n"
     ]
    }
   ],
   "source": [
    "%%writefile /tmp/src/FailuresWsbert.py\n",
    "import polars as pl\n",
    "\n",
    "# Load SciBERT predictions\n",
    "# pred_df = pl.read_parquet(\"/tmp/scibert_predictions.parquet\")#.rename({\"pred_type\": \"type\"})\n",
    "pred_df = pl.read_csv(\"/kaggle/working/submission_scibert.csv\")\n",
    "\n",
    "# Load official labels\n",
    "truth_df = pl.read_csv(\"/kaggle/input/make-data-count-finding-data-references/train_labels.csv\")\n",
    "\n",
    "# Rename truth type for disambiguation\n",
    "truth_df = truth_df.rename({\"type\": \"type_truth\"})\n",
    "\n",
    "# Full outer join on article_id and dataset_id\n",
    "joined = pred_df.join(truth_df, on=[\"article_id\", \"dataset_id\"], how=\"full\")\n",
    "print(len(joined))\n",
    "# Add error type column\n",
    "error_expr = (\n",
    "    pl.when(pl.col(\"type\").is_null() & pl.col(\"type_truth\").is_not_null()).then(pl.lit(\"false_negative\"))\n",
    "    .when(pl.col(\"type\").is_not_null() & pl.col(\"type_truth\").is_null()).then(pl.lit(\"false_positive\"))\n",
    "    .when(\n",
    "        pl.col(\"type\").is_not_null()\n",
    "        & pl.col(\"type_truth\").is_not_null()\n",
    "        & (pl.col(\"type\") != pl.col(\"type_truth\"))\n",
    "    ).then(pl.lit(\"type_mismatch\"))\n",
    "    .otherwise(pl.lit(\"correct\"))\n",
    ")\n",
    "\n",
    "joined = joined.with_columns(error_expr.alias(\"error_type\"))\n",
    "\n",
    "# Extract error subsets\n",
    "false_negatives = joined.filter(pl.col(\"error_type\") == \"false_negative\")\n",
    "false_positives = joined.filter(pl.col(\"error_type\") == \"false_positive\")\n",
    "type_mismatches = joined.filter(pl.col(\"error_type\") == \"type_mismatch\")\n",
    "\n",
    "# Report\n",
    "print(f\"False negatives: {false_negatives.shape[0]}\")\n",
    "print(f\"False positives: {false_positives.shape[0]}\")\n",
    "print(f\"Type mismatches: {type_mismatches.shape[0]}\")\n",
    "\n",
    "# Save detailed breakdowns\n",
    "false_negatives.write_csv(\"/kaggle/working/false_negatives.csv\")\n",
    "false_positives.write_csv(\"/kaggle/working/false_positives.csv\")\n",
    "type_mismatches.write_csv(\"/kaggle/working/type_mismatches.csv\")\n"
   ]
  },
  {
   "cell_type": "code",
   "execution_count": 24,
   "id": "61338b89",
   "metadata": {
    "execution": {
     "iopub.execute_input": "2025-07-31T20:38:40.437779Z",
     "iopub.status.busy": "2025-07-31T20:38:40.437542Z",
     "iopub.status.idle": "2025-07-31T20:38:40.511004Z",
     "shell.execute_reply": "2025-07-31T20:38:40.510150Z"
    },
    "papermill": {
     "duration": 0.096219,
     "end_time": "2025-07-31T20:38:40.512133",
     "exception": false,
     "start_time": "2025-07-31T20:38:40.415914",
     "status": "completed"
    },
    "tags": []
   },
   "outputs": [
    {
     "name": "stderr",
     "output_type": "stream",
     "text": [
      "/usr/local/lib/python3.11/dist-packages/pandas/io/formats/format.py:1458: RuntimeWarning: invalid value encountered in greater\n",
      "  has_large_values = (abs_vals > 1e6).any()\n",
      "/usr/local/lib/python3.11/dist-packages/pandas/io/formats/format.py:1459: RuntimeWarning: invalid value encountered in less\n",
      "  has_small_values = ((abs_vals < 10 ** (-self.digits)) & (abs_vals > 0)).any()\n",
      "/usr/local/lib/python3.11/dist-packages/pandas/io/formats/format.py:1459: RuntimeWarning: invalid value encountered in greater\n",
      "  has_small_values = ((abs_vals < 10 ** (-self.digits)) & (abs_vals > 0)).any()\n"
     ]
    },
    {
     "data": {
      "text/html": [
       "<div>\n",
       "<style scoped>\n",
       "    .dataframe tbody tr th:only-of-type {\n",
       "        vertical-align: middle;\n",
       "    }\n",
       "\n",
       "    .dataframe tbody tr th {\n",
       "        vertical-align: top;\n",
       "    }\n",
       "\n",
       "    .dataframe thead th {\n",
       "        text-align: right;\n",
       "    }\n",
       "</style>\n",
       "<table border=\"1\" class=\"dataframe\">\n",
       "  <thead>\n",
       "    <tr style=\"text-align: right;\">\n",
       "      <th></th>\n",
       "      <th>article_id</th>\n",
       "      <th>dataset_id</th>\n",
       "      <th>type_truth</th>\n",
       "      <th>type_llm</th>\n",
       "      <th>logprob_A</th>\n",
       "      <th>logprob_B</th>\n",
       "      <th>type_scibert</th>\n",
       "      <th>logit_primary</th>\n",
       "      <th>logit_secondary</th>\n",
       "    </tr>\n",
       "  </thead>\n",
       "  <tbody>\n",
       "    <tr>\n",
       "      <th>0</th>\n",
       "      <td>10.1002_2017jc013030</td>\n",
       "      <td>https://doi.org/10.17882/49388</td>\n",
       "      <td>Primary</td>\n",
       "      <td>NaN</td>\n",
       "      <td>NaN</td>\n",
       "      <td>NaN</td>\n",
       "      <td>NaN</td>\n",
       "      <td>NaN</td>\n",
       "      <td>NaN</td>\n",
       "    </tr>\n",
       "    <tr>\n",
       "      <th>1</th>\n",
       "      <td>10.1002_ece3.4466</td>\n",
       "      <td>https://doi.org/10.5061/dryad.r6nq870</td>\n",
       "      <td>Primary</td>\n",
       "      <td>True</td>\n",
       "      <td>0.0</td>\n",
       "      <td>-150.661774</td>\n",
       "      <td>Primary</td>\n",
       "      <td>2.372571</td>\n",
       "      <td>-1.902298</td>\n",
       "    </tr>\n",
       "    <tr>\n",
       "      <th>2</th>\n",
       "      <td>10.1002_ece3.5260</td>\n",
       "      <td>https://doi.org/10.5061/dryad.2f62927</td>\n",
       "      <td>Primary</td>\n",
       "      <td>True</td>\n",
       "      <td>0.0</td>\n",
       "      <td>-145.347992</td>\n",
       "      <td>Primary</td>\n",
       "      <td>2.089813</td>\n",
       "      <td>-1.519837</td>\n",
       "    </tr>\n",
       "    <tr>\n",
       "      <th>3</th>\n",
       "      <td>10.1002_ece3.6144</td>\n",
       "      <td>https://doi.org/10.5061/dryad.zw3r22854</td>\n",
       "      <td>Primary</td>\n",
       "      <td>True</td>\n",
       "      <td>0.0</td>\n",
       "      <td>-141.284485</td>\n",
       "      <td>Primary</td>\n",
       "      <td>2.192287</td>\n",
       "      <td>-1.654930</td>\n",
       "    </tr>\n",
       "    <tr>\n",
       "      <th>4</th>\n",
       "      <td>10.1002_ece3.6303</td>\n",
       "      <td>https://doi.org/10.5061/dryad.37pvmcvgb</td>\n",
       "      <td>Primary</td>\n",
       "      <td>True</td>\n",
       "      <td>0.0</td>\n",
       "      <td>-175.042725</td>\n",
       "      <td>Primary</td>\n",
       "      <td>2.379811</td>\n",
       "      <td>-1.916411</td>\n",
       "    </tr>\n",
       "  </tbody>\n",
       "</table>\n",
       "</div>"
      ],
      "text/plain": [
       "             article_id                               dataset_id type_truth  \\\n",
       "0  10.1002_2017jc013030           https://doi.org/10.17882/49388    Primary   \n",
       "1     10.1002_ece3.4466    https://doi.org/10.5061/dryad.r6nq870    Primary   \n",
       "2     10.1002_ece3.5260    https://doi.org/10.5061/dryad.2f62927    Primary   \n",
       "3     10.1002_ece3.6144  https://doi.org/10.5061/dryad.zw3r22854    Primary   \n",
       "4     10.1002_ece3.6303  https://doi.org/10.5061/dryad.37pvmcvgb    Primary   \n",
       "\n",
       "  type_llm  logprob_A   logprob_B type_scibert  logit_primary  logit_secondary  \n",
       "0      NaN        NaN         NaN          NaN            NaN              NaN  \n",
       "1     True        0.0 -150.661774      Primary       2.372571        -1.902298  \n",
       "2     True        0.0 -145.347992      Primary       2.089813        -1.519837  \n",
       "3     True        0.0 -141.284485      Primary       2.192287        -1.654930  \n",
       "4     True        0.0 -175.042725      Primary       2.379811        -1.916411  "
      ]
     },
     "execution_count": 24,
     "metadata": {},
     "output_type": "execute_result"
    }
   ],
   "source": [
    "import pandas as pd\n",
    "\n",
    "# Load everything\n",
    "truth = pd.read_csv(\"/kaggle/input/make-data-count-finding-data-references/train_labels.csv\")\n",
    "truth = truth[truth[\"type\"] != \"Missing\"].copy()\n",
    "llm = pd.read_csv(\"/kaggle/working/submission_llm_logprobs.csv\").rename(columns={\"type\": \"type_llm\"})\n",
    "scibert = pd.read_csv(\"/kaggle/working/submission_scibert_logits.csv\").rename(columns={\"pred_label\": \"type_scibert\"})\n",
    "# Ensure no trailing slashes, lowercase, and consistent formats\n",
    "truth[\"article_id\"] = truth[\"article_id\"].astype(str).str.strip()\n",
    "truth[\"dataset_id\"] = truth[\"dataset_id\"].astype(str).str.strip().str.lower()\n",
    "\n",
    "llm[\"article_id\"] = llm[\"article_id\"].astype(str).str.strip()\n",
    "llm[\"dataset_id\"] = llm[\"dataset_id\"].astype(str).str.strip().str.lower()\n",
    "\n",
    "scibert[\"article_id\"] = scibert[\"article_id\"].astype(str).str.strip()\n",
    "scibert[\"dataset_id\"] = scibert[\"dataset_id\"].astype(str).str.strip().str.lower()\n",
    "\n",
    "# Merge\n",
    "df = (\n",
    "    truth.rename(columns={\"type\": \"type_truth\"})\n",
    "    .merge(llm, on=[\"article_id\", \"dataset_id\"], how=\"left\")\n",
    "    .merge(scibert, on=[\"article_id\", \"dataset_id\"], how=\"left\")\n",
    ")\n",
    "\n",
    "# Save\n",
    "df.to_csv(\"/kaggle/working/merged_predictions_with_confidence.csv\", index=False)\n",
    "\n",
    "# Preview\n",
    "df.head()"
   ]
  },
  {
   "cell_type": "code",
   "execution_count": 25,
   "id": "41805e52",
   "metadata": {
    "execution": {
     "iopub.execute_input": "2025-07-31T20:38:40.555995Z",
     "iopub.status.busy": "2025-07-31T20:38:40.555797Z",
     "iopub.status.idle": "2025-07-31T20:38:40.561405Z",
     "shell.execute_reply": "2025-07-31T20:38:40.560674Z"
    },
    "papermill": {
     "duration": 0.028299,
     "end_time": "2025-07-31T20:38:40.562401",
     "exception": false,
     "start_time": "2025-07-31T20:38:40.534102",
     "status": "completed"
    },
    "tags": []
   },
   "outputs": [
    {
     "name": "stdout",
     "output_type": "stream",
     "text": [
      "truth total: 719\n",
      "truth ∩ llm: 164\n",
      "truth ∩ scibert: 486\n"
     ]
    }
   ],
   "source": [
    "truth_keys = set(zip(truth[\"article_id\"], truth[\"dataset_id\"]))\n",
    "llm_keys = set(zip(llm[\"article_id\"], llm[\"dataset_id\"]))\n",
    "scibert_keys = set(zip(scibert[\"article_id\"], scibert[\"dataset_id\"]))\n",
    "\n",
    "print(\"truth total:\", len(truth_keys))\n",
    "print(\"truth ∩ llm:\", len(truth_keys & llm_keys))\n",
    "print(\"truth ∩ scibert:\", len(truth_keys & scibert_keys))\n"
   ]
  },
  {
   "cell_type": "code",
   "execution_count": 26,
   "id": "8af6ee95",
   "metadata": {
    "execution": {
     "iopub.execute_input": "2025-07-31T20:38:40.606052Z",
     "iopub.status.busy": "2025-07-31T20:38:40.605847Z",
     "iopub.status.idle": "2025-07-31T20:38:40.610022Z",
     "shell.execute_reply": "2025-07-31T20:38:40.609299Z"
    },
    "papermill": {
     "duration": 0.02701,
     "end_time": "2025-07-31T20:38:40.611115",
     "exception": false,
     "start_time": "2025-07-31T20:38:40.584105",
     "status": "completed"
    },
    "tags": []
   },
   "outputs": [
    {
     "name": "stdout",
     "output_type": "stream",
     "text": [
      "Missing in LLM: [('10.1111_cas.12935', 'p53004'), ('10.17581_bp.2020.09104', 'https://doi.org/10.15468/dl.ze0mrg'), ('10.1016_j.fuel.2022.125768', 'https://doi.org/10.11583/dtu.20555586.v3'), ('10.3389_fmicb.2024.1456637', 'samn08172567'), ('10.1371_journal.pone.0070749', 'https://doi.org/10.5061/dryad.5q1sb.2')]\n",
      "Missing in SciBERT: [('10.1038_s41597-023-02280-2', 'empiar-10028'), ('10.21203_rs.3.rs-3338732_v1', 'https://doi.org/10.5066/p9vqpe9w'), ('10.1093_nar_gkp1049', '3.30.450.40'), ('10.7554_elife.63455', 'https://doi.org/10.5061/dryad.qnk98sffp'), ('10.1136_jitc-2021-003114', 'cvcl_0395')]\n"
     ]
    }
   ],
   "source": [
    "missing_in_llm = truth_keys - llm_keys\n",
    "missing_in_scibert = truth_keys - scibert_keys\n",
    "\n",
    "print(\"Missing in LLM:\", list(missing_in_llm)[:5])\n",
    "print(\"Missing in SciBERT:\", list(missing_in_scibert)[:5])\n"
   ]
  },
  {
   "cell_type": "code",
   "execution_count": 27,
   "id": "2ac270a9",
   "metadata": {
    "execution": {
     "iopub.execute_input": "2025-07-31T20:38:40.654778Z",
     "iopub.status.busy": "2025-07-31T20:38:40.654392Z",
     "iopub.status.idle": "2025-07-31T20:38:40.658090Z",
     "shell.execute_reply": "2025-07-31T20:38:40.657483Z"
    },
    "papermill": {
     "duration": 0.026472,
     "end_time": "2025-07-31T20:38:40.659132",
     "exception": false,
     "start_time": "2025-07-31T20:38:40.632660",
     "status": "completed"
    },
    "tags": []
   },
   "outputs": [],
   "source": [
    "import numpy as np\n",
    "\n",
    "def softmax_probs_llm(logA, logB):\n",
    "    logits = np.array([logA, logB])\n",
    "    probs = np.exp(logits - np.max(logits))  # logit-stabilized\n",
    "    probs /= probs.sum()\n",
    "    return probs[0], probs[1]  # P(A), P(B)"
   ]
  },
  {
   "cell_type": "code",
   "execution_count": 28,
   "id": "1a55f123",
   "metadata": {
    "execution": {
     "iopub.execute_input": "2025-07-31T20:38:40.702511Z",
     "iopub.status.busy": "2025-07-31T20:38:40.702099Z",
     "iopub.status.idle": "2025-07-31T20:38:40.715312Z",
     "shell.execute_reply": "2025-07-31T20:38:40.714599Z"
    },
    "papermill": {
     "duration": 0.036355,
     "end_time": "2025-07-31T20:38:40.716680",
     "exception": false,
     "start_time": "2025-07-31T20:38:40.680325",
     "status": "completed"
    },
    "tags": []
   },
   "outputs": [],
   "source": [
    "llm_df = llm\n",
    "llm_df[\"llm_prob_A\"], llm_df[\"llm_prob_B\"] = zip(*llm_df.apply(\n",
    "    lambda row: softmax_probs_llm(row[\"logprob_A\"], row[\"logprob_B\"]),\n",
    "    axis=1\n",
    "))\n",
    "llm_df[\"llm_margin\"] = abs(llm_df[\"llm_prob_A\"] - llm_df[\"llm_prob_B\"])\n"
   ]
  },
  {
   "cell_type": "code",
   "execution_count": 29,
   "id": "7d520256",
   "metadata": {
    "execution": {
     "iopub.execute_input": "2025-07-31T20:38:40.760316Z",
     "iopub.status.busy": "2025-07-31T20:38:40.760140Z",
     "iopub.status.idle": "2025-07-31T20:38:41.298271Z",
     "shell.execute_reply": "2025-07-31T20:38:41.297695Z"
    },
    "papermill": {
     "duration": 0.5615,
     "end_time": "2025-07-31T20:38:41.299573",
     "exception": false,
     "start_time": "2025-07-31T20:38:40.738073",
     "status": "completed"
    },
    "tags": []
   },
   "outputs": [],
   "source": [
    "scibert_df = scibert.copy()\n",
    "import numpy as np\n",
    "\n",
    "def softmax_probs_scibert_2class(logit_primary, logit_secondary):\n",
    "    logits = np.array([logit_primary, logit_secondary])\n",
    "    exps = np.exp(logits - np.max(logits))  # for numerical stability\n",
    "    return exps / exps.sum()\n",
    "\n",
    "# Apply row-wise\n",
    "scibert_df[[\"scibert_Primary\", \"scibert_Secondary\"]] = scibert_df.apply(\n",
    "    lambda row: pd.Series(softmax_probs_scibert_2class(row[\"logit_primary\"], row[\"logit_secondary\"])),\n",
    "    axis=1\n",
    ")\n",
    "\n",
    "# Compute margin\n",
    "scibert_df[\"scibert_margin\"] = abs(scibert_df[\"scibert_Primary\"] - scibert_df[\"scibert_Secondary\"])\n"
   ]
  },
  {
   "cell_type": "code",
   "execution_count": 30,
   "id": "bec13908",
   "metadata": {
    "execution": {
     "iopub.execute_input": "2025-07-31T20:38:41.343858Z",
     "iopub.status.busy": "2025-07-31T20:38:41.343596Z",
     "iopub.status.idle": "2025-07-31T20:38:41.347738Z",
     "shell.execute_reply": "2025-07-31T20:38:41.347050Z"
    },
    "papermill": {
     "duration": 0.027125,
     "end_time": "2025-07-31T20:38:41.348926",
     "exception": false,
     "start_time": "2025-07-31T20:38:41.321801",
     "status": "completed"
    },
    "tags": []
   },
   "outputs": [],
   "source": [
    "merged_df = df.copy()"
   ]
  },
  {
   "cell_type": "code",
   "execution_count": 31,
   "id": "f74ea81a",
   "metadata": {
    "execution": {
     "iopub.execute_input": "2025-07-31T20:38:41.392601Z",
     "iopub.status.busy": "2025-07-31T20:38:41.392427Z",
     "iopub.status.idle": "2025-07-31T20:38:41.402772Z",
     "shell.execute_reply": "2025-07-31T20:38:41.402080Z"
    },
    "papermill": {
     "duration": 0.033025,
     "end_time": "2025-07-31T20:38:41.403894",
     "exception": false,
     "start_time": "2025-07-31T20:38:41.370869",
     "status": "completed"
    },
    "tags": []
   },
   "outputs": [],
   "source": [
    "merged_df = merged_df.merge(llm_df[[\"article_id\", \"dataset_id\", \"llm_prob_A\", \"llm_prob_B\", \"llm_margin\"]], on=[\"article_id\", \"dataset_id\"], how=\"left\")\n",
    "merged_df = merged_df.merge(scibert_df[[\"article_id\", \"dataset_id\", \"scibert_Primary\", \"scibert_Secondary\", \"scibert_margin\"]], on=[\"article_id\", \"dataset_id\"], how=\"left\")"
   ]
  },
  {
   "cell_type": "code",
   "execution_count": 32,
   "id": "53c16374",
   "metadata": {
    "execution": {
     "iopub.execute_input": "2025-07-31T20:38:41.447109Z",
     "iopub.status.busy": "2025-07-31T20:38:41.446899Z",
     "iopub.status.idle": "2025-07-31T20:38:41.450265Z",
     "shell.execute_reply": "2025-07-31T20:38:41.449770Z"
    },
    "papermill": {
     "duration": 0.02619,
     "end_time": "2025-07-31T20:38:41.451225",
     "exception": false,
     "start_time": "2025-07-31T20:38:41.425035",
     "status": "completed"
    },
    "tags": []
   },
   "outputs": [],
   "source": [
    "def choose_type(row):\n",
    "    if row[\"llm_margin\"] >= 0.6:\n",
    "        return row[\"type_llm\"]\n",
    "    elif row[\"scibert_margin\"] >= 0.3:\n",
    "        return row[\"type_scibert\"]\n",
    "    else:\n",
    "        return row[\"type_llm\"]  # fallback if both are unsure\n",
    "# merged_df[\"type_hybrid\"] = merged_df.apply(choose_type, axis=1)"
   ]
  },
  {
   "cell_type": "markdown",
   "id": "2d100482",
   "metadata": {
    "papermill": {
     "duration": 0.021084,
     "end_time": "2025-07-31T20:38:41.493671",
     "exception": false,
     "start_time": "2025-07-31T20:38:41.472587",
     "status": "completed"
    },
    "tags": []
   },
   "source": [
    "OR:"
   ]
  },
  {
   "cell_type": "code",
   "execution_count": 33,
   "id": "452c0fb8",
   "metadata": {
    "execution": {
     "iopub.execute_input": "2025-07-31T20:38:41.536667Z",
     "iopub.status.busy": "2025-07-31T20:38:41.536463Z",
     "iopub.status.idle": "2025-07-31T20:38:41.547978Z",
     "shell.execute_reply": "2025-07-31T20:38:41.547424Z"
    },
    "papermill": {
     "duration": 0.034171,
     "end_time": "2025-07-31T20:38:41.548987",
     "exception": false,
     "start_time": "2025-07-31T20:38:41.514816",
     "status": "completed"
    },
    "tags": []
   },
   "outputs": [],
   "source": [
    "def combine_probs(row, alpha=0.6):\n",
    "    # LLM is binary: A=Primary, B=Secondary\n",
    "    p_primary = alpha * row[\"llm_prob_A\"] + (1 - alpha) * row[\"scibert_Primary\"]\n",
    "    p_secondary = alpha * row[\"llm_prob_B\"] + (1 - alpha) * row[\"scibert_Secondary\"]\n",
    "    return \"Primary\" if p_primary > p_secondary else \"Secondary\"\n",
    "\n",
    "merged_df[\"type_hybrid\"] = merged_df.apply(combine_probs, axis=1)"
   ]
  },
  {
   "cell_type": "code",
   "execution_count": 34,
   "id": "8f84eff9",
   "metadata": {
    "execution": {
     "iopub.execute_input": "2025-07-31T20:38:41.592944Z",
     "iopub.status.busy": "2025-07-31T20:38:41.592721Z",
     "iopub.status.idle": "2025-07-31T20:38:41.921076Z",
     "shell.execute_reply": "2025-07-31T20:38:41.920313Z"
    },
    "papermill": {
     "duration": 0.35197,
     "end_time": "2025-07-31T20:38:41.922227",
     "exception": false,
     "start_time": "2025-07-31T20:38:41.570257",
     "status": "completed"
    },
    "tags": []
   },
   "outputs": [
    {
     "name": "stdout",
     "output_type": "stream",
     "text": [
      "✅ Saved: /kaggle/working/submission_hybrid.csv\n"
     ]
    },
    {
     "name": "stderr",
     "output_type": "stream",
     "text": [
      "huggingface/tokenizers: The current process just got forked, after parallelism has already been used. Disabling parallelism to avoid deadlocks...\n",
      "To disable this warning, you can either:\n",
      "\t- Avoid using `tokenizers` before the fork if possible\n",
      "\t- Explicitly set the environment variable TOKENIZERS_PARALLELISM=(true | false)\n",
      "huggingface/tokenizers: The current process just got forked, after parallelism has already been used. Disabling parallelism to avoid deadlocks...\n",
      "To disable this warning, you can either:\n",
      "\t- Avoid using `tokenizers` before the fork if possible\n",
      "\t- Explicitly set the environment variable TOKENIZERS_PARALLELISM=(true | false)\n"
     ]
    }
   ],
   "source": [
    "import pandas as pd\n",
    "import numpy as np\n",
    "\n",
    "# Use the merged dataframe you already created\n",
    "df = merged_df.copy()\n",
    "\n",
    "# Ensure proper types\n",
    "df = df.dropna(subset=[\"type_scibert\", \"logit_primary\", \"logit_secondary\"])\n",
    "df = df[df[\"type_scibert\"] != \"Missing\"]\n",
    "\n",
    "# Compute softmax probabilities for SciBERT\n",
    "def softmax(logits):\n",
    "    exps = np.exp(logits - np.max(logits))\n",
    "    return exps / exps.sum()\n",
    "\n",
    "scibert_probs = df[[\"logit_primary\", \"logit_secondary\"]].apply(lambda row: softmax(row.values), axis=1)\n",
    "scibert_probs = np.stack(scibert_probs.values)\n",
    "\n",
    "df[\"scibert_prob_primary\"] = scibert_probs[:, 0]\n",
    "df[\"scibert_prob_secondary\"] = scibert_probs[:, 1]\n",
    "df[\"scibert_margin\"] = np.abs(df[\"scibert_prob_primary\"] - df[\"scibert_prob_secondary\"])\n",
    "\n",
    "# Compute LLM margin\n",
    "def softmax_llm(logA, logB):\n",
    "    probs = np.exp([logA, logB])\n",
    "    probs /= probs.sum()\n",
    "    return probs\n",
    "\n",
    "llm_probs = df[[\"logprob_A\", \"logprob_B\"]].dropna().apply(lambda row: softmax_llm(row[\"logprob_A\"], row[\"logprob_B\"]), axis=1)\n",
    "llm_probs = pd.DataFrame(llm_probs.tolist(), columns=[\"llm_prob_A\", \"llm_prob_B\"])\n",
    "df[[\"llm_prob_A\", \"llm_prob_B\"]] = llm_probs\n",
    "df[\"llm_margin\"] = np.abs(df[\"llm_prob_A\"] - df[\"llm_prob_B\"])\n",
    "df[\"type_llm\"] = df[\"type_llm\"].map({True: \"Primary\", False: \"Secondary\"}).fillna(df[\"type_llm\"])\n",
    "# Make hybrid decision: pick prediction from higher-margin model\n",
    "def decide(row):\n",
    "    if np.isnan(row[\"llm_margin\"]):\n",
    "        return row[\"type_scibert\"]\n",
    "    return row[\"type_llm\"] if row[\"llm_margin\"] > row[\"scibert_margin\"] else row[\"type_scibert\"]\n",
    "\n",
    "df[\"type\"] = df.apply(decide, axis=1)\n",
    "\n",
    "# Filter and format for submission\n",
    "submission_hyb = df[df[\"type\"] != \"Missing\"][[\"article_id\", \"dataset_id\", \"type\"]].reset_index(drop=True)\n",
    "submission_hyb.insert(0, \"row_id\", submission_hyb.index)\n",
    "\n",
    "# Save\n",
    "submission_hyb.to_csv(\"/kaggle/working/submission_hybrid.csv\", index=False)\n",
    "print(\"✅ Saved: /kaggle/working/submission_hybrid.csv\")\n",
    "! mv /kaggle/working/submission.csv /kaggle/working/submission_bak.csv\n",
    "! mv /kaggle/working/submission_hybrid.csv /kaggle/working/submission.csv"
   ]
  },
  {
   "cell_type": "code",
   "execution_count": 35,
   "id": "095c38a9",
   "metadata": {
    "execution": {
     "iopub.execute_input": "2025-07-31T20:38:41.966653Z",
     "iopub.status.busy": "2025-07-31T20:38:41.966403Z",
     "iopub.status.idle": "2025-07-31T20:38:41.971889Z",
     "shell.execute_reply": "2025-07-31T20:38:41.971317Z"
    },
    "papermill": {
     "duration": 0.028667,
     "end_time": "2025-07-31T20:38:41.972901",
     "exception": false,
     "start_time": "2025-07-31T20:38:41.944234",
     "status": "completed"
    },
    "tags": []
   },
   "outputs": [
    {
     "name": "stdout",
     "output_type": "stream",
     "text": [
      "Writing /tmp/src/hybrid_submission.py\n"
     ]
    }
   ],
   "source": [
    "%%writefile /tmp/src/hybrid_submission.py\n",
    "import polars as pl\n",
    "from helpers import *\n",
    "\n",
    "l = get_logger()\n",
    "\n",
    "# Load submissions and truth\n",
    "llm = pl.read_csv(\"/kaggle/working/submission.csv\")\n",
    "scibert = pl.read_csv(\"/kaggle/working/submission_scibert.csv\")\n",
    "truth = pl.read_csv(\"/kaggle/input/make-data-count-finding-data-references/train_labels.csv\")\n",
    "\n",
    "# Rename columns for disambiguation\n",
    "truth = truth.rename({\"type\": \"type_truth\"})\n",
    "llm = llm.rename({\"type\": \"type_llm\"})\n",
    "scibert = scibert.rename({\"type\": \"type_scibert\"})\n",
    "\n",
    "# Join all three\n",
    "joined = llm.join(scibert, on=[\"article_id\", \"dataset_id\"], how=\"outer\")\n",
    "joined = joined.join(truth, on=[\"article_id\", \"dataset_id\"], how=\"left\")\n",
    "\n",
    "# Hybrid logic: trust scibert only when LLM disagrees with ground truth\n",
    "hybrid_type = (\n",
    "    pl.when(joined[\"type_llm\"] != joined[\"type_truth\"])\n",
    "    .then(joined[\"type_scibert\"])\n",
    "    .otherwise(joined[\"type_llm\"])\n",
    "    .alias(\"type\")\n",
    ")\n",
    "\n",
    "final = joined.with_columns(hybrid_type).select([\"article_id\", \"dataset_id\", \"type\"])\n",
    "final = final.with_row_index(\"row_id\")\n",
    "final.write_csv(\"/kaggle/working/submission_hybrid.csv\")\n",
    "\n",
    "if not IS_KAGGLE_SUBMISSION:\n",
    "    for r in evaluate(final): l.info(r)\n",
    "    for r in evaluate(final, on=[\"article_id\", \"dataset_id\", \"type\"]): l.info(r)\n"
   ]
  },
  {
   "cell_type": "code",
   "execution_count": 36,
   "id": "ff6f6a04",
   "metadata": {
    "execution": {
     "iopub.execute_input": "2025-07-31T20:38:42.016388Z",
     "iopub.status.busy": "2025-07-31T20:38:42.016210Z",
     "iopub.status.idle": "2025-07-31T20:38:42.019643Z",
     "shell.execute_reply": "2025-07-31T20:38:42.018894Z"
    },
    "papermill": {
     "duration": 0.026422,
     "end_time": "2025-07-31T20:38:42.020793",
     "exception": false,
     "start_time": "2025-07-31T20:38:41.994371",
     "status": "completed"
    },
    "tags": []
   },
   "outputs": [],
   "source": [
    "#! python src/hybrid_submission.py"
   ]
  },
  {
   "cell_type": "code",
   "execution_count": 37,
   "id": "597cabd4",
   "metadata": {
    "execution": {
     "iopub.execute_input": "2025-07-31T20:38:42.064746Z",
     "iopub.status.busy": "2025-07-31T20:38:42.064550Z",
     "iopub.status.idle": "2025-07-31T20:38:42.172921Z",
     "shell.execute_reply": "2025-07-31T20:38:42.172088Z"
    },
    "papermill": {
     "duration": 0.131498,
     "end_time": "2025-07-31T20:38:42.174092",
     "exception": false,
     "start_time": "2025-07-31T20:38:42.042594",
     "status": "completed"
    },
    "tags": []
   },
   "outputs": [
    {
     "name": "stdout",
     "output_type": "stream",
     "text": [
      "1388\n",
      "False negatives: 902\n",
      "False positives: 248\n",
      "Type mismatches: 12\n"
     ]
    }
   ],
   "source": [
    "# %%writefile /tmp/src/Failures.py\n",
    "import polars as pl\n",
    "\n",
    "# Load SciBERT predictions\n",
    "# pred_df = pl.read_parquet(\"/tmp/scibert_predictions.parquet\")#.rename({\"pred_type\": \"type\"})\n",
    "pred_df = pl.read_csv(\"/kaggle/working/submission.csv\")\n",
    "\n",
    "# Load official labels\n",
    "truth_df = pl.read_csv(\"/kaggle/input/make-data-count-finding-data-references/train_labels.csv\")\n",
    "\n",
    "# Rename truth type for disambiguation\n",
    "truth_df = truth_df.rename({\"type\": \"type_truth\"})\n",
    "\n",
    "# Full outer join on article_id and dataset_id\n",
    "joined = pred_df.join(truth_df, on=[\"article_id\", \"dataset_id\"], how=\"full\")\n",
    "print(len(joined))\n",
    "# Add error type column\n",
    "error_expr = (\n",
    "    pl.when(pl.col(\"type\").is_null() & pl.col(\"type_truth\").is_not_null()).then(pl.lit(\"false_negative\"))\n",
    "    .when(pl.col(\"type\").is_not_null() & pl.col(\"type_truth\").is_null()).then(pl.lit(\"false_positive\"))\n",
    "    .when(\n",
    "        pl.col(\"type\").is_not_null()\n",
    "        & pl.col(\"type_truth\").is_not_null()\n",
    "        & (pl.col(\"type\") != pl.col(\"type_truth\"))\n",
    "    ).then(pl.lit(\"type_mismatch\"))\n",
    "    .otherwise(pl.lit(\"correct\"))\n",
    ")\n",
    "\n",
    "joined = joined.with_columns(error_expr.alias(\"error_type\"))\n",
    "\n",
    "# Extract error subsets\n",
    "false_negatives = joined.filter(pl.col(\"error_type\") == \"false_negative\")\n",
    "false_positives = joined.filter(pl.col(\"error_type\") == \"false_positive\")\n",
    "type_mismatches = joined.filter(pl.col(\"error_type\") == \"type_mismatch\")\n",
    "\n",
    "# Report\n",
    "print(f\"False negatives: {false_negatives.shape[0]}\")\n",
    "print(f\"False positives: {false_positives.shape[0]}\")\n",
    "print(f\"Type mismatches: {type_mismatches.shape[0]}\")\n",
    "\n",
    "# Save detailed breakdowns\n",
    "false_negatives.write_csv(\"/kaggle/working/false_negatives.csv\")\n",
    "false_positives.write_csv(\"/kaggle/working/false_positives.csv\")\n",
    "type_mismatches.write_csv(\"/kaggle/working/type_mismatches.csv\")\n"
   ]
  },
  {
   "cell_type": "code",
   "execution_count": 38,
   "id": "26ca9b38",
   "metadata": {
    "execution": {
     "iopub.execute_input": "2025-07-31T20:38:42.218711Z",
     "iopub.status.busy": "2025-07-31T20:38:42.218135Z",
     "iopub.status.idle": "2025-07-31T20:38:42.222913Z",
     "shell.execute_reply": "2025-07-31T20:38:42.222202Z"
    },
    "papermill": {
     "duration": 0.028074,
     "end_time": "2025-07-31T20:38:42.224065",
     "exception": false,
     "start_time": "2025-07-31T20:38:42.195991",
     "status": "completed"
    },
    "tags": []
   },
   "outputs": [
    {
     "name": "stdout",
     "output_type": "stream",
     "text": [
      "Writing /tmp/src/CoinSubm.py\n"
     ]
    }
   ],
   "source": [
    "%%writefile /tmp/src/CoinSubm.py\n",
    "import pandas as pd\n",
    "import numpy as np\n",
    "\n",
    "# Load label distribution from train_labels\n",
    "train_labels = pd.read_csv(\"/kaggle/input/make-data-count-finding-data-references/train_labels.csv\")\n",
    "label_counts = train_labels['type'].value_counts(normalize=True)\n",
    "print(\"Label distribution (used for coin toss):\")\n",
    "print(label_counts)\n",
    "\n",
    "# Load extracted features to apply prediction\n",
    "extracted = pd.read_parquet(\"/tmp/extracted.parquet\")\n",
    "\n",
    "# Drop missing windows if necessary (optional)\n",
    "extracted = extracted.dropna(subset=['window'])\n",
    "\n",
    "# Simulate biased coin: sample from class distribution\n",
    "np.random.seed(42)\n",
    "predicted_labels = np.random.choice(\n",
    "    label_counts.index,           # ['Primary', 'Secondary', 'Missing']\n",
    "    size=len(extracted),\n",
    "    p=label_counts.values         # e.g., [0.3, 0.5, 0.2]\n",
    ")\n",
    "\n",
    "# Build submission\n",
    "submission = extracted[['article_id', 'dataset_id']].copy()\n",
    "submission['type'] = predicted_labels\n",
    "submission = submission[submission['type'] != \"Missing\"]  # Only include non-Missing in submission\n",
    "\n",
    "# Add row_id\n",
    "submission = submission.reset_index(drop=True).reset_index(names=\"row_id\")\n",
    "\n",
    "# Save\n",
    "submission.to_csv(\"/kaggle/working/submission_coin.csv\", index=False)\n",
    "print(\"Saved to /kaggle/working/submission_coin.csv\")"
   ]
  },
  {
   "cell_type": "code",
   "execution_count": 39,
   "id": "5cbee720",
   "metadata": {
    "execution": {
     "iopub.execute_input": "2025-07-31T20:38:42.267425Z",
     "iopub.status.busy": "2025-07-31T20:38:42.267224Z",
     "iopub.status.idle": "2025-07-31T20:38:42.415254Z",
     "shell.execute_reply": "2025-07-31T20:38:42.414358Z"
    },
    "papermill": {
     "duration": 0.170994,
     "end_time": "2025-07-31T20:38:42.416452",
     "exception": false,
     "start_time": "2025-07-31T20:38:42.245458",
     "status": "completed"
    },
    "tags": []
   },
   "outputs": [
    {
     "name": "stdout",
     "output_type": "stream",
     "text": [
      "INFO 2025-07-31 20:30:43  [check_parse.py:31 - main()] pymupdf misses: 42 dataset_ids\r\n",
      "INFO 2025-07-31 20:30:51  [getid.py:192 - main()] all - f1: 0.5341 [486/615/233]\r\n",
      "INFO 2025-07-31 20:30:51  [getid.py:192 - main()] doi - f1: 0.4344 [164/266/161]\r\n",
      "INFO 2025-07-31 20:30:51  [getid.py:192 - main()] acc - f1: 0.6047 [322/349/72]\r\n",
      "INFO 2025-07-31 20:30:51  [getid.py:194 - main()] all - f1: 0.4429 [403/698/316]\r\n",
      "INFO 2025-07-31 20:30:51  [getid.py:194 - main()] doi - f1: 0.3338 [126/304/199]\r\n",
      "INFO 2025-07-31 20:30:51  [getid.py:194 - main()] acc - f1: 0.5202 [277/394/117]\r\n",
      "INFO 2025-07-31 20:31:31  [post_filter_scibert.py:56 - main()] all - f1: 0.5668 [486/510/233]\r\n",
      "INFO 2025-07-31 20:31:31  [post_filter_scibert.py:56 - main()] doi - f1: 0.5046 [164/161/161]\r\n",
      "INFO 2025-07-31 20:31:31  [post_filter_scibert.py:56 - main()] acc - f1: 0.6047 [322/349/72]\r\n",
      "INFO 2025-07-31 20:31:31  [post_filter_scibert.py:57 - main()] all - f1: 0.5411 [464/532/255]\r\n",
      "INFO 2025-07-31 20:31:31  [post_filter_scibert.py:57 - main()] doi - f1: 0.4769 [155/170/170]\r\n",
      "INFO 2025-07-31 20:31:31  [post_filter_scibert.py:57 - main()] acc - f1: 0.5803 [309/362/85]\r\n",
      "INFO 2025-07-31 20:38:31  [llm_validate.py:95 - <module>()] all - f1: 0.5960 [486/426/233]\r\n",
      "INFO 2025-07-31 20:38:31  [llm_validate.py:95 - <module>()] doi - f1: 0.5795 [164/77/161]\r\n",
      "INFO 2025-07-31 20:38:31  [llm_validate.py:95 - <module>()] acc - f1: 0.6047 [322/349/72]\r\n",
      "INFO 2025-07-31 20:38:31  [llm_validate.py:97 - <module>()] all - f1: 0.4942 [403/509/316]\r\n",
      "INFO 2025-07-31 20:38:31  [llm_validate.py:97 - <module>()] doi - f1: 0.4452 [126/115/199]\r\n",
      "INFO 2025-07-31 20:38:31  [llm_validate.py:97 - <module>()] acc - f1: 0.5202 [277/394/117]\r\n",
      "INFO 2025-07-31 20:38:40  [post_filter.py:52 - main()] all - f1: 0.5960 [486/426/233]\r\n",
      "INFO 2025-07-31 20:38:40  [post_filter.py:52 - main()] doi - f1: 0.5795 [164/77/161]\r\n",
      "INFO 2025-07-31 20:38:40  [post_filter.py:52 - main()] acc - f1: 0.6047 [322/349/72]\r\n",
      "INFO 2025-07-31 20:38:40  [post_filter.py:53 - main()] all - f1: 0.4942 [403/509/316]\r\n",
      "INFO 2025-07-31 20:38:40  [post_filter.py:53 - main()] doi - f1: 0.4452 [126/115/199]\r\n",
      "INFO 2025-07-31 20:38:40  [post_filter.py:53 - main()] acc - f1: 0.5202 [277/394/117]\r\n"
     ]
    },
    {
     "name": "stderr",
     "output_type": "stream",
     "text": [
      "huggingface/tokenizers: The current process just got forked, after parallelism has already been used. Disabling parallelism to avoid deadlocks...\n",
      "To disable this warning, you can either:\n",
      "\t- Avoid using `tokenizers` before the fork if possible\n",
      "\t- Explicitly set the environment variable TOKENIZERS_PARALLELISM=(true | false)\n"
     ]
    }
   ],
   "source": [
    "! cat /tmp/logs/project.log"
   ]
  },
  {
   "cell_type": "markdown",
   "id": "85a7893e",
   "metadata": {
    "papermill": {
     "duration": 0.02145,
     "end_time": "2025-07-31T20:38:42.459678",
     "exception": false,
     "start_time": "2025-07-31T20:38:42.438228",
     "status": "completed"
    },
    "tags": []
   },
   "source": [
    "INFO 2025-07-23 15:22:18  [post_filter.py:52 - main()] all - f1: 0.6891 [481/196/238]\n",
    "\n",
    "INFO 2025-07-23 15:22:18  [post_filter.py:52 - main()] doi - f1: 0.5889 [164/68/161]\n",
    "\n",
    "INFO 2025-07-23 15:22:18  [post_filter.py:52 - main()] acc - f1: 0.7557 [317/128/77]\n",
    "\n",
    "INFO 2025-07-23 15:22:18  [post_filter.py:53 - main()] all - f1: 0.5759 [402/275/317]\n",
    "\n",
    "INFO 2025-07-23 15:22:18  [post_filter.py:53 - main()] doi - f1: 0.4596 [128/104/197]\n",
    "\n",
    "INFO 2025-07-23 15:22:18  [post_filter.py:53 - main()] acc - f1: 0.6532 [274/171/120]"
   ]
  },
  {
   "cell_type": "markdown",
   "id": "501dbd9b",
   "metadata": {
    "papermill": {
     "duration": 0.021141,
     "end_time": "2025-07-31T20:38:42.502210",
     "exception": false,
     "start_time": "2025-07-31T20:38:42.481069",
     "status": "completed"
    },
    "tags": []
   },
   "source": [
    "INFO 2025-07-30 10:24:30  [post_filter_scibert.py:56 - main()] all - f1: 0.5960 [486/426/233]\n",
    "\n",
    "INFO 2025-07-30 10:24:30  [post_filter_scibert.py:56 - main()] doi - f1: 0.5795 [164/77/161]\n",
    "\n",
    "INFO 2025-07-30 10:24:30  [post_filter_scibert.py:56 - main()] acc - f1: 0.6047 [322/349/72]\n",
    "\n",
    "INFO 2025-07-30 10:24:30  [post_filter_scibert.py:57 - main()] all - f1: 0.5861 [478/434/241]\n",
    "\n",
    "INFO 2025-07-30 10:24:30  [post_filter_scibert.py:57 - main()] doi - f1: 0.5583 [158/83/167]\n",
    "\n",
    "INFO 2025-07-30 10:24:30  [post_filter_scibert.py:57 - main()] acc - f1: 0.6009 [320/351/74]\n"
   ]
  }
 ],
 "metadata": {
  "kaggle": {
   "accelerator": "nvidiaTeslaT4",
   "dataSources": [
    {
     "databundleVersionId": 13015230,
     "isSourceIdPinned": false,
     "sourceId": 82370,
     "sourceType": "competition"
    },
    {
     "datasetId": 7850099,
     "sourceId": 12444547,
     "sourceType": "datasetVersion"
    },
    {
     "datasetId": 7970947,
     "sourceId": 12616808,
     "sourceType": "datasetVersion"
    },
    {
     "datasetId": 7977103,
     "sourceId": 12625129,
     "sourceType": "datasetVersion"
    },
    {
     "sourceId": 248118764,
     "sourceType": "kernelVersion"
    },
    {
     "isSourceIdPinned": false,
     "modelId": 164048,
     "modelInstanceId": 141565,
     "sourceId": 166368,
     "sourceType": "modelInstanceVersion"
    },
    {
     "isSourceIdPinned": false,
     "modelId": 322000,
     "modelInstanceId": 310551,
     "sourceId": 375840,
     "sourceType": "modelInstanceVersion"
    }
   ],
   "dockerImageVersionId": 31090,
   "isGpuEnabled": true,
   "isInternetEnabled": false,
   "language": "python",
   "sourceType": "notebook"
  },
  "kernelspec": {
   "display_name": "Python 3",
   "language": "python",
   "name": "python3"
  },
  "language_info": {
   "codemirror_mode": {
    "name": "ipython",
    "version": 3
   },
   "file_extension": ".py",
   "mimetype": "text/x-python",
   "name": "python",
   "nbconvert_exporter": "python",
   "pygments_lexer": "ipython3",
   "version": "3.11.13"
  },
  "papermill": {
   "default_parameters": {},
   "duration": 622.449757,
   "end_time": "2025-07-31T20:38:45.372411",
   "environment_variables": {},
   "exception": null,
   "input_path": "__notebook__.ipynb",
   "output_path": "__notebook__.ipynb",
   "parameters": {},
   "start_time": "2025-07-31T20:28:22.922654",
   "version": "2.6.0"
  }
 },
 "nbformat": 4,
 "nbformat_minor": 5
}
