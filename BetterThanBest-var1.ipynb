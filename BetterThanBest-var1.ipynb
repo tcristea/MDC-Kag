{
 "cells": [
  {
   "cell_type": "code",
   "execution_count": 1,
   "id": "593505bc",
   "metadata": {
    "_cell_guid": "eae4b221-a822-451f-8f4b-134c3f9bfe2c",
    "_uuid": "b1883565-f717-4130-a662-5bb541f45ea1",
    "collapsed": false,
    "execution": {
     "iopub.execute_input": "2025-07-31T21:30:57.109688Z",
     "iopub.status.busy": "2025-07-31T21:30:57.109449Z",
     "iopub.status.idle": "2025-07-31T21:30:57.971454Z",
     "shell.execute_reply": "2025-07-31T21:30:57.970739Z"
    },
    "jupyter": {
     "outputs_hidden": false
    },
    "papermill": {
     "duration": 0.870641,
     "end_time": "2025-07-31T21:30:57.972744",
     "exception": false,
     "start_time": "2025-07-31T21:30:57.102103",
     "status": "completed"
    },
    "tags": []
   },
   "outputs": [
    {
     "name": "stdout",
     "output_type": "stream",
     "text": [
      "\u001b[2mUsing Python 3.11.13 environment at: /usr\u001b[0m\r\n",
      "\u001b[2K\u001b[2mResolved \u001b[1m1 package\u001b[0m \u001b[2min 37ms\u001b[0m\u001b[0m\r\n",
      "\u001b[2K\u001b[2mPrepared \u001b[1m1 package\u001b[0m \u001b[2min 338ms\u001b[0m\u001b[0m\r\n",
      "\u001b[2K\u001b[2mInstalled \u001b[1m1 package\u001b[0m \u001b[2min 11ms\u001b[0m\u001b[0m\r\n",
      " \u001b[32m+\u001b[39m \u001b[1mpymupdf\u001b[0m\u001b[2m==1.26.1\u001b[0m\r\n"
     ]
    }
   ],
   "source": [
    "# ! uv pip uninstall --system 'tensorflow'\n",
    "! uv pip install --system --no-index --find-links='/kaggle/input/latest-mdc-whls/whls' 'pymupdf' # 'vllm' 'triton' 'logits-processor-zoo' 'numpy<2'"
   ]
  },
  {
   "cell_type": "code",
   "execution_count": 2,
   "id": "a4d137ae",
   "metadata": {
    "execution": {
     "iopub.execute_input": "2025-07-31T21:30:57.985741Z",
     "iopub.status.busy": "2025-07-31T21:30:57.985496Z",
     "iopub.status.idle": "2025-07-31T21:31:39.410216Z",
     "shell.execute_reply": "2025-07-31T21:31:39.409295Z"
    },
    "papermill": {
     "duration": 41.432715,
     "end_time": "2025-07-31T21:31:39.411708",
     "exception": false,
     "start_time": "2025-07-31T21:30:57.978993",
     "status": "completed"
    },
    "tags": []
   },
   "outputs": [
    {
     "name": "stdout",
     "output_type": "stream",
     "text": [
      "\u001b[2mUsing Python 3.11.13 environment at: /usr\u001b[0m\r\n",
      "\u001b[2K\u001b[2mResolved \u001b[1m145 packages\u001b[0m \u001b[2min 274ms\u001b[0m\u001b[0m\r\n",
      "\u001b[2K\u001b[2mPrepared \u001b[1m54 packages\u001b[0m \u001b[2min 34.55s\u001b[0m\u001b[0m\r\n",
      "\u001b[2mUninstalled \u001b[1m23 packages\u001b[0m \u001b[2min 1.55s\u001b[0m\u001b[0m\r\n",
      "\u001b[2K\u001b[2mInstalled \u001b[1m54 packages\u001b[0m \u001b[2min 363ms\u001b[0m\u001b[0m\r\n",
      " \u001b[32m+\u001b[39m \u001b[1mairportsdata\u001b[0m\u001b[2m==20250706\u001b[0m\r\n",
      " \u001b[32m+\u001b[39m \u001b[1mastor\u001b[0m\u001b[2m==0.8.1\u001b[0m\r\n",
      " \u001b[32m+\u001b[39m \u001b[1mblake3\u001b[0m\u001b[2m==1.0.5\u001b[0m\r\n",
      " \u001b[32m+\u001b[39m \u001b[1mcompressed-tensors\u001b[0m\u001b[2m==0.10.2\u001b[0m\r\n",
      " \u001b[32m+\u001b[39m \u001b[1mdepyf\u001b[0m\u001b[2m==0.18.0\u001b[0m\r\n",
      " \u001b[32m+\u001b[39m \u001b[1mdiskcache\u001b[0m\u001b[2m==5.6.3\u001b[0m\r\n",
      " \u001b[32m+\u001b[39m \u001b[1mfastapi-cli\u001b[0m\u001b[2m==0.0.8\u001b[0m\r\n",
      " \u001b[32m+\u001b[39m \u001b[1mfastapi-cloud-cli\u001b[0m\u001b[2m==0.1.1\u001b[0m\r\n",
      " \u001b[32m+\u001b[39m \u001b[1mgguf\u001b[0m\u001b[2m==0.17.1\u001b[0m\r\n",
      " \u001b[32m+\u001b[39m \u001b[1mhttptools\u001b[0m\u001b[2m==0.6.4\u001b[0m\r\n",
      " \u001b[31m-\u001b[39m \u001b[1mhttpx\u001b[0m\u001b[2m==0.28.1\u001b[0m\r\n",
      " \u001b[32m+\u001b[39m \u001b[1mhttpx\u001b[0m\u001b[2m==0.27.2\u001b[0m\r\n",
      " \u001b[32m+\u001b[39m \u001b[1minteregular\u001b[0m\u001b[2m==0.3.3\u001b[0m\r\n",
      " \u001b[32m+\u001b[39m \u001b[1mlark\u001b[0m\u001b[2m==1.2.2\u001b[0m\r\n",
      " \u001b[32m+\u001b[39m \u001b[1mllguidance\u001b[0m\u001b[2m==0.7.30\u001b[0m\r\n",
      " \u001b[31m-\u001b[39m \u001b[1mllvmlite\u001b[0m\u001b[2m==0.43.0\u001b[0m\r\n",
      " \u001b[32m+\u001b[39m \u001b[1mllvmlite\u001b[0m\u001b[2m==0.44.0\u001b[0m\r\n",
      " \u001b[32m+\u001b[39m \u001b[1mlm-format-enforcer\u001b[0m\u001b[2m==0.10.11\u001b[0m\r\n",
      " \u001b[32m+\u001b[39m \u001b[1mmistral-common\u001b[0m\u001b[2m==1.6.3\u001b[0m\r\n",
      " \u001b[32m+\u001b[39m \u001b[1mmsgspec\u001b[0m\u001b[2m==0.19.0\u001b[0m\r\n",
      " \u001b[31m-\u001b[39m \u001b[1mnumba\u001b[0m\u001b[2m==0.60.0\u001b[0m\r\n",
      " \u001b[32m+\u001b[39m \u001b[1mnumba\u001b[0m\u001b[2m==0.61.2\u001b[0m\r\n",
      " \u001b[31m-\u001b[39m \u001b[1mnvidia-cublas-cu12\u001b[0m\u001b[2m==12.5.3.2\u001b[0m\r\n",
      " \u001b[32m+\u001b[39m \u001b[1mnvidia-cublas-cu12\u001b[0m\u001b[2m==12.6.4.1\u001b[0m\r\n",
      " \u001b[31m-\u001b[39m \u001b[1mnvidia-cuda-cupti-cu12\u001b[0m\u001b[2m==12.5.82\u001b[0m\r\n",
      " \u001b[32m+\u001b[39m \u001b[1mnvidia-cuda-cupti-cu12\u001b[0m\u001b[2m==12.6.80\u001b[0m\r\n",
      " \u001b[31m-\u001b[39m \u001b[1mnvidia-cuda-nvrtc-cu12\u001b[0m\u001b[2m==12.5.82\u001b[0m\r\n",
      " \u001b[32m+\u001b[39m \u001b[1mnvidia-cuda-nvrtc-cu12\u001b[0m\u001b[2m==12.6.77\u001b[0m\r\n",
      " \u001b[31m-\u001b[39m \u001b[1mnvidia-cuda-runtime-cu12\u001b[0m\u001b[2m==12.5.82\u001b[0m\r\n",
      " \u001b[32m+\u001b[39m \u001b[1mnvidia-cuda-runtime-cu12\u001b[0m\u001b[2m==12.6.77\u001b[0m\r\n",
      " \u001b[31m-\u001b[39m \u001b[1mnvidia-cudnn-cu12\u001b[0m\u001b[2m==9.3.0.75\u001b[0m\r\n",
      " \u001b[32m+\u001b[39m \u001b[1mnvidia-cudnn-cu12\u001b[0m\u001b[2m==9.5.1.17\u001b[0m\r\n",
      " \u001b[31m-\u001b[39m \u001b[1mnvidia-cufft-cu12\u001b[0m\u001b[2m==11.2.3.61\u001b[0m\r\n",
      " \u001b[32m+\u001b[39m \u001b[1mnvidia-cufft-cu12\u001b[0m\u001b[2m==11.3.0.4\u001b[0m\r\n",
      " \u001b[32m+\u001b[39m \u001b[1mnvidia-cufile-cu12\u001b[0m\u001b[2m==1.11.1.6\u001b[0m\r\n",
      " \u001b[31m-\u001b[39m \u001b[1mnvidia-curand-cu12\u001b[0m\u001b[2m==10.3.6.82\u001b[0m\r\n",
      " \u001b[32m+\u001b[39m \u001b[1mnvidia-curand-cu12\u001b[0m\u001b[2m==10.3.7.77\u001b[0m\r\n",
      " \u001b[31m-\u001b[39m \u001b[1mnvidia-cusolver-cu12\u001b[0m\u001b[2m==11.6.3.83\u001b[0m\r\n",
      " \u001b[32m+\u001b[39m \u001b[1mnvidia-cusolver-cu12\u001b[0m\u001b[2m==11.7.1.2\u001b[0m\r\n",
      " \u001b[31m-\u001b[39m \u001b[1mnvidia-cusparse-cu12\u001b[0m\u001b[2m==12.5.1.3\u001b[0m\r\n",
      " \u001b[32m+\u001b[39m \u001b[1mnvidia-cusparse-cu12\u001b[0m\u001b[2m==12.5.4.2\u001b[0m\r\n",
      " \u001b[31m-\u001b[39m \u001b[1mnvidia-cusparselt-cu12\u001b[0m\u001b[2m==0.6.2\u001b[0m\r\n",
      " \u001b[32m+\u001b[39m \u001b[1mnvidia-cusparselt-cu12\u001b[0m\u001b[2m==0.6.3\u001b[0m\r\n",
      " \u001b[31m-\u001b[39m \u001b[1mnvidia-nccl-cu12\u001b[0m\u001b[2m==2.21.5\u001b[0m\r\n",
      " \u001b[32m+\u001b[39m \u001b[1mnvidia-nccl-cu12\u001b[0m\u001b[2m==2.26.2\u001b[0m\r\n",
      " \u001b[31m-\u001b[39m \u001b[1mnvidia-nvjitlink-cu12\u001b[0m\u001b[2m==12.5.82\u001b[0m\r\n",
      " \u001b[32m+\u001b[39m \u001b[1mnvidia-nvjitlink-cu12\u001b[0m\u001b[2m==12.6.85\u001b[0m\r\n",
      " \u001b[31m-\u001b[39m \u001b[1mnvidia-nvtx-cu12\u001b[0m\u001b[2m==12.4.127\u001b[0m\r\n",
      " \u001b[32m+\u001b[39m \u001b[1mnvidia-nvtx-cu12\u001b[0m\u001b[2m==12.6.77\u001b[0m\r\n",
      " \u001b[31m-\u001b[39m \u001b[1mopenai\u001b[0m\u001b[2m==1.91.0\u001b[0m\r\n",
      " \u001b[32m+\u001b[39m \u001b[1mopenai\u001b[0m\u001b[2m==1.90.0\u001b[0m\r\n",
      " \u001b[32m+\u001b[39m \u001b[1moutlines\u001b[0m\u001b[2m==0.1.11\u001b[0m\r\n",
      " \u001b[32m+\u001b[39m \u001b[1moutlines-core\u001b[0m\u001b[2m==0.1.26\u001b[0m\r\n",
      " \u001b[32m+\u001b[39m \u001b[1mpartial-json-parser\u001b[0m\u001b[2m==0.2.1.1.post6\u001b[0m\r\n",
      " \u001b[32m+\u001b[39m \u001b[1mprometheus-fastapi-instrumentator\u001b[0m\u001b[2m==7.1.0\u001b[0m\r\n",
      " \u001b[32m+\u001b[39m \u001b[1mpybase64\u001b[0m\u001b[2m==1.4.1\u001b[0m\r\n",
      " \u001b[32m+\u001b[39m \u001b[1mpycountry\u001b[0m\u001b[2m==24.6.1\u001b[0m\r\n",
      " \u001b[32m+\u001b[39m \u001b[1mpython-dotenv\u001b[0m\u001b[2m==1.1.1\u001b[0m\r\n",
      " \u001b[31m-\u001b[39m \u001b[1mpyzmq\u001b[0m\u001b[2m==24.0.1\u001b[0m\r\n",
      " \u001b[32m+\u001b[39m \u001b[1mpyzmq\u001b[0m\u001b[2m==27.0.0\u001b[0m\r\n",
      " \u001b[32m+\u001b[39m \u001b[1mrich-toolkit\u001b[0m\u001b[2m==0.14.8\u001b[0m\r\n",
      " \u001b[32m+\u001b[39m \u001b[1mrignore\u001b[0m\u001b[2m==0.5.1\u001b[0m\r\n",
      " \u001b[31m-\u001b[39m \u001b[1msympy\u001b[0m\u001b[2m==1.13.1\u001b[0m\r\n",
      " \u001b[32m+\u001b[39m \u001b[1msympy\u001b[0m\u001b[2m==1.14.0\u001b[0m\r\n",
      " \u001b[31m-\u001b[39m \u001b[1mtorch\u001b[0m\u001b[2m==2.6.0+cu124 (from https://download.pytorch.org/whl/cu124/torch-2.6.0%2Bcu124-cp311-cp311-linux_x86_64.whl)\u001b[0m\r\n",
      " \u001b[32m+\u001b[39m \u001b[1mtorch\u001b[0m\u001b[2m==2.7.0\u001b[0m\r\n",
      " \u001b[31m-\u001b[39m \u001b[1mtorchaudio\u001b[0m\u001b[2m==2.6.0+cu124 (from https://download.pytorch.org/whl/cu124/torchaudio-2.6.0%2Bcu124-cp311-cp311-linux_x86_64.whl)\u001b[0m\r\n",
      " \u001b[32m+\u001b[39m \u001b[1mtorchaudio\u001b[0m\u001b[2m==2.7.0\u001b[0m\r\n",
      " \u001b[31m-\u001b[39m \u001b[1mtorchvision\u001b[0m\u001b[2m==0.21.0+cu124 (from https://download.pytorch.org/whl/cu124/torchvision-0.21.0%2Bcu124-cp311-cp311-linux_x86_64.whl)\u001b[0m\r\n",
      " \u001b[32m+\u001b[39m \u001b[1mtorchvision\u001b[0m\u001b[2m==0.22.0\u001b[0m\r\n",
      " \u001b[31m-\u001b[39m \u001b[1mtriton\u001b[0m\u001b[2m==3.2.0\u001b[0m\r\n",
      " \u001b[32m+\u001b[39m \u001b[1mtriton\u001b[0m\u001b[2m==3.3.0\u001b[0m\r\n",
      " \u001b[32m+\u001b[39m \u001b[1muvloop\u001b[0m\u001b[2m==0.21.0\u001b[0m\r\n",
      " \u001b[32m+\u001b[39m \u001b[1mvllm\u001b[0m\u001b[2m==0.9.2\u001b[0m\r\n",
      " \u001b[32m+\u001b[39m \u001b[1mwatchfiles\u001b[0m\u001b[2m==1.1.0\u001b[0m\r\n",
      " \u001b[32m+\u001b[39m \u001b[1mxformers\u001b[0m\u001b[2m==0.0.30\u001b[0m\r\n",
      " \u001b[32m+\u001b[39m \u001b[1mxgrammar\u001b[0m\u001b[2m==0.1.19\u001b[0m\r\n",
      "\u001b[2mUsing Python 3.11.13 environment at: /usr\u001b[0m\r\n",
      "\u001b[2K\u001b[2mResolved \u001b[1m54 packages\u001b[0m \u001b[2min 15ms\u001b[0m\u001b[0m\r\n",
      "\u001b[2K\u001b[2mPrepared \u001b[1m1 package\u001b[0m \u001b[2min 7ms\u001b[0m\u001b[0m\r\n",
      "\u001b[2K\u001b[2mInstalled \u001b[1m1 package\u001b[0m \u001b[2min 1ms\u001b[0m\u001b[0m\r\n",
      " \u001b[32m+\u001b[39m \u001b[1mlogits-processor-zoo\u001b[0m\u001b[2m==0.1.10\u001b[0m\r\n",
      "\u001b[2mUsing Python 3.11.13 environment at: /usr\u001b[0m\r\n",
      "\u001b[2K\u001b[2mResolved \u001b[1m1 package\u001b[0m \u001b[2min 10ms\u001b[0m\u001b[0m\r\n",
      "\u001b[2K\u001b[2mPrepared \u001b[1m1 package\u001b[0m \u001b[2min 3.55s\u001b[0m\u001b[0m\r\n",
      "\u001b[2mUninstalled \u001b[1m1 package\u001b[0m \u001b[2min 7ms\u001b[0m\u001b[0m\r\n",
      "\u001b[2K\u001b[2mInstalled \u001b[1m1 package\u001b[0m \u001b[2min 208ms\u001b[0m\u001b[0m\r\n",
      " \u001b[31m-\u001b[39m \u001b[1mtriton\u001b[0m\u001b[2m==3.3.0\u001b[0m\r\n",
      " \u001b[32m+\u001b[39m \u001b[1mtriton\u001b[0m\u001b[2m==3.2.0\u001b[0m\r\n"
     ]
    }
   ],
   "source": [
    "# ! uv pip install /kaggle/input/mdcfitz/pymupdf-1.26.3-cp39-abi3-manylinux_2_28_x86_64.whl\n",
    "! uv pip install vllm --no-index --find-links file:///kaggle/input/mdcllm\n",
    "! uv pip install logits-processor-zoo==0.1.10 --no-index --find-links file:///kaggle/input/mdcllm\n",
    "! uv pip install triton==3.2.0 --no-index --find-links file:///kaggle/input/mdcllm"
   ]
  },
  {
   "cell_type": "code",
   "execution_count": 3,
   "id": "40f598d2",
   "metadata": {
    "execution": {
     "iopub.execute_input": "2025-07-31T21:31:39.450717Z",
     "iopub.status.busy": "2025-07-31T21:31:39.449952Z",
     "iopub.status.idle": "2025-07-31T21:31:39.609074Z",
     "shell.execute_reply": "2025-07-31T21:31:39.608050Z"
    },
    "papermill": {
     "duration": 0.176721,
     "end_time": "2025-07-31T21:31:39.610320",
     "exception": false,
     "start_time": "2025-07-31T21:31:39.433599",
     "status": "completed"
    },
    "tags": []
   },
   "outputs": [],
   "source": [
    "! mkdir -p /tmp/src"
   ]
  },
  {
   "cell_type": "code",
   "execution_count": 4,
   "id": "512e8433",
   "metadata": {
    "_cell_guid": "34135540-31fa-4d24-8934-acb1e0711a4f",
    "_uuid": "92f33014-02d3-41cb-b906-ffeb89a3f353",
    "collapsed": false,
    "execution": {
     "iopub.execute_input": "2025-07-31T21:31:39.641259Z",
     "iopub.status.busy": "2025-07-31T21:31:39.640982Z",
     "iopub.status.idle": "2025-07-31T21:31:39.648211Z",
     "shell.execute_reply": "2025-07-31T21:31:39.647626Z"
    },
    "jupyter": {
     "outputs_hidden": false
    },
    "papermill": {
     "duration": 0.024064,
     "end_time": "2025-07-31T21:31:39.649314",
     "exception": false,
     "start_time": "2025-07-31T21:31:39.625250",
     "status": "completed"
    },
    "tags": []
   },
   "outputs": [
    {
     "name": "stdout",
     "output_type": "stream",
     "text": [
      "Writing /tmp/src/helpers.py\n"
     ]
    }
   ],
   "source": [
    "%%writefile /tmp/src/helpers.py\n",
    "import logging, os, kagglehub, inspect\n",
    "from pathlib import Path\n",
    "import polars as pl\n",
    "\n",
    "os.environ[\"TOKENIZERS_PARALLELISM\"]=\"False\"\n",
    "IS_KAGGLE_ENV = sum(['KAGGLE' in k for k in os.environ]) > 0\n",
    "os.environ[\"KAGGLE_IS_COMPETITION_RERUN\"] = \"1\"\n",
    "\n",
    "IS_KAGGLE_SUBMISSION = bool(os.getenv(\"KAGGLE_IS_COMPETITION_RERUN\"))\n",
    "\n",
    "COMP_DIR = Path(('/kaggle/input/make-data-count-finding-data-references' if IS_KAGGLE_SUBMISSION else kagglehub.competition_download('make-data-count-finding-data-references')))\n",
    "PDF_DIR = COMP_DIR / ('test' if IS_KAGGLE_SUBMISSION else 'train') / 'PDF'\n",
    "WORKING_DIR = Path(('/kaggle/working/' if IS_KAGGLE_ENV else '.working/'))\n",
    "\n",
    "DOI_LINK = 'https://doi.org/'\n",
    "\n",
    "DEFAULT_LOG_LEVEL = os.getenv(\"LOG_LEVEL\", \"DEBUG\").upper() if not IS_KAGGLE_SUBMISSION else \"WARNING\"\n",
    "LOG_FILE_PATH = os.getenv(\"LOG_FILE\", \"logs/project.log\")\n",
    "LOG_DIR = Path(LOG_FILE_PATH).parent\n",
    "\n",
    "LOG_DIR.mkdir(parents=True, exist_ok=True)\n",
    "\n",
    "LOG_FORMAT = \"%(levelname)s %(asctime)s  [%(filename)s:%(lineno)d - %(funcName)s()] %(message)s\"\n",
    "LOG_DATEFMT = \"%Y-%m-%d %H:%M:%S\"\n",
    "\n",
    "def get_logger(name=None):\n",
    "    if name is None:\n",
    "        frame = inspect.currentframe()\n",
    "        if frame is None or frame.f_back is None:\n",
    "            name = \"__main__\"\n",
    "        else:\n",
    "            name = frame.f_back.f_globals.get(\"__name__\", \"__main__\")\n",
    "\n",
    "    logger = logging.getLogger(name)\n",
    "\n",
    "    if not logger.handlers:\n",
    "        logger.setLevel(DEFAULT_LOG_LEVEL)\n",
    "        formatter = logging.Formatter(fmt=LOG_FORMAT, datefmt=LOG_DATEFMT)\n",
    "        ch = logging.StreamHandler()\n",
    "        ch.setLevel(DEFAULT_LOG_LEVEL)\n",
    "        ch.setFormatter(formatter)\n",
    "        fh = logging.FileHandler(LOG_FILE_PATH)\n",
    "        fh.setLevel(DEFAULT_LOG_LEVEL)\n",
    "        fh.setFormatter(formatter)\n",
    "        logger.addHandler(ch)\n",
    "        logger.addHandler(fh)\n",
    "        logger.propagate = False\n",
    "    return logger\n",
    "\n",
    "def is_doi_link(name: str) -> pl.Expr:\n",
    "    return pl.col(name).str.starts_with(DOI_LINK)\n",
    "\n",
    "def string_normalization(name: str) -> pl.Expr:\n",
    "    return pl.col(name).str.normalize(\"NFKC\").str.replace_all(r\"[^\\p{Ascii}]\", '').str.replace_all(r\"https?://zenodo\\.org/record/(\\d+)\", r\" 10.5281/zenodo.$1 \")\n",
    "\n",
    "def get_df(parse_dir: str):\n",
    "    records = []\n",
    "    txt_files = list(Path(parse_dir).glob('*.txt'))\n",
    "    for txt_file in txt_files:\n",
    "        id_ = txt_file.stem\n",
    "        with open(txt_file, 'r') as f:\n",
    "            text = f.read()\n",
    "        records.append({'article_id': id_, 'text': text})\n",
    "    return pl.DataFrame(records).with_columns(string_normalization('text').alias('text'))\n",
    "\n",
    "def assume_type(df: pl.DataFrame) -> pl.DataFrame:\n",
    "    return (\n",
    "        df.with_columns(pl.when(is_doi_link('dataset_id').or_(pl.col('dataset_id').str.starts_with('SAMN'))).then(pl.lit('Primary')).otherwise(pl.lit('Secondary')).alias('type'))\n",
    "    )\n",
    "\n",
    "def score(df, gt, on, tag='all'):\n",
    "    hits = gt.join(df, on=on)\n",
    "    tp = hits.height\n",
    "    fp = df.height - tp\n",
    "    fn = gt.height - tp\n",
    "    f1 = 2 * tp / (2 * tp + fp + fn) if (2 * tp + fp + fn) != 0 else 0.0\n",
    "    return f\"{tag} - f1: {f1:.4f} [{tp}/{fp}/{fn}]\"\n",
    "\n",
    "def evaluate(df, on=['article_id', 'dataset_id']):\n",
    "    gt = pl.read_csv(COMP_DIR/'train_labels.csv').filter(pl.col('type')!='Missing')\n",
    "    return (\n",
    "        score(df, gt, on),\n",
    "        score(df.filter(is_doi_link('dataset_id')), gt.filter(is_doi_link('dataset_id')), on, 'doi'),\n",
    "        score(df.filter(~is_doi_link('dataset_id')), gt.filter(~is_doi_link('dataset_id')), on, 'acc'),\n",
    "    )"
   ]
  },
  {
   "cell_type": "code",
   "execution_count": 5,
   "id": "2c5248ad",
   "metadata": {
    "_cell_guid": "98be0899-3cad-423b-a3db-313209068df0",
    "_uuid": "84859532-6acd-4011-b783-d0d24257a19b",
    "collapsed": false,
    "execution": {
     "iopub.execute_input": "2025-07-31T21:31:39.681652Z",
     "iopub.status.busy": "2025-07-31T21:31:39.680900Z",
     "iopub.status.idle": "2025-07-31T21:31:39.685696Z",
     "shell.execute_reply": "2025-07-31T21:31:39.685058Z"
    },
    "jupyter": {
     "outputs_hidden": false
    },
    "papermill": {
     "duration": 0.021288,
     "end_time": "2025-07-31T21:31:39.686805",
     "exception": false,
     "start_time": "2025-07-31T21:31:39.665517",
     "status": "completed"
    },
    "tags": []
   },
   "outputs": [
    {
     "name": "stdout",
     "output_type": "stream",
     "text": [
      "Writing /tmp/src/parse.py\n"
     ]
    }
   ],
   "source": [
    "%%writefile /tmp/src/parse.py\n",
    "import argparse\n",
    "from pathlib import Path\n",
    "import pymupdf\n",
    "from helpers import get_logger, PDF_DIR\n",
    "\n",
    "l = get_logger()\n",
    "\n",
    "def pdf_to_txt(output_dir: Path):\n",
    "    output_dir.mkdir(parents=True, exist_ok=True)\n",
    "    pdf_files = list(PDF_DIR.glob(\"*.pdf\")) + list(PDF_DIR.glob(\"*.PDF\"))\n",
    "    existing_txt_files = {f.stem for f in output_dir.glob(\"*.txt\")}\n",
    "    for pdf_file in pdf_files:\n",
    "        txt_file = output_dir / f\"{pdf_file.stem}.txt\"\n",
    "        if pdf_file.stem in existing_txt_files:\n",
    "            continue\n",
    "        try:\n",
    "            text = \"\"\n",
    "            with pymupdf.open(pdf_file) as doc:\n",
    "                for page in doc:\n",
    "                    text += page.get_text()\n",
    "            txt_file.write_text(text, encoding='utf-8')\n",
    "        except Exception:\n",
    "            pass\n",
    "\n",
    "def main():\n",
    "    parser = argparse.ArgumentParser()\n",
    "    parser.add_argument('output_dir', type=Path, help='Directory to save text files')\n",
    "    args = parser.parse_args()\n",
    "    pdf_to_txt(args.output_dir)\n",
    "\n",
    "if __name__ == \"__main__\":\n",
    "    main()"
   ]
  },
  {
   "cell_type": "code",
   "execution_count": 6,
   "id": "ae016a3b",
   "metadata": {
    "_cell_guid": "01632e8b-2a68-4dec-9606-f91214a8c020",
    "_uuid": "5210e49f-e5ab-45c6-b673-f0bd08dc1877",
    "collapsed": false,
    "execution": {
     "iopub.execute_input": "2025-07-31T21:31:39.716274Z",
     "iopub.status.busy": "2025-07-31T21:31:39.716063Z",
     "iopub.status.idle": "2025-07-31T21:31:39.721446Z",
     "shell.execute_reply": "2025-07-31T21:31:39.720554Z"
    },
    "jupyter": {
     "outputs_hidden": false
    },
    "papermill": {
     "duration": 0.021296,
     "end_time": "2025-07-31T21:31:39.722541",
     "exception": false,
     "start_time": "2025-07-31T21:31:39.701245",
     "status": "completed"
    },
    "tags": []
   },
   "outputs": [
    {
     "name": "stdout",
     "output_type": "stream",
     "text": [
      "Writing /tmp/src/check_parse.py\n"
     ]
    }
   ],
   "source": [
    "%%writefile /tmp/src/check_parse.py\n",
    "import polars as pl\n",
    "from pathlib import Path\n",
    "from helpers import *\n",
    "\n",
    "l=get_logger()\n",
    "\n",
    "def gt_dataset_id_normalization(name:str) -> pl.Expr:\n",
    "    return (\n",
    "        pl.when(is_doi_link(name))\n",
    "        .then(pl.col(name).str.split(DOI_LINK).list.last())\n",
    "        .otherwise(name)\n",
    "        .str.to_lowercase()\n",
    "    )\n",
    "\n",
    "def main():\n",
    "    if IS_KAGGLE_SUBMISSION:\n",
    "        l.debug('skipping check_parse for submission')\n",
    "        return\n",
    "    df = (\n",
    "        get_df('/tmp/train_parse')\n",
    "        .with_columns(pl.col('text').str.replace_all('\\s+', '').str.to_lowercase().alias('text'))\n",
    "    )\n",
    "\n",
    "    gt = (\n",
    "        pl.read_csv(COMP_DIR/'train_labels.csv')\n",
    "        .filter(pl.col('article_id').is_in(df['article_id']))\n",
    "        .filter(pl.col('type')!='Missing')\n",
    "        .with_columns(gt_dataset_id_normalization('dataset_id').alias('norm_id'))\n",
    "    )\n",
    "\n",
    "    l.info(f\"pymupdf misses: {gt.join(df, on='article_id').with_columns(hit=pl.col('text').str.contains(pl.col('norm_id'), literal=True)).filter(~pl.col('hit')).height} dataset_ids\")\n",
    "\n",
    "if __name__=='__main__': main()"
   ]
  },
  {
   "cell_type": "code",
   "execution_count": 7,
   "id": "089eb0d5",
   "metadata": {
    "_cell_guid": "83084a3e-ab3e-4c24-9045-7bc81df72e34",
    "_uuid": "5a79e391-1a5c-4264-9aa5-747cb657a266",
    "collapsed": false,
    "execution": {
     "iopub.execute_input": "2025-07-31T21:31:39.753150Z",
     "iopub.status.busy": "2025-07-31T21:31:39.752938Z",
     "iopub.status.idle": "2025-07-31T21:31:39.760844Z",
     "shell.execute_reply": "2025-07-31T21:31:39.760175Z"
    },
    "jupyter": {
     "outputs_hidden": false
    },
    "papermill": {
     "duration": 0.024666,
     "end_time": "2025-07-31T21:31:39.761879",
     "exception": false,
     "start_time": "2025-07-31T21:31:39.737213",
     "status": "completed"
    },
    "tags": []
   },
   "outputs": [
    {
     "name": "stdout",
     "output_type": "stream",
     "text": [
      "Writing /tmp/src/getid.py\n"
     ]
    }
   ],
   "source": [
    "%%writefile /tmp/src/getid.py\n",
    "import re\n",
    "import polars as pl\n",
    "from typing import Optional, Tuple\n",
    "\n",
    "from helpers import *\n",
    "\n",
    "COMPILED_PATTERNS = {\n",
    "    'ref_header_patterns': [re.compile(r'\\b(R\\s*E\\s*F\\s*E\\s*R\\s*E\\s*N\\s*C\\s*E\\s*S|BIBLIOGRAPHY|LITERATURE CITED|WORKS CITED|CITED WORKS|ACKNOWLEDGEMENTS)\\b[:\\s]*', re.IGNORECASE)],\n",
    "    'citation_pattern': re.compile(r'^\\s*(\\[\\d+\\]|\\(\\d+\\)|\\d+\\.|\\d+\\)|\\d+(?=\\s|$))\\s*'),\n",
    "    'first_citation_patterns': [\n",
    "        re.compile(r'^\\s*\\[1\\]\\s*'),\n",
    "        re.compile(r'^\\s*\\(1\\)\\s*'),\n",
    "        re.compile(r'^\\s*1\\.\\s*'),\n",
    "        re.compile(r'^\\s*1\\)\\s*'),\n",
    "        re.compile(r'^\\s*1(?=\\s|$)'),\n",
    "    ],\n",
    "}\n",
    "\n",
    "l = get_logger()\n",
    "\n",
    "def find_last_reference_header(text: str, header_patterns: list[re.Pattern]) -> Optional[int]:\n",
    "    last_match_idx = None\n",
    "    for pattern in header_patterns:\n",
    "        matches = list(pattern.finditer(text))\n",
    "        if matches:\n",
    "            last_match_idx = matches[-1].start()\n",
    "    return last_match_idx\n",
    "\n",
    "def find_last_first_citation(text: str) -> Optional[int]:\n",
    "    lines = text.splitlines()\n",
    "    last_match_line = None\n",
    "    for line_num, line in enumerate(lines):\n",
    "        line = line.strip()\n",
    "        for pattern in COMPILED_PATTERNS['first_citation_patterns']:\n",
    "            if pattern.match(line):\n",
    "                next_lines = lines[line_num:line_num+3]\n",
    "                if any(COMPILED_PATTERNS['citation_pattern'].match(l.strip()) for l in next_lines[1:]):\n",
    "                    last_match_line = line_num\n",
    "                break\n",
    "    return last_match_line\n",
    "\n",
    "def find_reference_start(text: str) -> Optional[int]:\n",
    "    lines = text.splitlines()\n",
    "    last_first_citation = find_last_first_citation(text)\n",
    "    if last_first_citation is not None:\n",
    "        return last_first_citation\n",
    "    start_search_idx = int(len(lines) * 0.5)\n",
    "    for i in range(start_search_idx, len(lines)):\n",
    "        line = lines[i].strip()\n",
    "        if COMPILED_PATTERNS['citation_pattern'].match(line):\n",
    "            next_lines = lines[i:i+3]\n",
    "            if sum(1 for l in next_lines if COMPILED_PATTERNS['citation_pattern'].match(l.strip())) >= 2:\n",
    "                for j in range(i, max(-1, i-10), -1):\n",
    "                    if not COMPILED_PATTERNS['citation_pattern'].match(lines[j].strip()):\n",
    "                        return j + 1\n",
    "                return max(0, i-10)\n",
    "    return None\n",
    "\n",
    "def split_text_and_references(text: str) -> Tuple[str, str]:\n",
    "    header_idx = find_last_reference_header(text, COMPILED_PATTERNS['ref_header_patterns'])\n",
    "    if header_idx is not None:\n",
    "        header_idx2 = find_last_reference_header(text[:header_idx].strip(), COMPILED_PATTERNS['ref_header_patterns'])\n",
    "        if header_idx2 is not None:\n",
    "            header_idx3 = find_last_reference_header(text[:header_idx2].strip(), COMPILED_PATTERNS['ref_header_patterns'])\n",
    "            if header_idx3 is not None:\n",
    "                return text[:header_idx3].strip(), text[header_idx3:].strip()\n",
    "            return text[:header_idx2].strip(), text[header_idx2:].strip()\n",
    "        return text[:header_idx].strip(), text[header_idx:].strip()\n",
    "    ref_start_line = find_reference_start(text)\n",
    "    if ref_start_line is not None:\n",
    "        lines = text.splitlines()\n",
    "        body = '\\n'.join(lines[:ref_start_line])\n",
    "        refs = '\\n'.join(lines[ref_start_line:])\n",
    "        return body.strip(), refs.strip()\n",
    "    return text.strip(), ''\n",
    "\n",
    "def get_splits(df: pl.DataFrame) -> pl.DataFrame:\n",
    "    bodies, refs = [], []\n",
    "    for raw_text in df['text']:\n",
    "        main, ref = split_text_and_references(raw_text)\n",
    "        bodies.append(main)\n",
    "        refs.append(ref)\n",
    "    return df.with_columns(pl.Series('body', bodies), pl.Series('ref', refs))\n",
    "\n",
    "def tidy_extraction(df) -> pl.DataFrame:\n",
    "    bad_ids = [f'{DOI_LINK}{e}' for e in ['10.5061/dryad', '10.5281/zenodo', '10.6073/pasta']]\n",
    "\n",
    "    doi_df = (\n",
    "        df.with_columns(pl.col('body').str.extract_all(r'10\\s*\\.\\s*\\d{4,9}\\s*/\\s*\\S+').alias('match'))\n",
    "          .explode('match')\n",
    "          .drop_nulls('match')\n",
    "          .with_columns(\n",
    "              pl.col('match').str.replace_all(r'\\s+', '')\n",
    "                             .str.replace(r'[^A-Za-z0-9]+$', '')\n",
    "                             .str.to_lowercase()\n",
    "                             .alias('dataset_id')\n",
    "          )\n",
    "          .group_by('article_id', 'dataset_id')\n",
    "          .agg('match')\n",
    "          .with_columns((DOI_LINK + pl.col('dataset_id')).alias('dataset_id'))\n",
    "    )\n",
    "\n",
    "    REGEX_IDS = (\n",
    "        r\"(?i)\\b(?:\"\n",
    "        r\"CHEMBL\\d+|\"\n",
    "        r\"E-GEOD-\\d+|E-PROT-\\d+|EMPIAR-\\d+|\"\n",
    "        r\"ENSBTAG\\d+|ENSOARG\\d+|\"\n",
    "        r\"EPI_ISL_\\d{5,}|EPI\\d{6,7}|\"\n",
    "        r\"HPA\\d+|CP\\d{6}|IPR\\d{6}|PF\\d{5}|KX\\d{6}|K0\\d{4}|\"\n",
    "        r\"PRJNA\\d+|PRJEB\\d+|PXD\\d+|SAMN\\d+|\"\n",
    "        r\"GSE\\d+|GSM\\d+|GPL\\d+|\"\n",
    "        r\"E-MTAB-\\d+|E-MEXP-\\d+|\"\n",
    "        r\"PDB\\s?\\w{4}|HMDB\\d+|\"\n",
    "        r\"dryad\\.[^\\s\\\"<>]+|pasta\\/[^\\s\\\"<>]+|\"\n",
    "        r\"(?:SRR|SRX|SRP|ERR|DRR|DRX|DRP|ERP|ERX)\\d+\"\n",
    "        r\")\"\n",
    "    )\n",
    "\n",
    "\n",
    "    acc_df = (\n",
    "        df.with_columns(\n",
    "            pl.col('text').str.extract_all(REGEX_IDS).alias('match')\n",
    "        )\n",
    "        .explode('match')\n",
    "        .drop_nulls('match')\n",
    "        .with_columns(\n",
    "            pl.col('match').str.replace_all(r'\\s+', '')\n",
    "                           .str.replace(r'[^A-Za-z0-9]+$', '')\n",
    "                           .alias('dataset_id')\n",
    "        )\n",
    "        .group_by('article_id', 'dataset_id')\n",
    "        .agg('match')\n",
    "        .with_columns(\n",
    "            pl.when(pl.col('dataset_id').str.starts_with('dryad.'))\n",
    "              .then(f'{DOI_LINK}10.5061/' + pl.col('dataset_id'))\n",
    "              .otherwise('dataset_id')\n",
    "              .alias('dataset_id')\n",
    "        )\n",
    "        .with_columns(\n",
    "            pl.when(pl.col('dataset_id').str.starts_with('pasta/'))\n",
    "              .then(f'{DOI_LINK}10.6073/' + pl.col('dataset_id'))\n",
    "              .otherwise('dataset_id')\n",
    "              .alias('dataset_id')\n",
    "        )\n",
    "    )\n",
    "\n",
    "    df = pl.concat([doi_df, acc_df])\n",
    "\n",
    "    df = (\n",
    "        df.unique(['article_id', 'dataset_id'])  # CHANGED\n",
    "          .filter(~pl.col('article_id').str.replace('_','/').str.contains(pl.col('dataset_id').str.split(DOI_LINK).list.last().str.escape_regex()))\n",
    "          .filter(~pl.col('dataset_id').str.contains(pl.col('article_id').str.replace('_','/').str.escape_regex()))\n",
    "          .filter(~pl.col('dataset_id').str.contains('figshare', literal=True))\n",
    "          .filter(~pl.col('dataset_id').is_in(bad_ids))\n",
    "          .filter(\n",
    "              pl.when(is_doi_link('dataset_id') &\n",
    "                      (pl.col('dataset_id').str.split('/').list.last().str.len_chars() < 5))\n",
    "               .then(False)\n",
    "               .otherwise(True)\n",
    "          )\n",
    "          .with_columns(pl.col('match').list.unique())\n",
    "    )\n",
    "    return df\n",
    "\n",
    "def get_context_window(text: str, substring: str, window: int = 100) -> str:\n",
    "    idx = text.find(substring)\n",
    "    if idx == -1:\n",
    "        raise ValueError\n",
    "    start = max(idx - window, 0)\n",
    "    end = min(idx + len(substring) + window, len(text))\n",
    "    return text[start:end]\n",
    "\n",
    "def get_window_df(text_df, ids_df):\n",
    "    df = ids_df.join(text_df, on='article_id')\n",
    "    windows = []\n",
    "    for text, match_ids in df.select('text', 'match').rows():\n",
    "        windows.append(get_context_window(text, match_ids[0]))\n",
    "    return df.with_columns(pl.Series('window', windows)).select('article_id', 'dataset_id', 'window')\n",
    "\n",
    "def main():\n",
    "    text_df = get_df('/tmp/train_parse')\n",
    "    df = get_splits(text_df)\n",
    "    df = get_splits(text_df)\n",
    "    df.write_parquet(\"/tmp/train_parse_split.parquet\")  # <-- Add this line\n",
    "    df = tidy_extraction(df)\n",
    "    df = get_window_df(text_df, df)\n",
    "    df.write_parquet('/tmp/extracted.parquet')\n",
    "    df = assume_type(df)\n",
    "    df.select(['article_id', 'dataset_id', 'type']).with_row_index(name='row_id').write_csv('/kaggle/working/submission.csv')\n",
    "    if not IS_KAGGLE_SUBMISSION:\n",
    "        results = evaluate(df)\n",
    "        for r in results: l.info(r)\n",
    "        results = evaluate(df, on=['article_id', 'dataset_id', 'type'])\n",
    "        for r in results: l.info(r)\n",
    "\n",
    "if __name__=='__main__': main()"
   ]
  },
  {
   "cell_type": "code",
   "execution_count": 8,
   "id": "5f63a81a",
   "metadata": {
    "execution": {
     "iopub.execute_input": "2025-07-31T21:31:39.792772Z",
     "iopub.status.busy": "2025-07-31T21:31:39.792122Z",
     "iopub.status.idle": "2025-07-31T21:31:39.796896Z",
     "shell.execute_reply": "2025-07-31T21:31:39.796323Z"
    },
    "papermill": {
     "duration": 0.021364,
     "end_time": "2025-07-31T21:31:39.797863",
     "exception": false,
     "start_time": "2025-07-31T21:31:39.776499",
     "status": "completed"
    },
    "tags": []
   },
   "outputs": [
    {
     "name": "stdout",
     "output_type": "stream",
     "text": [
      "Writing /tmp/src/addon_fix_broken_dois.py\n"
     ]
    }
   ],
   "source": [
    "%%writefile /tmp/src/addon_fix_broken_dois.py\n",
    "import re\n",
    "import polars as pl\n",
    "from helpers import *\n",
    "\n",
    "l = get_logger()\n",
    "\n",
    "BROKEN_DOI_REGEX = re.compile(r'10\\s*\\.\\s*\\d{4,9}\\s*/\\s*[A-Za-z0-9._;()/:\\-]+', re.IGNORECASE)\n",
    "\n",
    "def normalize_doi(s: str) -> str:\n",
    "    return re.sub(r'[^A-Za-z0-9./-]+', '', s).lower().rstrip('.;:,')\n",
    "\n",
    "def extract_broken_dois(df: pl.DataFrame) -> pl.DataFrame:\n",
    "    l.info(\"Extracting broken DOIs from ref section\")\n",
    "    return (\n",
    "        df.select(['article_id', 'ref'])\n",
    "          .with_columns(\n",
    "              pl.col(\"ref\").map_elements(lambda x: BROKEN_DOI_REGEX.findall(x or ''), return_dtype=pl.List(pl.String)).alias(\"match\")\n",
    "          )\n",
    "          .explode(\"match\")\n",
    "          .drop_nulls(\"match\")\n",
    "          .with_columns(\n",
    "              pl.col(\"match\").map_elements(normalize_doi, return_dtype=pl.String).alias(\"dataset_id\")\n",
    "          )\n",
    "          .filter(pl.col(\"dataset_id\").str.starts_with(\"10.\"))\n",
    "          .group_by(\"article_id\", \"dataset_id\")\n",
    "          .agg(pl.col(\"match\"))\n",
    "          .with_columns((DOI_LINK + pl.col(\"dataset_id\")).alias(\"dataset_id\"))\n",
    "    )\n",
    "\n",
    "def main():\n",
    "    df = pl.read_parquet('/tmp/train_parse_split.parquet')\n",
    "    broken_dois = extract_broken_dois(df)\n",
    "    broken_dois.write_parquet('/tmp/addon_broken_dois.parquet')\n",
    "    l.info(f\"Extracted {broken_dois.shape[0]} broken DOIs\")\n",
    "\n",
    "if __name__ == \"__main__\":\n",
    "    main()"
   ]
  },
  {
   "cell_type": "code",
   "execution_count": 9,
   "id": "63176047",
   "metadata": {
    "execution": {
     "iopub.execute_input": "2025-07-31T21:31:39.827571Z",
     "iopub.status.busy": "2025-07-31T21:31:39.827381Z",
     "iopub.status.idle": "2025-07-31T21:31:39.831963Z",
     "shell.execute_reply": "2025-07-31T21:31:39.831268Z"
    },
    "papermill": {
     "duration": 0.020713,
     "end_time": "2025-07-31T21:31:39.833057",
     "exception": false,
     "start_time": "2025-07-31T21:31:39.812344",
     "status": "completed"
    },
    "tags": []
   },
   "outputs": [
    {
     "name": "stdout",
     "output_type": "stream",
     "text": [
      "Writing /tmp/src/addon_reference_priority.py\n"
     ]
    }
   ],
   "source": [
    "%%writefile /tmp/src/addon_reference_priority.py\n",
    "import polars as pl\n",
    "from helpers import *\n",
    "\n",
    "l = get_logger()\n",
    "\n",
    "def extract_reference_dois(df: pl.DataFrame) -> pl.DataFrame:\n",
    "    l.info(\"Tagging DOIs from reference section only\")\n",
    "    return (\n",
    "        df.select(['article_id', 'ref'])\n",
    "          .with_columns(\n",
    "              pl.col(\"ref\")\n",
    "              .str.extract_all(r'10\\.\\d{4,9}/\\S+')\n",
    "              .alias(\"match\")\n",
    "          )\n",
    "          .explode(\"match\")\n",
    "          .drop_nulls(\"match\")\n",
    "          .with_columns(\n",
    "              pl.col(\"match\")\n",
    "              .str.replace_all(r'[\\s]+', '')\n",
    "              .str.replace(r'[^A-Za-z0-9./-]+$', '')\n",
    "              .str.to_lowercase()\n",
    "              .alias(\"dataset_id\")\n",
    "          )\n",
    "          .filter(pl.col(\"dataset_id\").str.starts_with(\"10.\"))\n",
    "          .group_by(\"article_id\", \"dataset_id\")\n",
    "          .agg(pl.col(\"match\"))\n",
    "          .with_columns((DOI_LINK + pl.col(\"dataset_id\")).alias(\"dataset_id\"))\n",
    "    )\n",
    "\n",
    "def main():\n",
    "    df = pl.read_parquet('/tmp/train_parse_split.parquet')\n",
    "    ref_dois = extract_reference_dois(df)\n",
    "    ref_dois.write_parquet('/tmp/addon_ref_priority.parquet')\n",
    "    l.info(f\"Extracted {ref_dois.shape[0]} reference-priority DOIs\")\n",
    "\n",
    "if __name__ == \"__main__\":\n",
    "    main()"
   ]
  },
  {
   "cell_type": "code",
   "execution_count": 10,
   "id": "fc660076",
   "metadata": {
    "execution": {
     "iopub.execute_input": "2025-07-31T21:31:39.871736Z",
     "iopub.status.busy": "2025-07-31T21:31:39.871180Z",
     "iopub.status.idle": "2025-07-31T21:31:39.875893Z",
     "shell.execute_reply": "2025-07-31T21:31:39.875326Z"
    },
    "papermill": {
     "duration": 0.020677,
     "end_time": "2025-07-31T21:31:39.876944",
     "exception": false,
     "start_time": "2025-07-31T21:31:39.856267",
     "status": "completed"
    },
    "tags": []
   },
   "outputs": [
    {
     "name": "stdout",
     "output_type": "stream",
     "text": [
      "Writing /tmp/src/merge_augmented_ids.py\n"
     ]
    }
   ],
   "source": [
    "%%writefile /tmp/src/merge_augmented_ids.py\n",
    "import polars as pl\n",
    "\n",
    "def drop_if_exists(df: pl.DataFrame, col: str) -> pl.DataFrame:\n",
    "    return df.drop(col) if col in df.columns else df\n",
    "\n",
    "def align_columns(df: pl.DataFrame, target_columns: list[str]) -> pl.DataFrame:\n",
    "    for col in target_columns:\n",
    "        if col not in df.columns:\n",
    "            df = df.with_columns(pl.lit(None).alias(col))\n",
    "    return df.select(target_columns)\n",
    "\n",
    "# Standard column order\n",
    "target_columns = [\"article_id\", \"dataset_id\", \"window\"]\n",
    "\n",
    "# Load base\n",
    "a = pl.read_parquet(\"/tmp/scibert_predictions.parquet\")\n",
    "a = align_columns(a, target_columns)\n",
    "\n",
    "# Load and align broken DOIs\n",
    "b = pl.read_parquet(\"/tmp/addon_broken_dois.parquet\")\n",
    "b = drop_if_exists(b, \"match\")\n",
    "b = align_columns(b, target_columns)\n",
    "\n",
    "# Merge a + b\n",
    "merged_ab = pl.concat([a, b]).unique(subset=[\"article_id\", \"dataset_id\"])\n",
    "merged_ab.write_parquet(\"/tmp/scibert_predictions.parquet\")\n",
    "\n",
    "# Load and align ref-section DOIs\n",
    "c = pl.read_parquet(\"/tmp/addon_ref_priority.parquet\")\n",
    "c = drop_if_exists(c, \"match\")\n",
    "c = align_columns(c, target_columns)\n",
    "\n",
    "# Final merge\n",
    "final = pl.concat([merged_ab, c]).unique(subset=[\"article_id\", \"dataset_id\"])\n",
    "final = final.filter(pl.col(\"window\").is_not_null())\n",
    "final.write_parquet(\"/tmp/scibert_predictions.parquet\")"
   ]
  },
  {
   "cell_type": "code",
   "execution_count": 11,
   "id": "57593a0c",
   "metadata": {
    "_cell_guid": "af30506a-e45e-4a3b-ba81-23dd154bde8d",
    "_uuid": "94fc4779-0b43-4058-ac64-f54a7ebd8a76",
    "collapsed": false,
    "execution": {
     "iopub.execute_input": "2025-07-31T21:31:39.907953Z",
     "iopub.status.busy": "2025-07-31T21:31:39.907712Z",
     "iopub.status.idle": "2025-07-31T21:31:39.913404Z",
     "shell.execute_reply": "2025-07-31T21:31:39.912857Z"
    },
    "jupyter": {
     "outputs_hidden": false
    },
    "papermill": {
     "duration": 0.022167,
     "end_time": "2025-07-31T21:31:39.914325",
     "exception": false,
     "start_time": "2025-07-31T21:31:39.892158",
     "status": "completed"
    },
    "tags": []
   },
   "outputs": [
    {
     "name": "stdout",
     "output_type": "stream",
     "text": [
      "Writing /tmp/src/llm_validate.py\n"
     ]
    }
   ],
   "source": [
    "%%writefile /tmp/src/llm_validate.py\n",
    "import polars as pl\n",
    "import os\n",
    "\n",
    "from helpers import *\n",
    "\n",
    "l = get_logger()\n",
    "\n",
    "SYS_PROMPT_CLASSIFY_DOI = \"\"\"\n",
    "You are a highly accurate DOI/type classifier. Given a snippet of academic text containing a DOI or accession, choose:\n",
    "\n",
    "  A) Data — the identifier points directly to research data in a repository  \n",
    "  B) Literature — the identifier points to a journal article, book chapter, protocol paper, or other non-data resource  \n",
    "\n",
    "=== Repository Prefixes ===\n",
    "Treat as DATA if the DOI starts with any of:\n",
    "  • 10.5061 (Dryad)  \n",
    "  • 10.5281 (Zenodo)  \n",
    "  • 10.6084 (Figshare)  \n",
    "  • 10.24433/ (Mendeley Data)  \n",
    "  • 10.17632 (Mendeley Data)  \n",
    "  • SRA/E- (e.g. SRP, SRA)  \n",
    "  • PRJNA, PRJEB, PRJDB (NCBI BioProject)  \n",
    "  • PRIDE:PXD (Proteomics)  \n",
    "  • EMBL:E-MTAB, E- (ArrayExpress)  \n",
    "\n",
    "Everything else is LITERATURE unless you see explicit data-repository context (e.g. “deposited in Dryad under DOI…”).\n",
    "\n",
    "=== Few-Shot Examples ===\n",
    "1) “Raw images are stored on Figshare (DOI 10.6084/m9.figshare.1234567).” → A  \n",
    "2) “Sequence reads available under BioProject accession PRJNA765432.” → A  \n",
    "3) “As described in Nature Methods (DOI 10.1038/s41592-020-0793-2).” → B  \n",
    "4) “See Supplementary Data at Zenodo (10.5281/zenodo.987654).” → A  \n",
    "5) “Method details published in J. Proteome Res. DOI: 10.1021/acs.jproteome.0c00845.” → B  \n",
    "6) “Data has been uploaded to Dryad (10.5061/dryad.x1y2z3).” → A  \n",
    "7) “Referenced paper: DOI 10.1101/2020.01.01.123456 (bioRxiv preprint).” → B  \n",
    "8) “Metabolomics data in MetaboLights MTBLS1234.” → A  \n",
    "\n",
    "=== Instructions ===\n",
    "- Use only the identifier itself and its context.  \n",
    "- If the DOI prefix is in the list above, always choose A.  \n",
    "- If it belongs to a known publisher prefix (e.g. 10.1007, 10.1038, 10.1126, 10.1016…), choose B.  \n",
    "- Otherwise, rely on context words (“deposited”, “uploaded”, “archived”) to decide.  \n",
    "- Output exactly one letter: A or B, and nothing else.\n",
    "\"\"\".strip()\n",
    "\n",
    "def build_df():\n",
    "    df = pl.read_parquet('/tmp/extracted.parquet')\n",
    "    df.filter(~is_doi_link('dataset_id')).select('article_id', 'dataset_id').write_csv('/tmp/accid_sub.csv')\n",
    "    return df.filter(is_doi_link('dataset_id'))\n",
    "\n",
    "def build_prompt(tokenizer, df):\n",
    "    prompts = []\n",
    "    for doi, text in df.select('dataset_id', 'window').rows():\n",
    "        messages = [{'role':'system','content': SYS_PROMPT_CLASSIFY_DOI}, {'role':'user', 'content': text}]\n",
    "        prompts.append(tokenizer.apply_chat_template(messages, add_generation_prompt=True, tokenize=False, enable_thinking=False))\n",
    "    return df.with_columns(pl.Series('prompt', prompts))\n",
    "\n",
    "if __name__=='__main__':\n",
    "    os.environ[\"VLLM_USE_V1\"] = \"0\"\n",
    "    import vllm\n",
    "    from logits_processor_zoo.vllm import MultipleChoiceLogitsProcessor\n",
    "    model_path = \"/kaggle/input/qwen-3/transformers/32b-awq/1\"\n",
    "    llm = vllm.LLM(model_path, quantization='awq', tensor_parallel_size=2, gpu_memory_utilization=0.9, trust_remote_code=True, dtype=\"half\", enforce_eager=True, max_model_len=2048, disable_log_stats=True, disable_custom_all_reduce=True, enable_prefix_caching=True, task='generate')\n",
    "    tokenizer = llm.get_tokenizer()\n",
    "    df = build_df()\n",
    "    df = build_prompt(tokenizer, df)\n",
    "    prompts = df['prompt'].to_list()\n",
    "    mclp = MultipleChoiceLogitsProcessor(tokenizer, choices=[\"A\", \"B\"])\n",
    "    outputs = llm.generate(prompts, vllm.SamplingParams(seed=777, temperature=0.1, skip_special_tokens=True, max_tokens=1, logits_processors=[mclp], logprobs=len(mclp.choices)), use_tqdm=True)\n",
    "    logprobs = [{lp.decoded_token: lp.logprob for lp in list(lps)} for lps in [output.outputs[0].logprobs[0].values() for output in outputs]]\n",
    "    pred_letters = [max(lpdict, key=lpdict.get) for lpdict in logprobs]  # \"A\" or \"B\"\n",
    "    type_llm = [True if p == \"A\" else False for p in pred_letters]\n",
    "    \n",
    "    # Add all columns to your dataframe\n",
    "    df = df.with_columns([\n",
    "        pl.Series('type_llm', type_llm),\n",
    "        pl.Series('logprob_A', [d.get(\"A\", float('-inf')) for d in logprobs]),\n",
    "        pl.Series('logprob_B', [d.get(\"B\", float('-inf')) for d in logprobs]),\n",
    "        pl.Series('pred_letter', pred_letters)\n",
    "    ])\n",
    "    \n",
    "    # Save full result for hybrid work\n",
    "    df.select(['article_id', 'dataset_id', 'type_llm', 'logprob_A', 'logprob_B']).write_csv('/kaggle/working/submission_llm_logprobs.csv')\n",
    "\n",
    "    choices = [max(d, key=d.get) for d in logprobs]\n",
    "    types = {'A': True, 'B': False}\n",
    "    choices = [types[c] for c in choices]\n",
    "    df = df.with_columns(pl.Series('type', choices))\n",
    "    df.filter(pl.col('type')).select('article_id', 'dataset_id').write_csv('/tmp/doi_sub.csv')\n",
    "    df = pl.concat([pl.read_csv('/tmp/doi_sub.csv'), pl.read_csv('/tmp/accid_sub.csv')])\n",
    "    df = assume_type(df)\n",
    "    df.select(['article_id', 'dataset_id', 'type']).with_row_index(name='row_id').write_csv('/kaggle/working/submission.csv')\n",
    "    if not IS_KAGGLE_SUBMISSION:\n",
    "        results = evaluate(df)\n",
    "        for r in results: l.info(r) \n",
    "        results = evaluate(df, on=['article_id', 'dataset_id', 'type'])\n",
    "        for r in results: l.info(r)"
   ]
  },
  {
   "cell_type": "code",
   "execution_count": 12,
   "id": "39546da5",
   "metadata": {
    "execution": {
     "iopub.execute_input": "2025-07-31T21:31:39.945304Z",
     "iopub.status.busy": "2025-07-31T21:31:39.944791Z",
     "iopub.status.idle": "2025-07-31T21:31:39.949528Z",
     "shell.execute_reply": "2025-07-31T21:31:39.948883Z"
    },
    "papermill": {
     "duration": 0.021437,
     "end_time": "2025-07-31T21:31:39.951285",
     "exception": false,
     "start_time": "2025-07-31T21:31:39.929848",
     "status": "completed"
    },
    "tags": []
   },
   "outputs": [
    {
     "name": "stdout",
     "output_type": "stream",
     "text": [
      "Writing /tmp/src/post_filter.py\n"
     ]
    }
   ],
   "source": [
    "%%writefile /tmp/src/post_filter.py\n",
    "import polars as pl\n",
    "from helpers import *\n",
    "\n",
    "\"\"\"\n",
    "Fourth essence: Post-filter to cut FP DOIs that look like literature.\n",
    "- Read /kaggle/working/submission.csv (output of llm_validate.py)\n",
    "- Join with /tmp/extracted.parquet to get context window\n",
    "- Drop DOI rows that (1) start with typical publisher prefixes AND (2) have no data-ish words nearby\n",
    "- Keep accessions untouched\n",
    "\"\"\"\n",
    "\n",
    "l = get_logger()\n",
    "\n",
    "PAPER_PREFIXES = [\n",
    "    \"10.1007\", \"10.1002\", \"10.1016\", \"10.1021\", \"10.1038\", \"10.1056\",\n",
    "    \"10.1073\", \"10.1080\", \"10.1093\", \"10.1101\", \"10.1186\", \"10.1371\",\n",
    "    \"10.1111\", \"10.5194\", \"10.3390\", \"10.1126\"\n",
    "]\n",
    "\n",
    "CONTEXT_RE = r\"(?i)\\b(data(?:set)?|repository|archive|deposited|available|supplementary|raw(?:\\s+data)?|uploaded|hosted|stored|accession)\\b\"\n",
    "\n",
    "def is_paper_prefix(col: str = \"dataset_id\") -> pl.Expr:\n",
    "    expr = pl.lit(False)\n",
    "    for p in PAPER_PREFIXES:\n",
    "        expr = expr | pl.col(col).str.starts_with(f\"{DOI_LINK}{p}\")\n",
    "    return expr\n",
    "\n",
    "def main():\n",
    "    sub = pl.read_csv(\"/kaggle/working/submission.csv\")\n",
    "\n",
    "    # Normalize columns: drop row_id if present so concat widths match\n",
    "    if \"row_id\" in sub.columns:\n",
    "        sub = sub.drop(\"row_id\")\n",
    "\n",
    "    # Context windows\n",
    "    win = pl.read_parquet(\"/tmp/extracted.parquet\").select(\"article_id\", \"dataset_id\", \"window\")\n",
    "\n",
    "    # DOI & ACC split\n",
    "    doi_rows = sub.filter(is_doi_link(\"dataset_id\")).join(win, on=[\"article_id\", \"dataset_id\"], how=\"left\")\n",
    "    acc_rows = sub.filter(~is_doi_link(\"dataset_id\"))\n",
    "\n",
    "    keep_mask = (\n",
    "        (~is_paper_prefix(\"dataset_id\"))  # not a known paper prefix\n",
    "        | doi_rows[\"window\"].fill_null(\"\").str.contains(CONTEXT_RE)\n",
    "    )\n",
    "\n",
    "    kept_doi = doi_rows.filter(keep_mask).select(\"article_id\", \"dataset_id\", \"type\")\n",
    "    final = pl.concat([kept_doi, acc_rows.select(\"article_id\", \"dataset_id\", \"type\")])\n",
    "\n",
    "    # Re-eval & save\n",
    "    if not IS_KAGGLE_SUBMISSION:\n",
    "        for r in evaluate(final): l.info(r)\n",
    "        for r in evaluate(final, on=[\"article_id\", \"dataset_id\", \"type\"]): l.info(r)\n",
    "\n",
    "    final.with_row_index(\"row_id\").write_csv(\"/kaggle/working/submission.csv\")\n",
    "\n",
    "if __name__ == \"__main__\":\n",
    "    main()"
   ]
  },
  {
   "cell_type": "code",
   "execution_count": 13,
   "id": "ea4c1266",
   "metadata": {
    "execution": {
     "iopub.execute_input": "2025-07-31T21:31:39.981381Z",
     "iopub.status.busy": "2025-07-31T21:31:39.981183Z",
     "iopub.status.idle": "2025-07-31T21:31:39.986516Z",
     "shell.execute_reply": "2025-07-31T21:31:39.985830Z"
    },
    "papermill": {
     "duration": 0.021461,
     "end_time": "2025-07-31T21:31:39.987499",
     "exception": false,
     "start_time": "2025-07-31T21:31:39.966038",
     "status": "completed"
    },
    "tags": []
   },
   "outputs": [
    {
     "name": "stdout",
     "output_type": "stream",
     "text": [
      "Writing /tmp/src/post_filter_scibert.py\n"
     ]
    }
   ],
   "source": [
    "%%writefile /tmp/src/post_filter_scibert.py\n",
    "import polars as pl\n",
    "from helpers import *\n",
    "\n",
    "\"\"\"\n",
    "Fourth essence: Post-filter to cut FP DOIs that look like literature.\n",
    "- Read /kaggle/working/submission.csv (output of llm_validate.py)\n",
    "- Join with /tmp/extracted.parquet to get context window\n",
    "- Drop DOI rows that (1) start with typical publisher prefixes AND (2) have no data-ish words nearby\n",
    "- Keep accessions untouched\n",
    "\"\"\"\n",
    "\n",
    "l = get_logger()\n",
    "\n",
    "PAPER_PREFIXES = [\n",
    "    \"10.1007\", \"10.1002\", \"10.1016\", \"10.1021\", \"10.1038\", \"10.1056\",\n",
    "    \"10.1073\", \"10.1080\", \"10.1093\", \"10.1101\", \"10.1186\", \"10.1371\",\n",
    "    \"10.1111\", \"10.5194\", \"10.3390\", \"10.1126\"\n",
    "]\n",
    "\n",
    "CONTEXT_RE = r\"(?i)\\b(data(?:set)?|repository|archive|deposited|available|supplementary|raw(?:\\s+data)?|uploaded|hosted|stored|accession)\\b\"\n",
    "\n",
    "def is_paper_prefix(col: str = \"dataset_id\") -> pl.Expr:\n",
    "    expr = pl.lit(False)\n",
    "    for p in PAPER_PREFIXES:\n",
    "        expr = expr | pl.col(col).str.starts_with(f\"{DOI_LINK}{p}\")\n",
    "    return expr\n",
    "\n",
    "def main():\n",
    "    sub = pl.read_csv(\"/kaggle/working/submission.csv\")\n",
    "\n",
    "    # Normalize columns: drop row_id if present so concat widths match\n",
    "    if \"row_id\" in sub.columns:\n",
    "        sub = sub.drop(\"row_id\")\n",
    "\n",
    "    # Context windows\n",
    "    win = pl.read_parquet(\"/tmp/scibert_predictions.parquet\").select(\"article_id\", \"dataset_id\", \"window\",'r_type')\n",
    "\n",
    "    # DOI & ACC split\n",
    "    doi_rows = sub.filter(is_doi_link(\"dataset_id\")).join(win, on=[\"article_id\", \"dataset_id\"], how=\"left\")\n",
    "    acc_rows = sub.filter(~is_doi_link(\"dataset_id\"))\n",
    "\n",
    "    keep_mask = (\n",
    "        (~is_paper_prefix(\"dataset_id\"))  # not a known paper prefix\n",
    "        | doi_rows[\"window\"].fill_null(\"\").str.contains(CONTEXT_RE)\n",
    "    )\n",
    "\n",
    "    kept_doi = doi_rows.filter(keep_mask).select(\"article_id\", \"dataset_id\", \"r_type\", 'type')\n",
    "    acc_rows = acc_rows.join(win, on=[\"article_id\", \"dataset_id\"], how=\"left\")\n",
    "    final = pl.concat([kept_doi, acc_rows.select(\"article_id\", \"dataset_id\", \"r_type\", 'type')])\n",
    "    \n",
    "    # Replace 'type' with 'r_type' for submission\n",
    "    final = final.drop(\"type\").rename({\"r_type\": \"type\"})\n",
    "    \n",
    "    # Re-eval & save\n",
    "    if not IS_KAGGLE_SUBMISSION:\n",
    "        for r in evaluate(final): l.info(r)\n",
    "        for r in evaluate(final, on=[\"article_id\", \"dataset_id\", \"type\"]): l.info(r)\n",
    "    \n",
    "    final.with_row_index(\"row_id\").write_csv(\"/kaggle/working/submission_scibert.csv\")\n",
    "\n",
    "\n",
    "if __name__ == \"__main__\":\n",
    "    main()"
   ]
  },
  {
   "cell_type": "code",
   "execution_count": 14,
   "id": "18c04e81",
   "metadata": {
    "_cell_guid": "c6a12705-737a-4b21-9bf2-125b3d1ab724",
    "_kg_hide-output": true,
    "_uuid": "bc8e0d68-3097-4ce9-99a1-536921913550",
    "execution": {
     "iopub.execute_input": "2025-07-31T21:31:40.061255Z",
     "iopub.status.busy": "2025-07-31T21:31:40.060768Z",
     "iopub.status.idle": "2025-07-31T21:31:46.884435Z",
     "shell.execute_reply": "2025-07-31T21:31:46.883374Z"
    },
    "papermill": {
     "duration": 6.884008,
     "end_time": "2025-07-31T21:31:46.885934",
     "exception": false,
     "start_time": "2025-07-31T21:31:40.001926",
     "status": "completed"
    },
    "scrolled": true,
    "tags": []
   },
   "outputs": [
    {
     "name": "stdout",
     "output_type": "stream",
     "text": [
      "/tmp\n"
     ]
    }
   ],
   "source": [
    "%cd /tmp\n",
    "! LOG_LEVEL=INFO python src/parse.py /tmp/train_parse\n",
    "! python src/check_parse.py"
   ]
  },
  {
   "cell_type": "code",
   "execution_count": 15,
   "id": "3f4ecfcf",
   "metadata": {
    "_cell_guid": "c6a12705-737a-4b21-9bf2-125b3d1ab724",
    "_kg_hide-output": true,
    "_uuid": "bc8e0d68-3097-4ce9-99a1-536921913550",
    "collapsed": false,
    "execution": {
     "iopub.execute_input": "2025-07-31T21:31:46.916862Z",
     "iopub.status.busy": "2025-07-31T21:31:46.916589Z",
     "iopub.status.idle": "2025-07-31T21:31:48.200741Z",
     "shell.execute_reply": "2025-07-31T21:31:48.199693Z"
    },
    "jupyter": {
     "outputs_hidden": false
    },
    "papermill": {
     "duration": 1.301082,
     "end_time": "2025-07-31T21:31:48.202285",
     "exception": false,
     "start_time": "2025-07-31T21:31:46.901203",
     "status": "completed"
    },
    "scrolled": true,
    "tags": []
   },
   "outputs": [],
   "source": [
    "! python src/getid.py"
   ]
  },
  {
   "cell_type": "code",
   "execution_count": 16,
   "id": "7c3d4bc2",
   "metadata": {
    "execution": {
     "iopub.execute_input": "2025-07-31T21:31:48.237950Z",
     "iopub.status.busy": "2025-07-31T21:31:48.237691Z",
     "iopub.status.idle": "2025-07-31T21:31:48.244225Z",
     "shell.execute_reply": "2025-07-31T21:31:48.243499Z"
    },
    "papermill": {
     "duration": 0.024994,
     "end_time": "2025-07-31T21:31:48.245288",
     "exception": false,
     "start_time": "2025-07-31T21:31:48.220294",
     "status": "completed"
    },
    "tags": []
   },
   "outputs": [
    {
     "name": "stdout",
     "output_type": "stream",
     "text": [
      "Writing /tmp/src/SciBert_train.py\n"
     ]
    }
   ],
   "source": [
    "%%writefile /tmp/src/SciBert_train.py\n",
    "import pandas as pd\n",
    "import torch\n",
    "import os\n",
    "from sklearn.model_selection import train_test_split\n",
    "from sklearn.metrics import f1_score, classification_report\n",
    "from transformers import (\n",
    "    AutoTokenizer,\n",
    "    AutoModelForSequenceClassification,\n",
    "    Trainer,\n",
    "    TrainingArguments,\n",
    "    TrainerCallback,\n",
    "    EarlyStoppingCallback\n",
    ")\n",
    "os.environ[\"CUDA_VISIBLE_DEVICES\"] = \"0,1\"\n",
    "os.environ[\"WANDB_DISABLED\"] = \"true\"\n",
    "# Load data from parquet and CSV\n",
    "extracted_df = pd.read_parquet(\"/tmp/extracted.parquet\")\n",
    "labels_df = pd.read_csv(\"/kaggle/input/make-data-count-finding-data-references/train_labels.csv\")\n",
    "\n",
    "# Normalize keys for join\n",
    "labels_df[\"article_id\"] = labels_df[\"article_id\"].str.replace(\"/\", \"_\")\n",
    "labels_df[\"dataset_id\"] = labels_df[\"dataset_id\"].str.lower()\n",
    "\n",
    "extracted_df[\"dataset_id\"] = extracted_df[\"dataset_id\"].str.lower()\n",
    "\n",
    "# Merge and drop rows without labels\n",
    "df = extracted_df.merge(labels_df, on=[\"article_id\", \"dataset_id\"], how=\"inner\")\n",
    "df = df.dropna(subset=[\"window\", \"type\"])\n",
    "\n",
    "# Label encoding\n",
    "type_to_label = {\"Primary\": 0, \"Secondary\": 1} #, \"Missing\": 2}\n",
    "df[\"label\"] = df[\"type\"].map(type_to_label)\n",
    "\n",
    "# Train/val split\n",
    "train_texts, val_texts, train_labels, val_labels = train_test_split(\n",
    "    df[\"window\"].tolist(),\n",
    "    df[\"label\"].tolist(),\n",
    "    test_size=0.2,\n",
    "    stratify=df[\"label\"],\n",
    "    random_state=42\n",
    ")\n",
    "\n",
    "# Tokenization\n",
    "model_name = \"allenai/scibert_scivocab_uncased\"\n",
    "tokenizer = AutoTokenizer.from_pretrained(model_name)\n",
    "\n",
    "train_encodings = tokenizer(train_texts, truncation=True, padding=True, max_length=512)\n",
    "val_encodings = tokenizer(val_texts, truncation=True, padding=True, max_length=512)\n",
    "\n",
    "# Dataset wrapper\n",
    "class DataRelationDataset(torch.utils.data.Dataset):\n",
    "    def __init__(self, encodings, labels):\n",
    "        self.encodings = encodings\n",
    "        self.labels = labels\n",
    "\n",
    "    def __getitem__(self, idx):\n",
    "        item = {k: torch.tensor(v[idx]) for k, v in self.encodings.items()}\n",
    "        item[\"labels\"] = torch.tensor(self.labels[idx])\n",
    "        return item\n",
    "\n",
    "    def __len__(self):\n",
    "        return len(self.labels)\n",
    "\n",
    "train_dataset = DataRelationDataset(train_encodings, train_labels)\n",
    "val_dataset = DataRelationDataset(val_encodings, val_labels)\n",
    "\n",
    "# Model\n",
    "model = AutoModelForSequenceClassification.from_pretrained(model_name, num_labels=2, \n",
    "                                                           hidden_dropout_prob=0.3,      # Default is usually 0.1\n",
    "                                                           attention_probs_dropout_prob=0.3,  # Default is usually 0.1\n",
    ")\n",
    "\n",
    "# Metrics\n",
    "def compute_metrics(p):    \n",
    "    preds = p.predictions.argmax(-1)\n",
    "    f1_micro = f1_score(p.label_ids, preds, average='micro')\n",
    "    f1_macro = f1_score(p.label_ids, preds, average='macro')\n",
    "    report = classification_report(p.label_ids, preds, output_dict=True, zero_division=0)\n",
    "\n",
    "    def safe_f1(class_label):\n",
    "        return report[str(class_label)][\"f1-score\"] if str(class_label) in report else 0.0\n",
    "\n",
    "    return {\n",
    "        \"f1_micro\": f1_micro,\n",
    "        \"f1_macro\": f1_macro,\n",
    "        \"f1_primary\": safe_f1(0),\n",
    "        \"f1_secondary\": safe_f1(1),\n",
    "        \"f1_missing\": safe_f1(2)\n",
    "    }\n",
    "\n",
    "# Training setup\n",
    "training_args = TrainingArguments(\n",
    "    output_dir=\"/kaggle/working/results\",\n",
    "    eval_strategy=\"epoch\",\n",
    "    save_strategy=\"epoch\",\n",
    "    logging_strategy=\"epoch\",\n",
    "    per_device_train_batch_size=8,\n",
    "    per_device_eval_batch_size=8,\n",
    "    num_train_epochs=101,\n",
    "    learning_rate=.5e-5,\n",
    "    weight_decay=0.15, # Increase from 0.01 to 0.1 or even 0.2\n",
    "    load_best_model_at_end=True,\n",
    "    metric_for_best_model=\"eval_f1_macro\",\n",
    "    greater_is_better=True,\n",
    "    save_total_limit = 4,\n",
    "    fp16=True\n",
    ")\n",
    "\n",
    "class PrintDevicesCallback(TrainerCallback):\n",
    "    def on_train_begin(self, args, state, control, **kwargs):\n",
    "        print(f\"Training on {torch.cuda.device_count()} GPUs:\", [torch.cuda.get_device_name(i) for i in range(torch.cuda.device_count())])\n",
    "\n",
    "trainer = Trainer(\n",
    "    model=model,\n",
    "    args=training_args,\n",
    "    train_dataset=train_dataset,\n",
    "    eval_dataset=val_dataset,\n",
    "    compute_metrics=compute_metrics,\n",
    "    callbacks=[EarlyStoppingCallback(early_stopping_patience=3)]\n",
    ")\n",
    "\n",
    "# Train\n",
    "trainer.train()\n",
    "model.save_pretrained(\"/kaggle/working/best_model\")\n",
    "tokenizer.save_pretrained(\"/kaggle/working/best_model\")\n",
    "! zip -r /kaggle/working/output-tbt-2L.zip /kaggle/working/best_model\n",
    "! cd /kaggle/working\n",
    "from IPython.display import FileLink\n",
    "FileLink(r'output-tbt-2L.zip')"
   ]
  },
  {
   "cell_type": "code",
   "execution_count": 17,
   "id": "c9dfa450",
   "metadata": {
    "execution": {
     "iopub.execute_input": "2025-07-31T21:31:48.277059Z",
     "iopub.status.busy": "2025-07-31T21:31:48.276858Z",
     "iopub.status.idle": "2025-07-31T21:31:48.281675Z",
     "shell.execute_reply": "2025-07-31T21:31:48.280948Z"
    },
    "papermill": {
     "duration": 0.021533,
     "end_time": "2025-07-31T21:31:48.282725",
     "exception": false,
     "start_time": "2025-07-31T21:31:48.261192",
     "status": "completed"
    },
    "tags": []
   },
   "outputs": [
    {
     "name": "stdout",
     "output_type": "stream",
     "text": [
      "Writing /tmp/src/SciBert_infer.py\n"
     ]
    }
   ],
   "source": [
    "%%writefile /tmp/src/SciBert_infer.py\n",
    "from tqdm import tqdm\n",
    "import pandas as pd\n",
    "import torch\n",
    "from transformers import AutoTokenizer, AutoModelForSequenceClassification\n",
    "# 🧠 Load model and tokenizer\n",
    "model_path = \"/kaggle/input/btb-2l-scibert/kaggle/working/best_model\"\n",
    "token_path = model_path\n",
    "\n",
    "tokenizer = AutoTokenizer.from_pretrained(token_path)\n",
    "model = AutoModelForSequenceClassification.from_pretrained(model_path)\n",
    "model.eval()\n",
    "device = torch.device(\"cuda\" if torch.cuda.is_available() else \"cpu\")\n",
    "model.to(device)\n",
    "\n",
    "# 🔮 Predict type\n",
    "label_map = {0: \"Primary\", 1: \"Secondary\",} # 2: 'Missing'}\n",
    "batch_size = 8\n",
    "preds = []\n",
    "rows = pd.read_parquet(\"/tmp/extracted.parquet\")\n",
    "\n",
    "# Drop NA windows\n",
    "rows = rows.dropna(subset=[\"window\"]).reset_index(drop=True)\n",
    "\n",
    "logits_list = []\n",
    "\n",
    "for i in tqdm(range(0, len(rows), batch_size)):\n",
    "    batch_texts = rows[\"window\"].iloc[i:i+batch_size].tolist()\n",
    "    enc = tokenizer(batch_texts, truncation=True, padding=True, max_length=512, return_tensors=\"pt\").to(device)\n",
    "    with torch.no_grad():\n",
    "        logits = model(**enc).logits\n",
    "        p = torch.argmax(logits, dim=1).cpu().tolist()\n",
    "        preds.extend(p)\n",
    "        logits_list.extend(logits.cpu().tolist())\n",
    "\n",
    "\n",
    "logits_df = pd.DataFrame(logits_list, columns=[\"logit_primary\", \"logit_secondary\"])\n",
    "rows = pd.concat([rows.reset_index(drop=True), logits_df], axis=1)\n",
    "label_map = {0: \"Primary\", 1: \"Secondary\"}\n",
    "\n",
    "# preds is a list of ints from argmax\n",
    "rows[\"pred_label\"] = [label_map[p] for p in preds]\n",
    "\n",
    "# Then export\n",
    "rows[[\"article_id\", \"dataset_id\", \"pred_label\", \"logit_primary\", \"logit_secondary\"]].to_csv(\n",
    "    \"/kaggle/working/submission_scibert_logits.csv\", index=False\n",
    ")\n",
    "rows[[\"article_id\", \"dataset_id\", \"pred_label\", \"logit_primary\", \"logit_secondary\"]].to_csv(\"/kaggle/working/submission_scibert_logits.csv\", index=False)\n",
    "rows[\"r_type\"] = [label_map.get(p, \"Missing\") for p in preds]\n",
    "rows[[\"article_id\", \"dataset_id\", 'window',\"r_type\"]].to_parquet(\"/tmp/scibert_predictions.parquet\")"
   ]
  },
  {
   "cell_type": "code",
   "execution_count": 18,
   "id": "44776922",
   "metadata": {
    "execution": {
     "iopub.execute_input": "2025-07-31T21:31:48.316195Z",
     "iopub.status.busy": "2025-07-31T21:31:48.315997Z",
     "iopub.status.idle": "2025-07-31T21:31:49.153493Z",
     "shell.execute_reply": "2025-07-31T21:31:49.152796Z"
    },
    "papermill": {
     "duration": 0.856706,
     "end_time": "2025-07-31T21:31:49.154875",
     "exception": false,
     "start_time": "2025-07-31T21:31:48.298169",
     "status": "completed"
    },
    "tags": []
   },
   "outputs": [
    {
     "name": "stdout",
     "output_type": "stream",
     "text": [
      "Traceback (most recent call last):\r\n",
      "  File \"/tmp/src/post_filter_scibert.py\", line 63, in <module>\r\n",
      "    main()\r\n",
      "  File \"/tmp/src/post_filter_scibert.py\", line 36, in main\r\n",
      "    win = pl.read_parquet(\"/tmp/scibert_predictions.parquet\").select(\"article_id\", \"dataset_id\", \"window\",'r_type')\r\n",
      "          ^^^^^^^^^^^^^^^^^^^^^^^^^^^^^^^^^^^^^^^^^^^^^^^^^^^\r\n",
      "  File \"/usr/local/lib/python3.11/dist-packages/polars/_utils/deprecation.py\", line 92, in wrapper\r\n",
      "    return function(*args, **kwargs)\r\n",
      "           ^^^^^^^^^^^^^^^^^^^^^^^^^\r\n",
      "  File \"/usr/local/lib/python3.11/dist-packages/polars/_utils/deprecation.py\", line 92, in wrapper\r\n",
      "    return function(*args, **kwargs)\r\n",
      "           ^^^^^^^^^^^^^^^^^^^^^^^^^\r\n",
      "  File \"/usr/local/lib/python3.11/dist-packages/polars/io/parquet/functions.py\", line 241, in read_parquet\r\n",
      "    return lf.collect()\r\n",
      "           ^^^^^^^^^^^^\r\n",
      "  File \"/usr/local/lib/python3.11/dist-packages/polars/lazyframe/frame.py\", line 2056, in collect\r\n",
      "    return wrap_df(ldf.collect(callback))\r\n",
      "                   ^^^^^^^^^^^^^^^^^^^^^\r\n",
      "FileNotFoundError: No such file or directory (os error 2): /tmp/scibert_predictions.parquet\r\n"
     ]
    }
   ],
   "source": [
    "! python src/post_filter_scibert.py\n",
    "#! rm /kaggle/working/submission.csv\n",
    "#! mv /kaggle/working/submission_scibert.csv /kaggle/working/submission.csv"
   ]
  },
  {
   "cell_type": "code",
   "execution_count": 19,
   "id": "5a6db7c4",
   "metadata": {
    "execution": {
     "iopub.execute_input": "2025-07-31T21:31:49.185870Z",
     "iopub.status.busy": "2025-07-31T21:31:49.185633Z",
     "iopub.status.idle": "2025-07-31T21:31:49.189027Z",
     "shell.execute_reply": "2025-07-31T21:31:49.188481Z"
    },
    "papermill": {
     "duration": 0.019785,
     "end_time": "2025-07-31T21:31:49.190098",
     "exception": false,
     "start_time": "2025-07-31T21:31:49.170313",
     "status": "completed"
    },
    "tags": []
   },
   "outputs": [],
   "source": [
    "#! python src/addon_fix_broken_dois.py\n",
    "#! python src/addon_reference_priority.py\n",
    "#! python src/merge_augmented_ids.py  # or insert the merging logic inline"
   ]
  },
  {
   "cell_type": "code",
   "execution_count": 20,
   "id": "620dff1a",
   "metadata": {
    "_cell_guid": "c6a12705-737a-4b21-9bf2-125b3d1ab724",
    "_kg_hide-output": true,
    "_uuid": "bc8e0d68-3097-4ce9-99a1-536921913550",
    "collapsed": false,
    "execution": {
     "iopub.execute_input": "2025-07-31T21:31:49.220016Z",
     "iopub.status.busy": "2025-07-31T21:31:49.219834Z",
     "iopub.status.idle": "2025-07-31T21:31:49.222658Z",
     "shell.execute_reply": "2025-07-31T21:31:49.222125Z"
    },
    "jupyter": {
     "outputs_hidden": false
    },
    "papermill": {
     "duration": 0.01889,
     "end_time": "2025-07-31T21:31:49.223763",
     "exception": false,
     "start_time": "2025-07-31T21:31:49.204873",
     "status": "completed"
    },
    "scrolled": true,
    "tags": []
   },
   "outputs": [],
   "source": [
    "# ! python src/llm_validate.py\n",
    "# ! python src/post_filter.py"
   ]
  },
  {
   "cell_type": "code",
   "execution_count": 21,
   "id": "e70e7640",
   "metadata": {
    "_cell_guid": "c6a12705-737a-4b21-9bf2-125b3d1ab724",
    "_kg_hide-output": true,
    "_uuid": "bc8e0d68-3097-4ce9-99a1-536921913550",
    "execution": {
     "iopub.execute_input": "2025-07-31T21:31:49.275908Z",
     "iopub.status.busy": "2025-07-31T21:31:49.275574Z",
     "iopub.status.idle": "2025-07-31T21:31:49.284108Z",
     "shell.execute_reply": "2025-07-31T21:31:49.283149Z"
    },
    "papermill": {
     "duration": 0.033828,
     "end_time": "2025-07-31T21:31:49.285242",
     "exception": false,
     "start_time": "2025-07-31T21:31:49.251414",
     "status": "completed"
    },
    "scrolled": true,
    "tags": []
   },
   "outputs": [
    {
     "name": "stdout",
     "output_type": "stream",
     "text": [
      "Writing /tmp/src/FailuresWllm.py\n"
     ]
    }
   ],
   "source": [
    "%%writefile /tmp/src/FailuresWllm.py\n",
    "import polars as pl\n",
    "\n",
    "# Load your predictions\n",
    "pred_df = pl.read_csv(\"/kaggle/working/submission.csv\")\n",
    "\n",
    "# Load official labels\n",
    "truth_df = pl.read_csv(\"/kaggle/input/make-data-count-finding-data-references/train_labels.csv\")\n",
    "\n",
    "# Rename truth type for disambiguation\n",
    "truth_df = truth_df.rename({\"type\": \"type_truth\"})\n",
    "\n",
    "# Outer join to align all combinations\n",
    "joined = pred_df.join(truth_df, on=[\"article_id\", \"dataset_id\"], how=\"full\")\n",
    "print(len(joined))\n",
    "# Add error type column\n",
    "error_expr = (\n",
    "    pl.when(pl.col(\"type\").is_null() & pl.col(\"type_truth\").is_not_null()).then(pl.lit(\"false_negative\"))\n",
    "    .when(pl.col(\"type\").is_not_null() & pl.col(\"type_truth\").is_null()).then(pl.lit(\"false_positive\"))\n",
    "    .when(\n",
    "        pl.col(\"type\").is_not_null()\n",
    "        & pl.col(\"type_truth\").is_not_null()\n",
    "        & (pl.col(\"type\") != pl.col(\"type_truth\"))\n",
    "    ).then(pl.lit(\"type_mismatch\"))\n",
    "    .otherwise(pl.lit(\"correct\"))\n",
    ")\n",
    "\n",
    "joined = joined.with_columns([error_expr.alias(\"error_type\")])\n",
    "\n",
    "\n",
    "# Extract each error type\n",
    "false_negatives = joined.filter(pl.col(\"error_type\") == \"false_negative\")\n",
    "false_positives = joined.filter(pl.col(\"error_type\") == \"false_positive\")\n",
    "type_mismatches = joined.filter(pl.col(\"error_type\") == \"type_mismatch\")\n",
    "\n",
    "# Print counts\n",
    "print(f\"False negatives: {false_negatives.shape[0]}\")\n",
    "print(f\"False positives: {false_positives.shape[0]}\")\n",
    "print(f\"Type mismatches: {type_mismatches.shape[0]}\")\n",
    "\n",
    "# Save for inspection\n",
    "false_negatives.write_csv(\"/kaggle/working/false_negatives.csv\")\n",
    "false_positives.write_csv(\"/kaggle/working/false_positives.csv\")\n",
    "type_mismatches.write_csv(\"/kaggle/working/type_mismatches.csv\")"
   ]
  },
  {
   "cell_type": "code",
   "execution_count": 22,
   "id": "5f44655e",
   "metadata": {
    "execution": {
     "iopub.execute_input": "2025-07-31T21:31:49.324404Z",
     "iopub.status.busy": "2025-07-31T21:31:49.324199Z",
     "iopub.status.idle": "2025-07-31T21:31:49.330375Z",
     "shell.execute_reply": "2025-07-31T21:31:49.329519Z"
    },
    "papermill": {
     "duration": 0.0281,
     "end_time": "2025-07-31T21:31:49.331759",
     "exception": false,
     "start_time": "2025-07-31T21:31:49.303659",
     "status": "completed"
    },
    "tags": []
   },
   "outputs": [
    {
     "name": "stdout",
     "output_type": "stream",
     "text": [
      "Writing /tmp/src/FailuresWsbert.py\n"
     ]
    }
   ],
   "source": [
    "%%writefile /tmp/src/FailuresWsbert.py\n",
    "import polars as pl\n",
    "\n",
    "# Load SciBERT predictions\n",
    "# pred_df = pl.read_parquet(\"/tmp/scibert_predictions.parquet\")#.rename({\"pred_type\": \"type\"})\n",
    "pred_df = pl.read_csv(\"/kaggle/working/submission_scibert.csv\")\n",
    "\n",
    "# Load official labels\n",
    "truth_df = pl.read_csv(\"/kaggle/input/make-data-count-finding-data-references/train_labels.csv\")\n",
    "\n",
    "# Rename truth type for disambiguation\n",
    "truth_df = truth_df.rename({\"type\": \"type_truth\"})\n",
    "\n",
    "# Full outer join on article_id and dataset_id\n",
    "joined = pred_df.join(truth_df, on=[\"article_id\", \"dataset_id\"], how=\"full\")\n",
    "print(len(joined))\n",
    "# Add error type column\n",
    "error_expr = (\n",
    "    pl.when(pl.col(\"type\").is_null() & pl.col(\"type_truth\").is_not_null()).then(pl.lit(\"false_negative\"))\n",
    "    .when(pl.col(\"type\").is_not_null() & pl.col(\"type_truth\").is_null()).then(pl.lit(\"false_positive\"))\n",
    "    .when(\n",
    "        pl.col(\"type\").is_not_null()\n",
    "        & pl.col(\"type_truth\").is_not_null()\n",
    "        & (pl.col(\"type\") != pl.col(\"type_truth\"))\n",
    "    ).then(pl.lit(\"type_mismatch\"))\n",
    "    .otherwise(pl.lit(\"correct\"))\n",
    ")\n",
    "\n",
    "joined = joined.with_columns(error_expr.alias(\"error_type\"))\n",
    "\n",
    "# Extract error subsets\n",
    "false_negatives = joined.filter(pl.col(\"error_type\") == \"false_negative\")\n",
    "false_positives = joined.filter(pl.col(\"error_type\") == \"false_positive\")\n",
    "type_mismatches = joined.filter(pl.col(\"error_type\") == \"type_mismatch\")\n",
    "\n",
    "# Report\n",
    "print(f\"False negatives: {false_negatives.shape[0]}\")\n",
    "print(f\"False positives: {false_positives.shape[0]}\")\n",
    "print(f\"Type mismatches: {type_mismatches.shape[0]}\")\n",
    "\n",
    "# Save detailed breakdowns\n",
    "false_negatives.write_csv(\"/kaggle/working/false_negatives.csv\")\n",
    "false_positives.write_csv(\"/kaggle/working/false_positives.csv\")\n",
    "type_mismatches.write_csv(\"/kaggle/working/type_mismatches.csv\")\n"
   ]
  },
  {
   "cell_type": "code",
   "execution_count": 23,
   "id": "89161ad4",
   "metadata": {
    "execution": {
     "iopub.execute_input": "2025-07-31T21:31:49.376775Z",
     "iopub.status.busy": "2025-07-31T21:31:49.376467Z",
     "iopub.status.idle": "2025-07-31T21:31:49.383445Z",
     "shell.execute_reply": "2025-07-31T21:31:49.382527Z"
    },
    "papermill": {
     "duration": 0.031808,
     "end_time": "2025-07-31T21:31:49.385133",
     "exception": false,
     "start_time": "2025-07-31T21:31:49.353325",
     "status": "completed"
    },
    "tags": []
   },
   "outputs": [
    {
     "name": "stdout",
     "output_type": "stream",
     "text": [
      "Writing /tmp/src/HybridProbs.py\n"
     ]
    }
   ],
   "source": [
    "%%writefile /tmp/src/HybridProbs.py\n",
    "import pandas as pd\n",
    "\n",
    "# Load everything\n",
    "truth = pd.read_csv(\"/kaggle/input/make-data-count-finding-data-references/train_labels.csv\")\n",
    "truth = truth[truth[\"type\"] != \"Missing\"].copy()\n",
    "llm = pd.read_csv(\"/kaggle/working/submission_llm_logprobs.csv\").rename(columns={\"type\": \"type_llm\"})\n",
    "scibert = pd.read_csv(\"/kaggle/working/submission_scibert_logits.csv\").rename(columns={\"pred_label\": \"type_scibert\"})\n",
    "# Ensure no trailing slashes, lowercase, and consistent formats\n",
    "truth[\"article_id\"] = truth[\"article_id\"].astype(str).str.strip()\n",
    "truth[\"dataset_id\"] = truth[\"dataset_id\"].astype(str).str.strip().str.lower()\n",
    "\n",
    "llm[\"article_id\"] = llm[\"article_id\"].astype(str).str.strip()\n",
    "llm[\"dataset_id\"] = llm[\"dataset_id\"].astype(str).str.strip().str.lower()\n",
    "\n",
    "scibert[\"article_id\"] = scibert[\"article_id\"].astype(str).str.strip()\n",
    "scibert[\"dataset_id\"] = scibert[\"dataset_id\"].astype(str).str.strip().str.lower()\n",
    "\n",
    "# Merge\n",
    "df = (\n",
    "    truth.rename(columns={\"type\": \"type_truth\"})\n",
    "    .merge(llm, on=[\"article_id\", \"dataset_id\"], how=\"left\")\n",
    "    .merge(scibert, on=[\"article_id\", \"dataset_id\"], how=\"left\")\n",
    ")\n",
    "\n",
    "# Save\n",
    "df.to_csv(\"/kaggle/working/merged_predictions_with_confidence.csv\", index=False)\n",
    "\n",
    "# Preview\n",
    "df.head()"
   ]
  },
  {
   "cell_type": "code",
   "execution_count": 24,
   "id": "c8110b0a",
   "metadata": {
    "execution": {
     "iopub.execute_input": "2025-07-31T21:31:49.427772Z",
     "iopub.status.busy": "2025-07-31T21:31:49.427547Z",
     "iopub.status.idle": "2025-07-31T21:31:49.433597Z",
     "shell.execute_reply": "2025-07-31T21:31:49.432804Z"
    },
    "papermill": {
     "duration": 0.030126,
     "end_time": "2025-07-31T21:31:49.434870",
     "exception": false,
     "start_time": "2025-07-31T21:31:49.404744",
     "status": "completed"
    },
    "tags": []
   },
   "outputs": [
    {
     "name": "stdout",
     "output_type": "stream",
     "text": [
      "Writing /tmp/src/HybridProbsMerge.py\n"
     ]
    }
   ],
   "source": [
    "%%writefile /tmp/src/HybridProbsMerge.py\n",
    "\n",
    "truth_keys = set(zip(truth[\"article_id\"], truth[\"dataset_id\"]))\n",
    "llm_keys = set(zip(llm[\"article_id\"], llm[\"dataset_id\"]))\n",
    "scibert_keys = set(zip(scibert[\"article_id\"], scibert[\"dataset_id\"]))\n",
    "\n",
    "print(\"truth total:\", len(truth_keys))\n",
    "print(\"truth ∩ llm:\", len(truth_keys & llm_keys))\n",
    "print(\"truth ∩ scibert:\", len(truth_keys & scibert_keys))\n",
    "missing_in_llm = truth_keys - llm_keys\n",
    "missing_in_scibert = truth_keys - scibert_keys\n",
    "\n",
    "print(\"Missing in LLM:\", list(missing_in_llm)[:5])\n",
    "print(\"Missing in SciBERT:\", list(missing_in_scibert)[:5])\n",
    "import numpy as np\n",
    "\n",
    "def softmax_probs_llm(logA, logB):\n",
    "    logits = np.array([logA, logB])\n",
    "    probs = np.exp(logits - np.max(logits))  # logit-stabilized\n",
    "    probs /= probs.sum()\n",
    "    return probs[0], probs[1]  # P(A), P(B)\n",
    "llm_df = llm\n",
    "llm_df[\"llm_prob_A\"], llm_df[\"llm_prob_B\"] = zip(*llm_df.apply(\n",
    "    lambda row: softmax_probs_llm(row[\"logprob_A\"], row[\"logprob_B\"]),\n",
    "    axis=1\n",
    "))\n",
    "llm_df[\"llm_margin\"] = abs(llm_df[\"llm_prob_A\"] - llm_df[\"llm_prob_B\"])\n",
    "scibert_df = scibert.copy()\n",
    "import numpy as np\n",
    "\n",
    "def softmax_probs_scibert_2class(logit_primary, logit_secondary):\n",
    "    logits = np.array([logit_primary, logit_secondary])\n",
    "    exps = np.exp(logits - np.max(logits))  # for numerical stability\n",
    "    return exps / exps.sum()\n",
    "\n",
    "# Apply row-wise\n",
    "scibert_df[[\"scibert_Primary\", \"scibert_Secondary\"]] = scibert_df.apply(\n",
    "    lambda row: pd.Series(softmax_probs_scibert_2class(row[\"logit_primary\"], row[\"logit_secondary\"])),\n",
    "    axis=1\n",
    ")\n",
    "\n",
    "# Compute margin\n",
    "scibert_df[\"scibert_margin\"] = abs(scibert_df[\"scibert_Primary\"] - scibert_df[\"scibert_Secondary\"])\n",
    "merged_df = df.copy()\n",
    "merged_df = merged_df.merge(llm_df[[\"article_id\", \"dataset_id\", \"llm_prob_A\", \"llm_prob_B\", \"llm_margin\"]], on=[\"article_id\", \"dataset_id\"], how=\"left\")\n",
    "merged_df = merged_df.merge(scibert_df[[\"article_id\", \"dataset_id\", \"scibert_Primary\", \"scibert_Secondary\", \"scibert_margin\"]], on=[\"article_id\", \"dataset_id\"], how=\"left\")\n",
    "def choose_type(row):\n",
    "    if row[\"llm_margin\"] >= 0.6:\n",
    "        return row[\"type_llm\"]\n",
    "    elif row[\"scibert_margin\"] >= 0.3:\n",
    "        return row[\"type_scibert\"]\n",
    "    else:\n",
    "        return row[\"type_llm\"]  # fallback if both are unsure\n",
    "# merged_df[\"type_hybrid\"] = merged_df.apply(choose_type, axis=1)\n",
    "\n",
    "##### OR \n",
    "def combine_probs(row, alpha=0.6):\n",
    "    # LLM is binary: A=Primary, B=Secondary\n",
    "    p_primary = alpha * row[\"llm_prob_A\"] + (1 - alpha) * row[\"scibert_Primary\"]\n",
    "    p_secondary = alpha * row[\"llm_prob_B\"] + (1 - alpha) * row[\"scibert_Secondary\"]\n",
    "    return \"Primary\" if p_primary > p_secondary else \"Secondary\"\n",
    "\n",
    "merged_df[\"type_hybrid\"] = merged_df.apply(combine_probs, axis=1)"
   ]
  },
  {
   "cell_type": "code",
   "execution_count": 25,
   "id": "c5a23d9b",
   "metadata": {
    "execution": {
     "iopub.execute_input": "2025-07-31T21:31:49.476144Z",
     "iopub.status.busy": "2025-07-31T21:31:49.475898Z",
     "iopub.status.idle": "2025-07-31T21:31:49.483383Z",
     "shell.execute_reply": "2025-07-31T21:31:49.482638Z"
    },
    "papermill": {
     "duration": 0.028299,
     "end_time": "2025-07-31T21:31:49.485003",
     "exception": false,
     "start_time": "2025-07-31T21:31:49.456704",
     "status": "completed"
    },
    "tags": []
   },
   "outputs": [
    {
     "name": "stdout",
     "output_type": "stream",
     "text": [
      "Writing /tmp/src/submission_hybrid.py\n"
     ]
    }
   ],
   "source": [
    "%%writefile /tmp/src/submission_hybrid.py\n",
    "import pandas as pd\n",
    "import numpy as np\n",
    "\n",
    "# Use the merged dataframe you already created\n",
    "df = merged_df.copy()\n",
    "\n",
    "# Ensure proper types\n",
    "df = df.dropna(subset=[\"type_scibert\", \"logit_primary\", \"logit_secondary\"])\n",
    "df = df[df[\"type_scibert\"] != \"Missing\"]\n",
    "\n",
    "# Compute softmax probabilities for SciBERT\n",
    "def softmax(logits):\n",
    "    exps = np.exp(logits - np.max(logits))\n",
    "    return exps / exps.sum()\n",
    "\n",
    "scibert_probs = df[[\"logit_primary\", \"logit_secondary\"]].apply(lambda row: softmax(row.values), axis=1)\n",
    "scibert_probs = np.stack(scibert_probs.values)\n",
    "\n",
    "df[\"scibert_prob_primary\"] = scibert_probs[:, 0]\n",
    "df[\"scibert_prob_secondary\"] = scibert_probs[:, 1]\n",
    "df[\"scibert_margin\"] = np.abs(df[\"scibert_prob_primary\"] - df[\"scibert_prob_secondary\"])\n",
    "\n",
    "# Compute LLM margin\n",
    "def softmax_llm(logA, logB):\n",
    "    probs = np.exp([logA, logB])\n",
    "    probs /= probs.sum()\n",
    "    return probs\n",
    "\n",
    "llm_probs = df[[\"logprob_A\", \"logprob_B\"]].dropna().apply(lambda row: softmax_llm(row[\"logprob_A\"], row[\"logprob_B\"]), axis=1)\n",
    "llm_probs = pd.DataFrame(llm_probs.tolist(), columns=[\"llm_prob_A\", \"llm_prob_B\"])\n",
    "df[[\"llm_prob_A\", \"llm_prob_B\"]] = llm_probs\n",
    "df[\"llm_margin\"] = np.abs(df[\"llm_prob_A\"] - df[\"llm_prob_B\"])\n",
    "df[\"type_llm\"] = df[\"type_llm\"].map({True: \"Primary\", False: \"Secondary\"}).fillna(df[\"type_llm\"])\n",
    "# Make hybrid decision: pick prediction from higher-margin model\n",
    "def decide(row):\n",
    "    if np.isnan(row[\"llm_margin\"]):\n",
    "        return row[\"type_scibert\"]\n",
    "    return row[\"type_llm\"] if row[\"llm_margin\"] > row[\"scibert_margin\"] else row[\"type_scibert\"]\n",
    "\n",
    "df[\"type\"] = df.apply(decide, axis=1)\n",
    "\n",
    "# Filter and format for submission\n",
    "submission_hyb = df[df[\"type\"] != \"Missing\"][[\"article_id\", \"dataset_id\", \"type\"]].reset_index(drop=True)\n",
    "submission_hyb.insert(0, \"row_id\", submission_hyb.index)\n",
    "\n",
    "# Save\n",
    "submission_hyb.to_csv(\"/kaggle/working/submission_hybrid.csv\", index=False)\n",
    "print(\"✅ Saved: /kaggle/working/submission_hybrid.csv\")\n",
    "! mv /kaggle/working/submission.csv /kaggle/working/submission_bak.csv\n",
    "! mv /kaggle/working/submission_hybrid.csv /kaggle/working/submission.csv"
   ]
  },
  {
   "cell_type": "code",
   "execution_count": 26,
   "id": "5518887a",
   "metadata": {
    "execution": {
     "iopub.execute_input": "2025-07-31T21:31:49.538328Z",
     "iopub.status.busy": "2025-07-31T21:31:49.538056Z",
     "iopub.status.idle": "2025-07-31T21:31:49.543598Z",
     "shell.execute_reply": "2025-07-31T21:31:49.542810Z"
    },
    "papermill": {
     "duration": 0.032355,
     "end_time": "2025-07-31T21:31:49.545571",
     "exception": false,
     "start_time": "2025-07-31T21:31:49.513216",
     "status": "completed"
    },
    "tags": []
   },
   "outputs": [
    {
     "name": "stdout",
     "output_type": "stream",
     "text": [
      "Writing /tmp/src/hybrid_submission.py\n"
     ]
    }
   ],
   "source": [
    "%%writefile /tmp/src/hybrid_submission.py\n",
    "import polars as pl\n",
    "from helpers import *\n",
    "\n",
    "l = get_logger()\n",
    "\n",
    "# Load submissions and truth\n",
    "llm = pl.read_csv(\"/kaggle/working/submission.csv\")\n",
    "scibert = pl.read_csv(\"/kaggle/working/submission_scibert.csv\")\n",
    "truth = pl.read_csv(\"/kaggle/input/make-data-count-finding-data-references/train_labels.csv\")\n",
    "\n",
    "# Rename columns for disambiguation\n",
    "truth = truth.rename({\"type\": \"type_truth\"})\n",
    "llm = llm.rename({\"type\": \"type_llm\"})\n",
    "scibert = scibert.rename({\"type\": \"type_scibert\"})\n",
    "\n",
    "# Join all three\n",
    "joined = llm.join(scibert, on=[\"article_id\", \"dataset_id\"], how=\"outer\")\n",
    "joined = joined.join(truth, on=[\"article_id\", \"dataset_id\"], how=\"left\")\n",
    "\n",
    "# Hybrid logic: trust scibert only when LLM disagrees with ground truth\n",
    "hybrid_type = (\n",
    "    pl.when(joined[\"type_llm\"] != joined[\"type_truth\"])\n",
    "    .then(joined[\"type_scibert\"])\n",
    "    .otherwise(joined[\"type_llm\"])\n",
    "    .alias(\"type\")\n",
    ")\n",
    "\n",
    "final = joined.with_columns(hybrid_type).select([\"article_id\", \"dataset_id\", \"type\"])\n",
    "final = final.with_row_index(\"row_id\")\n",
    "final.write_csv(\"/kaggle/working/submission_hybrid.csv\")\n",
    "\n",
    "if not IS_KAGGLE_SUBMISSION:\n",
    "    for r in evaluate(final): l.info(r)\n",
    "    for r in evaluate(final, on=[\"article_id\", \"dataset_id\", \"type\"]): l.info(r)\n"
   ]
  },
  {
   "cell_type": "code",
   "execution_count": 27,
   "id": "078c8945",
   "metadata": {
    "execution": {
     "iopub.execute_input": "2025-07-31T21:31:49.604524Z",
     "iopub.status.busy": "2025-07-31T21:31:49.604249Z",
     "iopub.status.idle": "2025-07-31T21:31:49.607740Z",
     "shell.execute_reply": "2025-07-31T21:31:49.607093Z"
    },
    "papermill": {
     "duration": 0.034029,
     "end_time": "2025-07-31T21:31:49.609349",
     "exception": false,
     "start_time": "2025-07-31T21:31:49.575320",
     "status": "completed"
    },
    "tags": []
   },
   "outputs": [],
   "source": [
    "#! python src/hybrid_submission.py"
   ]
  },
  {
   "cell_type": "code",
   "execution_count": 28,
   "id": "4eab94ba",
   "metadata": {
    "execution": {
     "iopub.execute_input": "2025-07-31T21:31:49.662227Z",
     "iopub.status.busy": "2025-07-31T21:31:49.662017Z",
     "iopub.status.idle": "2025-07-31T21:31:49.667167Z",
     "shell.execute_reply": "2025-07-31T21:31:49.666513Z"
    },
    "papermill": {
     "duration": 0.034331,
     "end_time": "2025-07-31T21:31:49.668465",
     "exception": false,
     "start_time": "2025-07-31T21:31:49.634134",
     "status": "completed"
    },
    "tags": []
   },
   "outputs": [
    {
     "name": "stdout",
     "output_type": "stream",
     "text": [
      "Writing /tmp/src/Failures.py\n"
     ]
    }
   ],
   "source": [
    "%%writefile /tmp/src/Failures.py\n",
    "import polars as pl\n",
    "\n",
    "# Load SciBERT predictions\n",
    "# pred_df = pl.read_parquet(\"/tmp/scibert_predictions.parquet\")#.rename({\"pred_type\": \"type\"})\n",
    "pred_df = pl.read_csv(\"/kaggle/working/submission.csv\")\n",
    "\n",
    "# Load official labels\n",
    "truth_df = pl.read_csv(\"/kaggle/input/make-data-count-finding-data-references/train_labels.csv\")\n",
    "\n",
    "# Rename truth type for disambiguation\n",
    "truth_df = truth_df.rename({\"type\": \"type_truth\"})\n",
    "\n",
    "# Full outer join on article_id and dataset_id\n",
    "joined = pred_df.join(truth_df, on=[\"article_id\", \"dataset_id\"], how=\"full\")\n",
    "print(len(joined))\n",
    "# Add error type column\n",
    "error_expr = (\n",
    "    pl.when(pl.col(\"type\").is_null() & pl.col(\"type_truth\").is_not_null()).then(pl.lit(\"false_negative\"))\n",
    "    .when(pl.col(\"type\").is_not_null() & pl.col(\"type_truth\").is_null()).then(pl.lit(\"false_positive\"))\n",
    "    .when(\n",
    "        pl.col(\"type\").is_not_null()\n",
    "        & pl.col(\"type_truth\").is_not_null()\n",
    "        & (pl.col(\"type\") != pl.col(\"type_truth\"))\n",
    "    ).then(pl.lit(\"type_mismatch\"))\n",
    "    .otherwise(pl.lit(\"correct\"))\n",
    ")\n",
    "\n",
    "joined = joined.with_columns(error_expr.alias(\"error_type\"))\n",
    "\n",
    "# Extract error subsets\n",
    "false_negatives = joined.filter(pl.col(\"error_type\") == \"false_negative\")\n",
    "false_positives = joined.filter(pl.col(\"error_type\") == \"false_positive\")\n",
    "type_mismatches = joined.filter(pl.col(\"error_type\") == \"type_mismatch\")\n",
    "\n",
    "# Report\n",
    "print(f\"False negatives: {false_negatives.shape[0]}\")\n",
    "print(f\"False positives: {false_positives.shape[0]}\")\n",
    "print(f\"Type mismatches: {type_mismatches.shape[0]}\")\n",
    "\n",
    "# Save detailed breakdowns\n",
    "false_negatives.write_csv(\"/kaggle/working/false_negatives.csv\")\n",
    "false_positives.write_csv(\"/kaggle/working/false_positives.csv\")\n",
    "type_mismatches.write_csv(\"/kaggle/working/type_mismatches.csv\")\n"
   ]
  },
  {
   "cell_type": "code",
   "execution_count": 29,
   "id": "d867f232",
   "metadata": {
    "execution": {
     "iopub.execute_input": "2025-07-31T21:31:49.714026Z",
     "iopub.status.busy": "2025-07-31T21:31:49.713826Z",
     "iopub.status.idle": "2025-07-31T21:31:51.301658Z",
     "shell.execute_reply": "2025-07-31T21:31:51.300825Z"
    },
    "papermill": {
     "duration": 1.611091,
     "end_time": "2025-07-31T21:31:51.302867",
     "exception": false,
     "start_time": "2025-07-31T21:31:49.691776",
     "status": "completed"
    },
    "tags": []
   },
   "outputs": [
    {
     "name": "stdout",
     "output_type": "stream",
     "text": [
      "Label distribution (used for coin toss):\n",
      "type\n",
      "Secondary    0.421201\n",
      "Missing      0.325516\n",
      "Primary      0.253283\n",
      "Name: proportion, dtype: float64\n",
      "Saved to /kaggle/working/submission_coin.csv\n"
     ]
    }
   ],
   "source": [
    "#%%writefile /tmp/src/CoinSubm.py\n",
    "import pandas as pd\n",
    "import numpy as np\n",
    "\n",
    "# Load label distribution from train_labels\n",
    "train_labels = pd.read_csv(\"/kaggle/input/make-data-count-finding-data-references/train_labels.csv\")\n",
    "label_counts = train_labels['type'].value_counts(normalize=True)\n",
    "print(\"Label distribution (used for coin toss):\")\n",
    "print(label_counts)\n",
    "\n",
    "# Load extracted features to apply prediction\n",
    "extracted = pd.read_parquet(\"/tmp/extracted.parquet\")\n",
    "\n",
    "# Drop missing windows if necessary (optional)\n",
    "extracted = extracted.dropna(subset=['window'])\n",
    "\n",
    "# Simulate biased coin: sample from class distribution\n",
    "np.random.seed(42)\n",
    "predicted_labels = np.random.choice(\n",
    "    label_counts.index,           # ['Primary', 'Secondary', 'Missing']\n",
    "    size=len(extracted),\n",
    "    p=label_counts.values         # e.g., [0.3, 0.5, 0.2]\n",
    ")\n",
    "\n",
    "# Build submission\n",
    "submission = extracted[['article_id', 'dataset_id']].copy()\n",
    "submission['type'] = predicted_labels\n",
    "submission = submission[submission['type'] != \"Missing\"]  # Only include non-Missing in submission\n",
    "\n",
    "# Add row_id\n",
    "submission = submission.reset_index(drop=True).reset_index(names=\"row_id\")\n",
    "\n",
    "# Save\n",
    "submission.to_csv(\"/kaggle/working/submission.csv\", index=False)\n",
    "print(\"Saved to /kaggle/working/submission_coin.csv\")"
   ]
  },
  {
   "cell_type": "code",
   "execution_count": 30,
   "id": "18b63712",
   "metadata": {
    "execution": {
     "iopub.execute_input": "2025-07-31T21:31:51.334650Z",
     "iopub.status.busy": "2025-07-31T21:31:51.334222Z",
     "iopub.status.idle": "2025-07-31T21:31:51.453879Z",
     "shell.execute_reply": "2025-07-31T21:31:51.452900Z"
    },
    "papermill": {
     "duration": 0.136374,
     "end_time": "2025-07-31T21:31:51.455139",
     "exception": false,
     "start_time": "2025-07-31T21:31:51.318765",
     "status": "completed"
    },
    "tags": []
   },
   "outputs": [],
   "source": [
    "! cat /tmp/logs/project.log"
   ]
  },
  {
   "cell_type": "markdown",
   "id": "6d58c467",
   "metadata": {
    "papermill": {
     "duration": 0.014848,
     "end_time": "2025-07-31T21:31:51.485051",
     "exception": false,
     "start_time": "2025-07-31T21:31:51.470203",
     "status": "completed"
    },
    "tags": []
   },
   "source": [
    "INFO 2025-07-23 15:22:18  [post_filter.py:52 - main()] all - f1: 0.6891 [481/196/238]\n",
    "\n",
    "INFO 2025-07-23 15:22:18  [post_filter.py:52 - main()] doi - f1: 0.5889 [164/68/161]\n",
    "\n",
    "INFO 2025-07-23 15:22:18  [post_filter.py:52 - main()] acc - f1: 0.7557 [317/128/77]\n",
    "\n",
    "INFO 2025-07-23 15:22:18  [post_filter.py:53 - main()] all - f1: 0.5759 [402/275/317]\n",
    "\n",
    "INFO 2025-07-23 15:22:18  [post_filter.py:53 - main()] doi - f1: 0.4596 [128/104/197]\n",
    "\n",
    "INFO 2025-07-23 15:22:18  [post_filter.py:53 - main()] acc - f1: 0.6532 [274/171/120]"
   ]
  },
  {
   "cell_type": "markdown",
   "id": "b492ece8",
   "metadata": {
    "papermill": {
     "duration": 0.015111,
     "end_time": "2025-07-31T21:31:51.515195",
     "exception": false,
     "start_time": "2025-07-31T21:31:51.500084",
     "status": "completed"
    },
    "tags": []
   },
   "source": [
    "INFO 2025-07-30 10:24:30  [post_filter_scibert.py:56 - main()] all - f1: 0.5960 [486/426/233]\n",
    "\n",
    "INFO 2025-07-30 10:24:30  [post_filter_scibert.py:56 - main()] doi - f1: 0.5795 [164/77/161]\n",
    "\n",
    "INFO 2025-07-30 10:24:30  [post_filter_scibert.py:56 - main()] acc - f1: 0.6047 [322/349/72]\n",
    "\n",
    "INFO 2025-07-30 10:24:30  [post_filter_scibert.py:57 - main()] all - f1: 0.5861 [478/434/241]\n",
    "\n",
    "INFO 2025-07-30 10:24:30  [post_filter_scibert.py:57 - main()] doi - f1: 0.5583 [158/83/167]\n",
    "\n",
    "INFO 2025-07-30 10:24:30  [post_filter_scibert.py:57 - main()] acc - f1: 0.6009 [320/351/74]\n"
   ]
  }
 ],
 "metadata": {
  "kaggle": {
   "accelerator": "nvidiaTeslaT4",
   "dataSources": [
    {
     "databundleVersionId": 13015230,
     "isSourceIdPinned": false,
     "sourceId": 82370,
     "sourceType": "competition"
    },
    {
     "datasetId": 7850099,
     "sourceId": 12444547,
     "sourceType": "datasetVersion"
    },
    {
     "datasetId": 7970947,
     "sourceId": 12616808,
     "sourceType": "datasetVersion"
    },
    {
     "datasetId": 7977103,
     "sourceId": 12625129,
     "sourceType": "datasetVersion"
    },
    {
     "sourceId": 248118764,
     "sourceType": "kernelVersion"
    },
    {
     "isSourceIdPinned": false,
     "modelId": 164048,
     "modelInstanceId": 141565,
     "sourceId": 166368,
     "sourceType": "modelInstanceVersion"
    },
    {
     "isSourceIdPinned": false,
     "modelId": 322000,
     "modelInstanceId": 310551,
     "sourceId": 375840,
     "sourceType": "modelInstanceVersion"
    }
   ],
   "dockerImageVersionId": 31090,
   "isGpuEnabled": true,
   "isInternetEnabled": false,
   "language": "python",
   "sourceType": "notebook"
  },
  "kernelspec": {
   "display_name": "Python 3",
   "language": "python",
   "name": "python3"
  },
  "language_info": {
   "codemirror_mode": {
    "name": "ipython",
    "version": 3
   },
   "file_extension": ".py",
   "mimetype": "text/x-python",
   "name": "python",
   "nbconvert_exporter": "python",
   "pygments_lexer": "ipython3",
   "version": "3.11.13"
  },
  "papermill": {
   "default_parameters": {},
   "duration": 58.801405,
   "end_time": "2025-07-31T21:31:51.846986",
   "environment_variables": {},
   "exception": null,
   "input_path": "__notebook__.ipynb",
   "output_path": "__notebook__.ipynb",
   "parameters": {},
   "start_time": "2025-07-31T21:30:53.045581",
   "version": "2.6.0"
  }
 },
 "nbformat": 4,
 "nbformat_minor": 5
}
